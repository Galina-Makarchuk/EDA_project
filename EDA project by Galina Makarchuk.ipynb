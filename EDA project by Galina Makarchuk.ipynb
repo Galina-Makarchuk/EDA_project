{
 "cells": [
  {
   "cell_type": "markdown",
   "id": "075eee83-2131-4405-8772-a6ccaa98f3dd",
   "metadata": {},
   "source": [
    "<h1>Exploratory Data Analysis Project</h1>"
   ]
  },
  {
   "cell_type": "markdown",
   "id": "438bb8a4-6562-4557-b38c-540929e5a82d",
   "metadata": {},
   "source": [
    "# Table of Contents <a id='back'></a>\n",
    "\n",
    "* [Intro](#intro)\n",
    "* [0. Opening data files](#data_review)\n",
    "* [1. General contents of each table](#general_contents)\n",
    "    * [Conclusions](#conclusions_1)\n",
    "* [2. Data preprocessing](#data_preprocessing)\n",
    "    * [2.1. Data types](#data_types)\n",
    "        * [2.1.1. column 'days_since_prior_order'](#column_1)\n",
    "        * [2.1.2. column 'add_to_cart_order'](#column_2)\n",
    "        * [Summary](#summary_1)\n",
    "    * [2.2. Duplicate values](#duplicate_values)\n",
    "        * [2.2.1. Obvious duplicates](#obvious)\n",
    "        * [2.2.2. Unique duplicates](#unique)\n",
    "        * [2.2.3. Implicit duplicates](#implicit)\n",
    "            * [2.2.3.1. table 'products': column 'product_name'](#implicit_product)\n",
    "            * [2.2.3.2. table 'aisles': column 'aisle'](#implicit_aisle)\n",
    "            * [2.2.3.3. table 'departments': column 'department'](#implicit_department)\n",
    "        * [Summary](#summary_2)\n",
    "    * [2.3. Missing values](#missing_values)\n",
    "        * [2.3.1. table 'orders'](#table_orders)\n",
    "        * [2.3.2. table 'products'](#table_products)\n",
    "        * [2.3.3. table 'order_products'](#order_products)\n",
    "        * [Summary](#summary_3)   \n",
    "    * [Conclusions](#conclusions_2)\n",
    "* [3. Analysis](#analysis)\n",
    "    * [3.1. Easy](#easy)\n",
    "        * [3.1.1. Task: values' rationality](#task_1)\n",
    "        * [3.1.2. Plot 1: hourly customer traffic](#plot_1)\n",
    "        * [3.1.3. Plot 2: daily purchase volume](#plot_2)\n",
    "        * [3.1.4. Plot 3: time between orders](#plot_3)\n",
    "    * [Summary](#summary_4)\n",
    "    * [3.2. Medium](#medium)\n",
    "        * [3.2.1. Plot 1: order time distribution difference](#plot_4)\n",
    "        * [3.2.2. Plot 2: order count distribution](#plot_5)\n",
    "        * [3.2.3. Task: top 20 bestsellers](#task_2)\n",
    "    * [Summary](#summary_5)\n",
    "    * [3.3. Hard](#hard)\n",
    "        * [3.3.1. Task 1: number of items per order](#task_3)\n",
    "        * [3.3.2. Task 2: top 20 reordered items](#task_4)\n",
    "        * [3.3.3. Task 3: product reorder rate](#task_5)\n",
    "        * [3.3.4. Task 4: product reorder share per customer](#task_6)\n",
    "        * [3.3.5. Task 5: top 20 first added items](#task_7)\n",
    "        * [3.3.6. Extra: top 20 items: reordered vs first added](#extra)\n",
    "    * [Summary](#summary_6)\n",
    "* [Findings](#findings)"
   ]
  },
  {
   "cell_type": "markdown",
   "id": "acfc668b-2e80-4480-851f-a42d053097fd",
   "metadata": {},
   "source": [
    "<h1>Intro</h1> <a id='intro'></a>\n",
    "\n",
    "__Data description:__ \\\n",
    "This project works with data from Instacart. There are five tables in the dataset.\n",
    "\n",
    "__Project goal:__ \\\n",
    "Provide a report that gives insights into shopping habits of Instacart customers.\n",
    "\n",
    "__Customers' behavior__ is analyzed through these factors:\n",
    "* order volume\n",
    "* shopping duration\n",
    "* product preferences\n",
    "\n",
    "__Main steps:__\n",
    "* overview of the dataframes\n",
    "* data preprocessing\n",
    "* EDA with graphs that communicate the results\n",
    "\n",
    "__Tasks__\n",
    "* __easy:__\n",
    "    * verify values' rationality\n",
    "    * plot hourly customer traffic\n",
    "    * plot daily purchase volume\n",
    "    * create a plot that shows time between orders\n",
    "* __medium:__\n",
    "    * explore the difference in order time distributions via histograms\n",
    "    * plot the distribution for the number of orders that customers place\n",
    "    * find the top 20 products that are ordered most frequently\n",
    "* __hard:__\n",
    "    * calculate the number of items per order\n",
    "    * identify the top 20 items that are reordered most frequently\n",
    "    * determine reorder rate of each product\n",
    "    * define the proportion of products being reordered per customer\n",
    "    * discover the top 20 items that people put in their carts first\n",
    "    * compare the top 20 most reordered items with the top 20 items added to carts first"
   ]
  },
  {
   "cell_type": "markdown",
   "id": "c706cc26-24a0-40be-a5e5-f80937961555",
   "metadata": {},
   "source": [
    "<h1>0. Opening data files</h1> <a id='data_review'></a>"
   ]
  },
  {
   "cell_type": "code",
   "execution_count": 6,
   "id": "c95385b1-b8df-4c0b-a463-56af1f7202a7",
   "metadata": {
    "editable": true,
    "slideshow": {
     "slide_type": ""
    },
    "tags": []
   },
   "outputs": [],
   "source": [
    "import pandas as pd\n",
    "import numpy as np\n",
    "from matplotlib import pyplot as plt"
   ]
  },
  {
   "cell_type": "markdown",
   "id": "53b37526-177d-431a-a660-71169a7e521e",
   "metadata": {},
   "source": [
    " The try-except blocks are used to specify the local and common pathes to the files."
   ]
  },
  {
   "cell_type": "code",
   "execution_count": 8,
   "id": "107ca89d-63a4-4e07-aa04-734eab614aed",
   "metadata": {},
   "outputs": [],
   "source": [
    "try:\n",
    "    orders=pd.read_csv('instacart_orders.csv', sep=';')\n",
    "    products=pd.read_csv('products.csv', sep=';')\n",
    "    order_products=pd.read_csv('order_products.csv', sep=';')\n",
    "    aisles=pd.read_csv('aisles.csv', sep=';')\n",
    "    departments=pd.read_csv('departments.csv', sep=';')\n",
    "except:\n",
    "    orders=pd.read_csv('/datasets/instacart_orders.csv', sep=';')\n",
    "    products=pd.read_csv('/datasets/products.csv', sep=';')\n",
    "    order_products=pd.read_csv('/datasets/order_products.csv', sep=';')\n",
    "    aisles=pd.read_csv('/datasets/aisles.csv', sep=';')\n",
    "    departments=pd.read_csv('/datasets/departments.csv', sep=';')"
   ]
  },
  {
   "cell_type": "markdown",
   "id": "b84453fd-1afd-4717-bd19-2c928f2fbfc5",
   "metadata": {},
   "source": [
    "[Back to Contents](#back)"
   ]
  },
  {
   "cell_type": "markdown",
   "id": "658e7487-be01-4e69-87f0-017b8617dcde",
   "metadata": {},
   "source": [
    "<h1>1. General contents of each table</h1> <a id='general_contents'></a>"
   ]
  },
  {
   "cell_type": "code",
   "execution_count": 11,
   "id": "b4a00bab-566b-4448-b725-d2d40f91804b",
   "metadata": {},
   "outputs": [
    {
     "name": "stdout",
     "output_type": "stream",
     "text": [
      "<class 'pandas.core.frame.DataFrame'>\n",
      "RangeIndex: 478967 entries, 0 to 478966\n",
      "Data columns (total 6 columns):\n",
      " #   Column                  Non-Null Count   Dtype  \n",
      "---  ------                  --------------   -----  \n",
      " 0   order_id                478967 non-null  int64  \n",
      " 1   user_id                 478967 non-null  int64  \n",
      " 2   order_number            478967 non-null  int64  \n",
      " 3   order_dow               478967 non-null  int64  \n",
      " 4   order_hour_of_day       478967 non-null  int64  \n",
      " 5   days_since_prior_order  450148 non-null  float64\n",
      "dtypes: float64(1), int64(5)\n",
      "memory usage: 21.9 MB\n"
     ]
    },
    {
     "data": {
      "text/html": [
       "<div>\n",
       "<style scoped>\n",
       "    .dataframe tbody tr th:only-of-type {\n",
       "        vertical-align: middle;\n",
       "    }\n",
       "\n",
       "    .dataframe tbody tr th {\n",
       "        vertical-align: top;\n",
       "    }\n",
       "\n",
       "    .dataframe thead th {\n",
       "        text-align: right;\n",
       "    }\n",
       "</style>\n",
       "<table border=\"1\" class=\"dataframe\">\n",
       "  <thead>\n",
       "    <tr style=\"text-align: right;\">\n",
       "      <th></th>\n",
       "      <th>order_id</th>\n",
       "      <th>user_id</th>\n",
       "      <th>order_number</th>\n",
       "      <th>order_dow</th>\n",
       "      <th>order_hour_of_day</th>\n",
       "      <th>days_since_prior_order</th>\n",
       "    </tr>\n",
       "  </thead>\n",
       "  <tbody>\n",
       "    <tr>\n",
       "      <th>0</th>\n",
       "      <td>1515936</td>\n",
       "      <td>183418</td>\n",
       "      <td>11</td>\n",
       "      <td>6</td>\n",
       "      <td>13</td>\n",
       "      <td>30.0</td>\n",
       "    </tr>\n",
       "    <tr>\n",
       "      <th>1</th>\n",
       "      <td>1690866</td>\n",
       "      <td>163593</td>\n",
       "      <td>5</td>\n",
       "      <td>5</td>\n",
       "      <td>12</td>\n",
       "      <td>9.0</td>\n",
       "    </tr>\n",
       "    <tr>\n",
       "      <th>2</th>\n",
       "      <td>1454967</td>\n",
       "      <td>39980</td>\n",
       "      <td>4</td>\n",
       "      <td>5</td>\n",
       "      <td>19</td>\n",
       "      <td>2.0</td>\n",
       "    </tr>\n",
       "    <tr>\n",
       "      <th>3</th>\n",
       "      <td>1768857</td>\n",
       "      <td>82516</td>\n",
       "      <td>56</td>\n",
       "      <td>0</td>\n",
       "      <td>20</td>\n",
       "      <td>10.0</td>\n",
       "    </tr>\n",
       "    <tr>\n",
       "      <th>4</th>\n",
       "      <td>3007858</td>\n",
       "      <td>196724</td>\n",
       "      <td>2</td>\n",
       "      <td>4</td>\n",
       "      <td>12</td>\n",
       "      <td>17.0</td>\n",
       "    </tr>\n",
       "  </tbody>\n",
       "</table>\n",
       "</div>"
      ],
      "text/plain": [
       "   order_id  user_id  order_number  order_dow  order_hour_of_day  \\\n",
       "0   1515936   183418            11          6                 13   \n",
       "1   1690866   163593             5          5                 12   \n",
       "2   1454967    39980             4          5                 19   \n",
       "3   1768857    82516            56          0                 20   \n",
       "4   3007858   196724             2          4                 12   \n",
       "\n",
       "   days_since_prior_order  \n",
       "0                    30.0  \n",
       "1                     9.0  \n",
       "2                     2.0  \n",
       "3                    10.0  \n",
       "4                    17.0  "
      ]
     },
     "execution_count": 11,
     "metadata": {},
     "output_type": "execute_result"
    }
   ],
   "source": [
    "orders.info()\n",
    "orders.head()"
   ]
  },
  {
   "cell_type": "markdown",
   "id": "af9a7a61-2b42-4d65-bd66-835b6bce21f4",
   "metadata": {},
   "source": [
    "__Conclusion:__ \n",
    "* The table orders has 6 columns. \n",
    "* 1 column with missing values: days_since_prior_order."
   ]
  },
  {
   "cell_type": "code",
   "execution_count": 13,
   "id": "ee7890eb-173b-4944-8a74-cdb2cb9b0f32",
   "metadata": {},
   "outputs": [
    {
     "name": "stdout",
     "output_type": "stream",
     "text": [
      "<class 'pandas.core.frame.DataFrame'>\n",
      "RangeIndex: 49694 entries, 0 to 49693\n",
      "Data columns (total 4 columns):\n",
      " #   Column         Non-Null Count  Dtype \n",
      "---  ------         --------------  ----- \n",
      " 0   product_id     49694 non-null  int64 \n",
      " 1   product_name   48436 non-null  object\n",
      " 2   aisle_id       49694 non-null  int64 \n",
      " 3   department_id  49694 non-null  int64 \n",
      "dtypes: int64(3), object(1)\n",
      "memory usage: 1.5+ MB\n"
     ]
    },
    {
     "data": {
      "text/html": [
       "<div>\n",
       "<style scoped>\n",
       "    .dataframe tbody tr th:only-of-type {\n",
       "        vertical-align: middle;\n",
       "    }\n",
       "\n",
       "    .dataframe tbody tr th {\n",
       "        vertical-align: top;\n",
       "    }\n",
       "\n",
       "    .dataframe thead th {\n",
       "        text-align: right;\n",
       "    }\n",
       "</style>\n",
       "<table border=\"1\" class=\"dataframe\">\n",
       "  <thead>\n",
       "    <tr style=\"text-align: right;\">\n",
       "      <th></th>\n",
       "      <th>product_id</th>\n",
       "      <th>product_name</th>\n",
       "      <th>aisle_id</th>\n",
       "      <th>department_id</th>\n",
       "    </tr>\n",
       "  </thead>\n",
       "  <tbody>\n",
       "    <tr>\n",
       "      <th>0</th>\n",
       "      <td>1</td>\n",
       "      <td>Chocolate Sandwich Cookies</td>\n",
       "      <td>61</td>\n",
       "      <td>19</td>\n",
       "    </tr>\n",
       "    <tr>\n",
       "      <th>1</th>\n",
       "      <td>2</td>\n",
       "      <td>All-Seasons Salt</td>\n",
       "      <td>104</td>\n",
       "      <td>13</td>\n",
       "    </tr>\n",
       "    <tr>\n",
       "      <th>2</th>\n",
       "      <td>3</td>\n",
       "      <td>Robust Golden Unsweetened Oolong Tea</td>\n",
       "      <td>94</td>\n",
       "      <td>7</td>\n",
       "    </tr>\n",
       "    <tr>\n",
       "      <th>3</th>\n",
       "      <td>4</td>\n",
       "      <td>Smart Ones Classic Favorites Mini Rigatoni Wit...</td>\n",
       "      <td>38</td>\n",
       "      <td>1</td>\n",
       "    </tr>\n",
       "    <tr>\n",
       "      <th>4</th>\n",
       "      <td>5</td>\n",
       "      <td>Green Chile Anytime Sauce</td>\n",
       "      <td>5</td>\n",
       "      <td>13</td>\n",
       "    </tr>\n",
       "  </tbody>\n",
       "</table>\n",
       "</div>"
      ],
      "text/plain": [
       "   product_id                                       product_name  aisle_id  \\\n",
       "0           1                         Chocolate Sandwich Cookies        61   \n",
       "1           2                                   All-Seasons Salt       104   \n",
       "2           3               Robust Golden Unsweetened Oolong Tea        94   \n",
       "3           4  Smart Ones Classic Favorites Mini Rigatoni Wit...        38   \n",
       "4           5                          Green Chile Anytime Sauce         5   \n",
       "\n",
       "   department_id  \n",
       "0             19  \n",
       "1             13  \n",
       "2              7  \n",
       "3              1  \n",
       "4             13  "
      ]
     },
     "execution_count": 13,
     "metadata": {},
     "output_type": "execute_result"
    }
   ],
   "source": [
    "products.info()\n",
    "products.head()"
   ]
  },
  {
   "cell_type": "markdown",
   "id": "86ccea21-c604-49e8-8712-4cc79606ed9b",
   "metadata": {},
   "source": [
    "__Conclusion:__\n",
    "* The table products has 4 columns.\n",
    "* 1 column with missing values: product_name."
   ]
  },
  {
   "cell_type": "code",
   "execution_count": 15,
   "id": "b87d2189-5728-41d3-ad0c-f8e4ee9b4d27",
   "metadata": {},
   "outputs": [
    {
     "name": "stdout",
     "output_type": "stream",
     "text": [
      "<class 'pandas.core.frame.DataFrame'>\n",
      "RangeIndex: 4545007 entries, 0 to 4545006\n",
      "Data columns (total 4 columns):\n",
      " #   Column             Non-Null Count    Dtype  \n",
      "---  ------             --------------    -----  \n",
      " 0   order_id           4545007 non-null  int64  \n",
      " 1   product_id         4545007 non-null  int64  \n",
      " 2   add_to_cart_order  4544171 non-null  float64\n",
      " 3   reordered          4545007 non-null  int64  \n",
      "dtypes: float64(1), int64(3)\n",
      "memory usage: 138.7 MB\n"
     ]
    },
    {
     "data": {
      "text/html": [
       "<div>\n",
       "<style scoped>\n",
       "    .dataframe tbody tr th:only-of-type {\n",
       "        vertical-align: middle;\n",
       "    }\n",
       "\n",
       "    .dataframe tbody tr th {\n",
       "        vertical-align: top;\n",
       "    }\n",
       "\n",
       "    .dataframe thead th {\n",
       "        text-align: right;\n",
       "    }\n",
       "</style>\n",
       "<table border=\"1\" class=\"dataframe\">\n",
       "  <thead>\n",
       "    <tr style=\"text-align: right;\">\n",
       "      <th></th>\n",
       "      <th>order_id</th>\n",
       "      <th>product_id</th>\n",
       "      <th>add_to_cart_order</th>\n",
       "      <th>reordered</th>\n",
       "    </tr>\n",
       "  </thead>\n",
       "  <tbody>\n",
       "    <tr>\n",
       "      <th>0</th>\n",
       "      <td>2141543</td>\n",
       "      <td>11440</td>\n",
       "      <td>17.0</td>\n",
       "      <td>0</td>\n",
       "    </tr>\n",
       "    <tr>\n",
       "      <th>1</th>\n",
       "      <td>567889</td>\n",
       "      <td>1560</td>\n",
       "      <td>1.0</td>\n",
       "      <td>1</td>\n",
       "    </tr>\n",
       "    <tr>\n",
       "      <th>2</th>\n",
       "      <td>2261212</td>\n",
       "      <td>26683</td>\n",
       "      <td>1.0</td>\n",
       "      <td>1</td>\n",
       "    </tr>\n",
       "    <tr>\n",
       "      <th>3</th>\n",
       "      <td>491251</td>\n",
       "      <td>8670</td>\n",
       "      <td>35.0</td>\n",
       "      <td>1</td>\n",
       "    </tr>\n",
       "    <tr>\n",
       "      <th>4</th>\n",
       "      <td>2571142</td>\n",
       "      <td>1940</td>\n",
       "      <td>5.0</td>\n",
       "      <td>1</td>\n",
       "    </tr>\n",
       "  </tbody>\n",
       "</table>\n",
       "</div>"
      ],
      "text/plain": [
       "   order_id  product_id  add_to_cart_order  reordered\n",
       "0   2141543       11440               17.0          0\n",
       "1    567889        1560                1.0          1\n",
       "2   2261212       26683                1.0          1\n",
       "3    491251        8670               35.0          1\n",
       "4   2571142        1940                5.0          1"
      ]
     },
     "execution_count": 15,
     "metadata": {},
     "output_type": "execute_result"
    }
   ],
   "source": [
    "order_products.info(show_counts=True)\n",
    "order_products.head()"
   ]
  },
  {
   "cell_type": "markdown",
   "id": "04f9cc72-b652-4dfe-b7e4-2c3aa8dfe621",
   "metadata": {},
   "source": [
    "__Conclusion:__\n",
    "* The table order_products has 4 columns.\n",
    "* 1 column with missing values: add_to_cart_order.\n",
    "* The order_products.csv contains too many rows of data -> the parameter show_counts=True is included to print the non-null counts."
   ]
  },
  {
   "cell_type": "code",
   "execution_count": 17,
   "id": "ad8a3905-53cc-4183-ab78-896df967d549",
   "metadata": {},
   "outputs": [
    {
     "name": "stdout",
     "output_type": "stream",
     "text": [
      "<class 'pandas.core.frame.DataFrame'>\n",
      "RangeIndex: 134 entries, 0 to 133\n",
      "Data columns (total 2 columns):\n",
      " #   Column    Non-Null Count  Dtype \n",
      "---  ------    --------------  ----- \n",
      " 0   aisle_id  134 non-null    int64 \n",
      " 1   aisle     134 non-null    object\n",
      "dtypes: int64(1), object(1)\n",
      "memory usage: 2.2+ KB\n"
     ]
    },
    {
     "data": {
      "text/html": [
       "<div>\n",
       "<style scoped>\n",
       "    .dataframe tbody tr th:only-of-type {\n",
       "        vertical-align: middle;\n",
       "    }\n",
       "\n",
       "    .dataframe tbody tr th {\n",
       "        vertical-align: top;\n",
       "    }\n",
       "\n",
       "    .dataframe thead th {\n",
       "        text-align: right;\n",
       "    }\n",
       "</style>\n",
       "<table border=\"1\" class=\"dataframe\">\n",
       "  <thead>\n",
       "    <tr style=\"text-align: right;\">\n",
       "      <th></th>\n",
       "      <th>aisle_id</th>\n",
       "      <th>aisle</th>\n",
       "    </tr>\n",
       "  </thead>\n",
       "  <tbody>\n",
       "    <tr>\n",
       "      <th>0</th>\n",
       "      <td>1</td>\n",
       "      <td>prepared soups salads</td>\n",
       "    </tr>\n",
       "    <tr>\n",
       "      <th>1</th>\n",
       "      <td>2</td>\n",
       "      <td>specialty cheeses</td>\n",
       "    </tr>\n",
       "    <tr>\n",
       "      <th>2</th>\n",
       "      <td>3</td>\n",
       "      <td>energy granola bars</td>\n",
       "    </tr>\n",
       "    <tr>\n",
       "      <th>3</th>\n",
       "      <td>4</td>\n",
       "      <td>instant foods</td>\n",
       "    </tr>\n",
       "    <tr>\n",
       "      <th>4</th>\n",
       "      <td>5</td>\n",
       "      <td>marinades meat preparation</td>\n",
       "    </tr>\n",
       "  </tbody>\n",
       "</table>\n",
       "</div>"
      ],
      "text/plain": [
       "   aisle_id                       aisle\n",
       "0         1       prepared soups salads\n",
       "1         2           specialty cheeses\n",
       "2         3         energy granola bars\n",
       "3         4               instant foods\n",
       "4         5  marinades meat preparation"
      ]
     },
     "execution_count": 17,
     "metadata": {},
     "output_type": "execute_result"
    }
   ],
   "source": [
    "aisles.info()\n",
    "aisles.head()"
   ]
  },
  {
   "cell_type": "markdown",
   "id": "1de0bbb8-08b7-4822-a673-4d017ebcfb81",
   "metadata": {},
   "source": [
    "__Conclusion:__\n",
    "* The table aisles has 2 columns.\n",
    "* It does not have missing values."
   ]
  },
  {
   "cell_type": "code",
   "execution_count": 19,
   "id": "ddbc265c-2513-4057-94d4-39c5bb72739c",
   "metadata": {},
   "outputs": [
    {
     "name": "stdout",
     "output_type": "stream",
     "text": [
      "<class 'pandas.core.frame.DataFrame'>\n",
      "RangeIndex: 21 entries, 0 to 20\n",
      "Data columns (total 2 columns):\n",
      " #   Column         Non-Null Count  Dtype \n",
      "---  ------         --------------  ----- \n",
      " 0   department_id  21 non-null     int64 \n",
      " 1   department     21 non-null     object\n",
      "dtypes: int64(1), object(1)\n",
      "memory usage: 468.0+ bytes\n"
     ]
    },
    {
     "data": {
      "text/html": [
       "<div>\n",
       "<style scoped>\n",
       "    .dataframe tbody tr th:only-of-type {\n",
       "        vertical-align: middle;\n",
       "    }\n",
       "\n",
       "    .dataframe tbody tr th {\n",
       "        vertical-align: top;\n",
       "    }\n",
       "\n",
       "    .dataframe thead th {\n",
       "        text-align: right;\n",
       "    }\n",
       "</style>\n",
       "<table border=\"1\" class=\"dataframe\">\n",
       "  <thead>\n",
       "    <tr style=\"text-align: right;\">\n",
       "      <th></th>\n",
       "      <th>department_id</th>\n",
       "      <th>department</th>\n",
       "    </tr>\n",
       "  </thead>\n",
       "  <tbody>\n",
       "    <tr>\n",
       "      <th>0</th>\n",
       "      <td>1</td>\n",
       "      <td>frozen</td>\n",
       "    </tr>\n",
       "    <tr>\n",
       "      <th>1</th>\n",
       "      <td>2</td>\n",
       "      <td>other</td>\n",
       "    </tr>\n",
       "    <tr>\n",
       "      <th>2</th>\n",
       "      <td>3</td>\n",
       "      <td>bakery</td>\n",
       "    </tr>\n",
       "    <tr>\n",
       "      <th>3</th>\n",
       "      <td>4</td>\n",
       "      <td>produce</td>\n",
       "    </tr>\n",
       "    <tr>\n",
       "      <th>4</th>\n",
       "      <td>5</td>\n",
       "      <td>alcohol</td>\n",
       "    </tr>\n",
       "  </tbody>\n",
       "</table>\n",
       "</div>"
      ],
      "text/plain": [
       "   department_id department\n",
       "0              1     frozen\n",
       "1              2      other\n",
       "2              3     bakery\n",
       "3              4    produce\n",
       "4              5    alcohol"
      ]
     },
     "execution_count": 19,
     "metadata": {},
     "output_type": "execute_result"
    }
   ],
   "source": [
    "departments.info()\n",
    "departments.head()"
   ]
  },
  {
   "cell_type": "markdown",
   "id": "d915ee8e-4c2c-4d8f-9f5f-74eec72792e8",
   "metadata": {},
   "source": [
    "__Conclusion:__\n",
    "* The table departments has 2 columns.\n",
    "* It does not have missing values."
   ]
  },
  {
   "cell_type": "markdown",
   "id": "dbdfed44-2e8c-479d-9295-aa2bb6484817",
   "metadata": {
    "jp-MarkdownHeadingCollapsed": true
   },
   "source": [
    "<h2>Conclusions</h2> <a id='conclusions_1'></a>\n",
    "\n",
    "- 3 of 5 tables have missing values.\n",
    "- 2 columns have incorrect data type.\n",
    "- The dataset needs preprocessing.\n",
    "\n",
    "[Back to Contents](#back)"
   ]
  },
  {
   "cell_type": "markdown",
   "id": "696c5f25-fe52-46df-9e6a-dc2853d33bdb",
   "metadata": {},
   "source": [
    "<h1>2. Data preprocessing</h1> <a id='data_preprocessing'></a>"
   ]
  },
  {
   "cell_type": "markdown",
   "id": "7f38e737-7a42-4ade-8d9a-2b76c10d7f02",
   "metadata": {},
   "source": [
    "<h2>2.1. Data types</h2> <a id='data_types'></a>"
   ]
  },
  {
   "cell_type": "markdown",
   "id": "289131d6-70ff-4a7b-9c13-d104b6ea8ce8",
   "metadata": {},
   "source": [
    "To check a data type one of these approaches can be used:\n",
    "* info() method: df.info()\n",
    "* dtypes attribute: df.dtypes\n",
    "* data type of a column: df['column_name'].dtype\n",
    "* data type of a variable: type(string_date)\n",
    "\n",
    "The info() method is already applied to all dataframes at Step 1. The data types of all columns can be found in the outputs of the method."
   ]
  },
  {
   "cell_type": "markdown",
   "id": "812eb16a-acc3-409c-ab13-fc08fba39821",
   "metadata": {},
   "source": [
    "__Conclusion:__ \n",
    "\n",
    "1. The *_id columns are categorical, but they're stored as integers, since int takes less space. \\\n",
    "   There is no need to convert these columns to the object data type.\n",
    "\n",
    "2. In the table orders the columns order_dow & order_hour_of_day are represented as integers. \\\n",
    "   Most probably they are extracted as integers from the datetime data type object. \\\n",
    "   There is no need to convert these columns to another data type.\n",
    "\n",
    "All other data types are assigned correctly except for these 2 columns:\n",
    "\n",
    "3. table orders – column days_since_prior_order (data type = float) \\\n",
    "This column represents the number of days since this customer placed their previous order.\n",
    "\n",
    "__Assumption:__ Most probably this column’s data type should be int. \\\n",
    "But since the documentation does not provide information whether this column represents the full or partial number of days (e.g. 1.5 days), this assumption requires further exploration.\n",
    "\n",
    "4. table order_products – column add_to_cart_order (data type = float) \\\n",
    "This column represents the sequential order in which each item was placed in the cart.\n",
    "\n",
    "__Assumption:__ The sequential order implies an integer. \\\n",
    "So the data type in this column should be converted to int.\n",
    "\n",
    "5. There is no need to convert the above mentioned columns into int for the analysis. But they will still be converted for the sake of practice as a part of this project.\n",
    "\n",
    "\n",
    "[Back to Contents](#back)"
   ]
  },
  {
   "cell_type": "markdown",
   "id": "d18a043e-4a26-4c76-bb0a-b0b0631f53a6",
   "metadata": {},
   "source": [
    "<h3>2.1.1. column 'days_since_prior_order'</h3> <a id='column_1'></a>"
   ]
  },
  {
   "cell_type": "markdown",
   "id": "52d8455a-339f-498c-822c-2555af37722b",
   "metadata": {},
   "source": [
    "Checking unique values in the column:"
   ]
  },
  {
   "cell_type": "code",
   "execution_count": 28,
   "id": "693d0f46-3c55-4358-ba66-e8d2574e132d",
   "metadata": {},
   "outputs": [
    {
     "data": {
      "text/plain": [
       "array([30.,  9.,  2., 10., 17., 15., 22.,  4.,  8.,  3., 12., 11.,  7.,\n",
       "        1.,  5.,  6., 14., nan, 20., 16., 24., 23., 27., 13.,  0., 28.,\n",
       "       21., 25., 19., 18., 29., 26.])"
      ]
     },
     "execution_count": 28,
     "metadata": {},
     "output_type": "execute_result"
    }
   ],
   "source": [
    "orders['days_since_prior_order'].unique()"
   ]
  },
  {
   "cell_type": "markdown",
   "id": "78a7802d-ba6a-4a07-b64a-b0e7f7610272",
   "metadata": {},
   "source": [
    "The data type of the column is float because of the missing values. \\\n",
    "There are 2 ways to convert such values into int:\n",
    "1. preprocess the missing values before changing the data type to int.\n",
    "2. convert the column into Int64 which ignores Nan values."
   ]
  },
  {
   "cell_type": "markdown",
   "id": "a258d55d-1c11-44d6-9614-cf1ab06c5ee4",
   "metadata": {},
   "source": [
    "Converting the column into Int64 by using the astype() method:"
   ]
  },
  {
   "cell_type": "code",
   "execution_count": 31,
   "id": "2e7b08ca-699b-4c33-bd74-575619d1f900",
   "metadata": {},
   "outputs": [],
   "source": [
    "orders['days_since_prior_order'] = orders['days_since_prior_order'].astype('Int64')"
   ]
  },
  {
   "cell_type": "markdown",
   "id": "9c1a531e-6163-4175-887a-756f5f61989f",
   "metadata": {},
   "source": [
    "Control check of the column's data type after conversion:"
   ]
  },
  {
   "cell_type": "code",
   "execution_count": 33,
   "id": "35772db3-ae6a-4870-acea-c14babf32d6b",
   "metadata": {},
   "outputs": [
    {
     "data": {
      "text/plain": [
       "Int64Dtype()"
      ]
     },
     "execution_count": 33,
     "metadata": {},
     "output_type": "execute_result"
    }
   ],
   "source": [
    "orders['days_since_prior_order'].dtype"
   ]
  },
  {
   "cell_type": "markdown",
   "id": "41c665f9-170a-4f69-863f-935e4e7e6b97",
   "metadata": {},
   "source": [
    "__Conclusion:__\n",
    "\n",
    "* The data type of the column is float because of the missing values. \\\n",
    "  If there are missing values in an integer column, it will force the integers to become floats as well.\n",
    "* The numerical values are all whole numbers, so they can be safely converted to int.\n",
    "* The column is converted into Int64 data type which ignores Nan values.\n",
    "\n",
    "[Back to Contents](#back)"
   ]
  },
  {
   "cell_type": "markdown",
   "id": "198b94be-0d8d-4199-970c-f89bf6794a0d",
   "metadata": {},
   "source": [
    "<h3>2.1.2. column 'add_to_cart_order'</h3> <a id='column_2'></a>"
   ]
  },
  {
   "cell_type": "markdown",
   "id": "b7046625-83fd-4e3d-bbc4-6f3ddcdd16f7",
   "metadata": {},
   "source": [
    "Checking unique values in the column:"
   ]
  },
  {
   "cell_type": "code",
   "execution_count": 37,
   "id": "42cba587-bbf5-4286-91c6-4e72a0f60a16",
   "metadata": {},
   "outputs": [
    {
     "data": {
      "text/plain": [
       "array([17.,  1., 35.,  5.,  4., 10., 14.,  2., 28.,  3., 16.,  8.,  7.,\n",
       "        6.,  9., 15., 22., 49., 19., 13., 11., 12., 18., 24., 23., 45.,\n",
       "       30., 31., 29., 21., 38., 20., 57., 58., 26., 25., 39., 34., 40.,\n",
       "       27., nan, 43., 33., 42., 50., 32., 36., 37., 61., 46., 56., 41.,\n",
       "       44., 55., 54., 47., 63., 48., 60., 62., 53., 59., 52., 51., 64.])"
      ]
     },
     "execution_count": 37,
     "metadata": {},
     "output_type": "execute_result"
    }
   ],
   "source": [
    "order_products['add_to_cart_order'].unique()"
   ]
  },
  {
   "cell_type": "markdown",
   "id": "f2feff0a-8502-4a6f-9e41-a6f0a7995962",
   "metadata": {},
   "source": [
    "Converting the column into Int64:"
   ]
  },
  {
   "cell_type": "code",
   "execution_count": 39,
   "id": "7d8e166e-c36e-4d73-9f74-4f33aaf7d267",
   "metadata": {},
   "outputs": [],
   "source": [
    "order_products['add_to_cart_order'] = order_products['add_to_cart_order'].astype('Int64')"
   ]
  },
  {
   "cell_type": "markdown",
   "id": "e93b4943-57a8-4f7c-863e-557e9af2ebd5",
   "metadata": {},
   "source": [
    "Control check of the column's data type:"
   ]
  },
  {
   "cell_type": "code",
   "execution_count": 41,
   "id": "6dc9bd48-3de1-4ab3-8b91-0a2f1e235c3c",
   "metadata": {},
   "outputs": [
    {
     "data": {
      "text/plain": [
       "Int64Dtype()"
      ]
     },
     "execution_count": 41,
     "metadata": {},
     "output_type": "execute_result"
    }
   ],
   "source": [
    "order_products['add_to_cart_order'].dtype"
   ]
  },
  {
   "cell_type": "markdown",
   "id": "e88fdab9-08c2-404a-ab46-17b34be5d5d1",
   "metadata": {},
   "source": [
    "__Conclusion:__\n",
    "\n",
    "* This column has the same issue as the one discussed above.\n",
    "* The column is converted into Int64 data type which ignores Nan values."
   ]
  },
  {
   "cell_type": "markdown",
   "id": "5ee588a3-8803-464f-a113-08e1eef9f3a8",
   "metadata": {},
   "source": [
    "<h2>Summary</h2> <a id='summary_1'></a>\n",
    "\n",
    "- Not all data types are assigned correctly.\n",
    "- 2 columns have data type float instead of int. This is due to the presence of missing values in these columns.\n",
    "- The columns cannot be converted to int due to the presence of Nan values.\n",
    "- The columns are converted into Int64 which ignores Nan values.\n",
    "\n",
    "[Back to Contents](#back)"
   ]
  },
  {
   "cell_type": "markdown",
   "id": "ea460017-faa7-4937-b986-7e04a94ccc14",
   "metadata": {},
   "source": [
    "<h2>2.2. Duplicate values</h2> <a id='duplicate_values'></a>"
   ]
  },
  {
   "cell_type": "markdown",
   "id": "1b420570-a444-47b4-9cde-cd88425ec831",
   "metadata": {},
   "source": [
    "<h3>2.2.1. Obvious duplicates</h3> <a id='obvious'></a>"
   ]
  },
  {
   "cell_type": "markdown",
   "id": "9a02edff-3983-44ef-9da8-f777f1d58253",
   "metadata": {},
   "source": [
    "Checking the dataset for fully duplicated rows using the method duplicated() \\\n",
    "& counting the number of duplicated rows using the method sum(). \\\n",
    "The custom function is used to check for obvious duplicate values in all 5 dataframes:"
   ]
  },
  {
   "cell_type": "code",
   "execution_count": 47,
   "id": "6536b0b5-91f5-4518-a595-a3eac6c97aff",
   "metadata": {},
   "outputs": [
    {
     "name": "stdout",
     "output_type": "stream",
     "text": [
      "The number of duplicates in orders is: 15\n",
      "The number of duplicates in products is: 0\n",
      "The number of duplicates in order_products is: 0\n",
      "The number of duplicates in aisles is: 0\n",
      "The number of duplicates in departments is: 0\n"
     ]
    }
   ],
   "source": [
    "tables = [orders, products, order_products, aisles, departments]\n",
    "names = ['orders', 'products', 'order_products', 'aisles', 'departments']\n",
    "for table, name in zip(tables, names):\n",
    "    number_duplicates = table.duplicated().sum()\n",
    "    print(f'The number of duplicates in {name} is: {number_duplicates}')"
   ]
  },
  {
   "cell_type": "markdown",
   "id": "85eaec4e-f8fd-4752-a82e-98cf08851e16",
   "metadata": {},
   "source": [
    "__Conclusion:__\n",
    "* Only the table orders has obvious duplicates (identical rows)."
   ]
  },
  {
   "cell_type": "markdown",
   "id": "529ce4fa-ce64-4fc1-8fcb-1ff423c233da",
   "metadata": {},
   "source": [
    "Removing the obvious duplicate values from the table orders using the method drop_duplicates(), \\\n",
    "creating a dataframe without duplicates by reassigning it back to the table orders \\\n",
    "and updating the indices removing the old ones, using the method reset_index(drop=True):"
   ]
  },
  {
   "cell_type": "code",
   "execution_count": 50,
   "id": "63afc0ce-76d7-4a92-b7c5-0be73ef2ec1a",
   "metadata": {},
   "outputs": [],
   "source": [
    "orders = orders.drop_duplicates().reset_index(drop=True)"
   ]
  },
  {
   "cell_type": "markdown",
   "id": "4490437b-a69b-447d-a6d6-805189c87562",
   "metadata": {},
   "source": [
    "Control check for the duplicate values in the table orders:"
   ]
  },
  {
   "cell_type": "code",
   "execution_count": 52,
   "id": "12ee6699-1f86-41ce-b108-8a0348372a6d",
   "metadata": {},
   "outputs": [
    {
     "data": {
      "text/plain": [
       "0"
      ]
     },
     "execution_count": 52,
     "metadata": {},
     "output_type": "execute_result"
    }
   ],
   "source": [
    "orders.duplicated().sum()"
   ]
  },
  {
   "cell_type": "markdown",
   "id": "a4c5bc3d-485c-4ab9-931f-74712a08635d",
   "metadata": {},
   "source": [
    "__Conclusion:__\n",
    "* The duplicate values in the table orders are removed.\n",
    "* All tables are clean from obvious duplicates.\n",
    "\n",
    "[Back to Contents](#back)"
   ]
  },
  {
   "cell_type": "markdown",
   "id": "dd652fb5-35c5-4f0e-9bc4-491ec169d9a0",
   "metadata": {},
   "source": [
    "<h3>2.2.2. Unique duplicates</h3> <a id='unique'></a>"
   ]
  },
  {
   "cell_type": "markdown",
   "id": "f0267b19-6aa5-493e-97c9-76002c845f03",
   "metadata": {},
   "source": [
    "Checking for duplicate values in columns that uniquely identify each table row. \\\n",
    "When a value is unique, it cannot be duplicated in a table."
   ]
  },
  {
   "cell_type": "markdown",
   "id": "94ad1b2f-2661-4e4e-84a9-d34aaf87d496",
   "metadata": {},
   "source": [
    "In the table orders: each row corresponds to one order on the Instacart app. \\\n",
    "The column order_id uniquely identifies each order. \\\n",
    "Checking for duplicate order IDs:"
   ]
  },
  {
   "cell_type": "code",
   "execution_count": 57,
   "id": "1cadd967-80d1-43b4-b6b3-bd380c799bf2",
   "metadata": {},
   "outputs": [
    {
     "data": {
      "text/plain": [
       "0"
      ]
     },
     "execution_count": 57,
     "metadata": {},
     "output_type": "execute_result"
    }
   ],
   "source": [
    "orders.duplicated(subset=['order_id']).sum()"
   ]
  },
  {
   "cell_type": "markdown",
   "id": "93c27b22-128e-46dd-bfb8-92ecdbc2b9dd",
   "metadata": {},
   "source": [
    "In the table products: each row corresponds to a unique product that customers can buy. \\\n",
    "The column product_id uniquely identifies each product. \\\n",
    "Checking for duplicate product IDs:"
   ]
  },
  {
   "cell_type": "code",
   "execution_count": 59,
   "id": "7ba0b91f-52be-406b-87cd-cb7c39ee3c13",
   "metadata": {},
   "outputs": [
    {
     "data": {
      "text/plain": [
       "0"
      ]
     },
     "execution_count": 59,
     "metadata": {},
     "output_type": "execute_result"
    }
   ],
   "source": [
    "products.duplicated(subset=['product_id']).sum()"
   ]
  },
  {
   "cell_type": "markdown",
   "id": "c723567e-168d-4b56-9765-325fa5b8a075",
   "metadata": {},
   "source": [
    "In the table order_products: each row corresponds to one item placed in an order. \\\n",
    "2 columns uniquely identify each table row:\n",
    "- order_id uniquely identifies each order,\n",
    "- product_id uniquely identifies each product.\n",
    "\n",
    "Checking for duplicate order & products IDs:"
   ]
  },
  {
   "cell_type": "code",
   "execution_count": 61,
   "id": "59e1e653-5800-4c5c-a02c-03d9ff79b6cd",
   "metadata": {},
   "outputs": [
    {
     "data": {
      "text/plain": [
       "0"
      ]
     },
     "execution_count": 61,
     "metadata": {},
     "output_type": "execute_result"
    }
   ],
   "source": [
    "order_products.duplicated(subset=['order_id', 'product_id']).sum()"
   ]
  },
  {
   "cell_type": "markdown",
   "id": "ed3c639c-2f26-4d9a-866f-ef87e2ef20fe",
   "metadata": {},
   "source": [
    "In the table aisles, the column aisle_id  uniquely identifies each grocery aisle category. \\\n",
    "Checking for duplicate aisle IDs:"
   ]
  },
  {
   "cell_type": "code",
   "execution_count": 63,
   "id": "f2335ddc-e21e-441a-b8df-866e893013e4",
   "metadata": {},
   "outputs": [
    {
     "data": {
      "text/plain": [
       "0"
      ]
     },
     "execution_count": 63,
     "metadata": {},
     "output_type": "execute_result"
    }
   ],
   "source": [
    "aisles.duplicated(subset=['aisle_id']).sum()"
   ]
  },
  {
   "cell_type": "markdown",
   "id": "af714b01-ca91-40ba-90f3-93681e2e7c4e",
   "metadata": {},
   "source": [
    "In the table departments the column department_id uniquely identifies each grocery department category. \\\n",
    "Checking for duplicate department IDs:"
   ]
  },
  {
   "cell_type": "code",
   "execution_count": 65,
   "id": "673c241d-dfce-4234-b3fe-e3b42c263274",
   "metadata": {},
   "outputs": [
    {
     "data": {
      "text/plain": [
       "0"
      ]
     },
     "execution_count": 65,
     "metadata": {},
     "output_type": "execute_result"
    }
   ],
   "source": [
    "departments.duplicated(subset=['department_id']).sum()"
   ]
  },
  {
   "cell_type": "markdown",
   "id": "7f1abd32-1eb3-4aca-b57d-e6e54d56953e",
   "metadata": {},
   "source": [
    "__Conclusion:__\n",
    "* All tables were checked for duplicate values in the ID columns that uniquely identify each row in these tables.\n",
    "* No duplicates were found.\n",
    "\n",
    "[Back to Contents](#back)"
   ]
  },
  {
   "cell_type": "markdown",
   "id": "fd487e2c-5b75-4cd3-bfeb-58daec0b6e3b",
   "metadata": {},
   "source": [
    "<h3>2.2.3. Implicit duplicates</h3> <a id='implicit'></a>"
   ]
  },
  {
   "cell_type": "markdown",
   "id": "1e7f66bf-4f53-49e0-9683-43c3fb7a8590",
   "metadata": {},
   "source": [
    "Implicit duplicates can occur in the object data type columns. \\\n",
    "There are 3 tables that have columns of the object data type:\n",
    "- products: column product_name\n",
    "- aisles: column aisle\n",
    "- departments: column department\n",
    "\n",
    "It is necessary to explore each of these columns separately to see if it contains implicit duplicate values."
   ]
  },
  {
   "cell_type": "markdown",
   "id": "b49ac1f1-7156-4672-813e-1910199b3fbb",
   "metadata": {},
   "source": [
    "<h4>2.2.3.1. table 'products': column 'product_name'</h4> <a id='implicit_product'></a>\n",
    "\n",
    "Since the column contains product names, duplicates can appear due to the difference in the letter case. \\\n",
    "Converting product names to lowercase for correct comparison of possible duplicates:"
   ]
  },
  {
   "cell_type": "code",
   "execution_count": 70,
   "id": "956faa61-36e1-4f98-b228-df98765a98fb",
   "metadata": {},
   "outputs": [],
   "source": [
    "products['product_name'] = products['product_name'].str.lower()"
   ]
  },
  {
   "cell_type": "markdown",
   "id": "64524240-f8c0-4f9a-ae56-51c571aae852",
   "metadata": {},
   "source": [
    "Checking the duplicate product names:"
   ]
  },
  {
   "cell_type": "code",
   "execution_count": 72,
   "id": "8afa1ada-a82d-4d36-bf0b-a4cc18232e18",
   "metadata": {},
   "outputs": [
    {
     "data": {
      "text/plain": [
       "1361"
      ]
     },
     "execution_count": 72,
     "metadata": {},
     "output_type": "execute_result"
    }
   ],
   "source": [
    "products.duplicated(subset=['product_name']).sum()"
   ]
  },
  {
   "cell_type": "markdown",
   "id": "d3e1a01b-42ae-4e76-8442-1489c1c1a5d9",
   "metadata": {},
   "source": [
    "__Assumption:__ \\\n",
    "Such a big number of implicit duplicate values can mean that the majority of them are missing values."
   ]
  },
  {
   "cell_type": "markdown",
   "id": "1941fee6-2e5d-4a8e-b165-ec8aab614c24",
   "metadata": {},
   "source": [
    "Creating a subset with these duplicates to see if there is a pattern:"
   ]
  },
  {
   "cell_type": "code",
   "execution_count": 75,
   "id": "3ca45667-4a56-466f-8689-6b2d8fa24df1",
   "metadata": {},
   "outputs": [
    {
     "data": {
      "text/html": [
       "<div>\n",
       "<style scoped>\n",
       "    .dataframe tbody tr th:only-of-type {\n",
       "        vertical-align: middle;\n",
       "    }\n",
       "\n",
       "    .dataframe tbody tr th {\n",
       "        vertical-align: top;\n",
       "    }\n",
       "\n",
       "    .dataframe thead th {\n",
       "        text-align: right;\n",
       "    }\n",
       "</style>\n",
       "<table border=\"1\" class=\"dataframe\">\n",
       "  <thead>\n",
       "    <tr style=\"text-align: right;\">\n",
       "      <th></th>\n",
       "      <th>product_id</th>\n",
       "      <th>product_name</th>\n",
       "      <th>aisle_id</th>\n",
       "      <th>department_id</th>\n",
       "    </tr>\n",
       "  </thead>\n",
       "  <tbody>\n",
       "    <tr>\n",
       "      <th>71</th>\n",
       "      <td>72</td>\n",
       "      <td>NaN</td>\n",
       "      <td>100</td>\n",
       "      <td>21</td>\n",
       "    </tr>\n",
       "    <tr>\n",
       "      <th>109</th>\n",
       "      <td>110</td>\n",
       "      <td>NaN</td>\n",
       "      <td>100</td>\n",
       "      <td>21</td>\n",
       "    </tr>\n",
       "    <tr>\n",
       "      <th>296</th>\n",
       "      <td>297</td>\n",
       "      <td>NaN</td>\n",
       "      <td>100</td>\n",
       "      <td>21</td>\n",
       "    </tr>\n",
       "    <tr>\n",
       "      <th>416</th>\n",
       "      <td>417</td>\n",
       "      <td>NaN</td>\n",
       "      <td>100</td>\n",
       "      <td>21</td>\n",
       "    </tr>\n",
       "    <tr>\n",
       "      <th>436</th>\n",
       "      <td>437</td>\n",
       "      <td>NaN</td>\n",
       "      <td>100</td>\n",
       "      <td>21</td>\n",
       "    </tr>\n",
       "    <tr>\n",
       "      <th>...</th>\n",
       "      <td>...</td>\n",
       "      <td>...</td>\n",
       "      <td>...</td>\n",
       "      <td>...</td>\n",
       "    </tr>\n",
       "    <tr>\n",
       "      <th>49689</th>\n",
       "      <td>49690</td>\n",
       "      <td>high performance energy drink</td>\n",
       "      <td>64</td>\n",
       "      <td>7</td>\n",
       "    </tr>\n",
       "    <tr>\n",
       "      <th>49690</th>\n",
       "      <td>49691</td>\n",
       "      <td>original pancake &amp; waffle mix</td>\n",
       "      <td>130</td>\n",
       "      <td>14</td>\n",
       "    </tr>\n",
       "    <tr>\n",
       "      <th>49691</th>\n",
       "      <td>49692</td>\n",
       "      <td>organic instant oatmeal light maple brown sugar</td>\n",
       "      <td>130</td>\n",
       "      <td>14</td>\n",
       "    </tr>\n",
       "    <tr>\n",
       "      <th>49692</th>\n",
       "      <td>49693</td>\n",
       "      <td>spring water body wash</td>\n",
       "      <td>127</td>\n",
       "      <td>11</td>\n",
       "    </tr>\n",
       "    <tr>\n",
       "      <th>49693</th>\n",
       "      <td>49694</td>\n",
       "      <td>burrito- steak &amp; cheese</td>\n",
       "      <td>38</td>\n",
       "      <td>1</td>\n",
       "    </tr>\n",
       "  </tbody>\n",
       "</table>\n",
       "<p>1361 rows × 4 columns</p>\n",
       "</div>"
      ],
      "text/plain": [
       "       product_id                                     product_name  aisle_id  \\\n",
       "71             72                                              NaN       100   \n",
       "109           110                                              NaN       100   \n",
       "296           297                                              NaN       100   \n",
       "416           417                                              NaN       100   \n",
       "436           437                                              NaN       100   \n",
       "...           ...                                              ...       ...   \n",
       "49689       49690                    high performance energy drink        64   \n",
       "49690       49691                    original pancake & waffle mix       130   \n",
       "49691       49692  organic instant oatmeal light maple brown sugar       130   \n",
       "49692       49693                           spring water body wash       127   \n",
       "49693       49694                          burrito- steak & cheese        38   \n",
       "\n",
       "       department_id  \n",
       "71                21  \n",
       "109               21  \n",
       "296               21  \n",
       "416               21  \n",
       "436               21  \n",
       "...              ...  \n",
       "49689              7  \n",
       "49690             14  \n",
       "49691             14  \n",
       "49692             11  \n",
       "49693              1  \n",
       "\n",
       "[1361 rows x 4 columns]"
      ]
     },
     "execution_count": 75,
     "metadata": {},
     "output_type": "execute_result"
    }
   ],
   "source": [
    "products[products.duplicated(subset=['product_name'])]"
   ]
  },
  {
   "cell_type": "markdown",
   "id": "fcc84213-0c69-423f-9d0c-e3a3cbbeb740",
   "metadata": {},
   "source": [
    "Checking for duplicate product names that are missing to see if the missing values are responsible for this amount of duplicates: "
   ]
  },
  {
   "cell_type": "code",
   "execution_count": 77,
   "id": "2c1548dc-d7c9-4fdd-b2e5-5bf5f7403c23",
   "metadata": {},
   "outputs": [
    {
     "data": {
      "text/html": [
       "<div>\n",
       "<style scoped>\n",
       "    .dataframe tbody tr th:only-of-type {\n",
       "        vertical-align: middle;\n",
       "    }\n",
       "\n",
       "    .dataframe tbody tr th {\n",
       "        vertical-align: top;\n",
       "    }\n",
       "\n",
       "    .dataframe thead th {\n",
       "        text-align: right;\n",
       "    }\n",
       "</style>\n",
       "<table border=\"1\" class=\"dataframe\">\n",
       "  <thead>\n",
       "    <tr style=\"text-align: right;\">\n",
       "      <th></th>\n",
       "      <th>product_id</th>\n",
       "      <th>product_name</th>\n",
       "      <th>aisle_id</th>\n",
       "      <th>department_id</th>\n",
       "    </tr>\n",
       "  </thead>\n",
       "  <tbody>\n",
       "    <tr>\n",
       "      <th>71</th>\n",
       "      <td>72</td>\n",
       "      <td>NaN</td>\n",
       "      <td>100</td>\n",
       "      <td>21</td>\n",
       "    </tr>\n",
       "    <tr>\n",
       "      <th>109</th>\n",
       "      <td>110</td>\n",
       "      <td>NaN</td>\n",
       "      <td>100</td>\n",
       "      <td>21</td>\n",
       "    </tr>\n",
       "    <tr>\n",
       "      <th>296</th>\n",
       "      <td>297</td>\n",
       "      <td>NaN</td>\n",
       "      <td>100</td>\n",
       "      <td>21</td>\n",
       "    </tr>\n",
       "    <tr>\n",
       "      <th>416</th>\n",
       "      <td>417</td>\n",
       "      <td>NaN</td>\n",
       "      <td>100</td>\n",
       "      <td>21</td>\n",
       "    </tr>\n",
       "    <tr>\n",
       "      <th>436</th>\n",
       "      <td>437</td>\n",
       "      <td>NaN</td>\n",
       "      <td>100</td>\n",
       "      <td>21</td>\n",
       "    </tr>\n",
       "    <tr>\n",
       "      <th>...</th>\n",
       "      <td>...</td>\n",
       "      <td>...</td>\n",
       "      <td>...</td>\n",
       "      <td>...</td>\n",
       "    </tr>\n",
       "    <tr>\n",
       "      <th>49552</th>\n",
       "      <td>49553</td>\n",
       "      <td>NaN</td>\n",
       "      <td>100</td>\n",
       "      <td>21</td>\n",
       "    </tr>\n",
       "    <tr>\n",
       "      <th>49574</th>\n",
       "      <td>49575</td>\n",
       "      <td>NaN</td>\n",
       "      <td>100</td>\n",
       "      <td>21</td>\n",
       "    </tr>\n",
       "    <tr>\n",
       "      <th>49640</th>\n",
       "      <td>49641</td>\n",
       "      <td>NaN</td>\n",
       "      <td>100</td>\n",
       "      <td>21</td>\n",
       "    </tr>\n",
       "    <tr>\n",
       "      <th>49663</th>\n",
       "      <td>49664</td>\n",
       "      <td>NaN</td>\n",
       "      <td>100</td>\n",
       "      <td>21</td>\n",
       "    </tr>\n",
       "    <tr>\n",
       "      <th>49668</th>\n",
       "      <td>49669</td>\n",
       "      <td>NaN</td>\n",
       "      <td>100</td>\n",
       "      <td>21</td>\n",
       "    </tr>\n",
       "  </tbody>\n",
       "</table>\n",
       "<p>1257 rows × 4 columns</p>\n",
       "</div>"
      ],
      "text/plain": [
       "       product_id product_name  aisle_id  department_id\n",
       "71             72          NaN       100             21\n",
       "109           110          NaN       100             21\n",
       "296           297          NaN       100             21\n",
       "416           417          NaN       100             21\n",
       "436           437          NaN       100             21\n",
       "...           ...          ...       ...            ...\n",
       "49552       49553          NaN       100             21\n",
       "49574       49575          NaN       100             21\n",
       "49640       49641          NaN       100             21\n",
       "49663       49664          NaN       100             21\n",
       "49668       49669          NaN       100             21\n",
       "\n",
       "[1257 rows x 4 columns]"
      ]
     },
     "execution_count": 77,
     "metadata": {},
     "output_type": "execute_result"
    }
   ],
   "source": [
    "products[(products.duplicated(subset=['product_name'])) & (products['product_name'].isna())]"
   ]
  },
  {
   "cell_type": "markdown",
   "id": "affcfffc-178c-442b-9ab5-943fd4468db4",
   "metadata": {},
   "source": [
    "The assumption was correct: 1257 values out of 1361 are duplicated rows with the missing values. \\\n",
    "It is better to leave these duplicated rows since the content of the missing values in them is unknown. \\\n",
    "The other rows with the duplicate product names that are not missing, can be dropped."
   ]
  },
  {
   "cell_type": "markdown",
   "id": "682d965a-12e6-4f31-ad69-dbf04c4120e3",
   "metadata": {},
   "source": [
    "Creating a subset of the rows with the duplicate product names:"
   ]
  },
  {
   "cell_type": "code",
   "execution_count": 80,
   "id": "8391563a-3d66-453e-bfe1-522e63395ac6",
   "metadata": {},
   "outputs": [],
   "source": [
    "duplicated_names = products[(products.duplicated(subset=['product_name'])) & (products['product_name'].notna())]"
   ]
  },
  {
   "cell_type": "markdown",
   "id": "11c440de-5a7b-412e-8892-52b501263550",
   "metadata": {},
   "source": [
    "Removing these rows from the table products by using the drop() method:\n",
    "- the duplicated_names dataframe contains the selection of rows that need to be removed,\n",
    "- the .index attribute is used to get the index labels of these rows, which are passed to the .drop() method to remove them from the original table,\n",
    "- the inplace=True parameter ensures that the changes are made to the original table."
   ]
  },
  {
   "cell_type": "code",
   "execution_count": 82,
   "id": "f1a0e55f-0ae6-4167-a377-4c7420cb01e5",
   "metadata": {
    "scrolled": true
   },
   "outputs": [],
   "source": [
    "products.drop(duplicated_names.index, inplace = True)"
   ]
  },
  {
   "cell_type": "markdown",
   "id": "97afbe8d-5afa-454f-b78b-297bd48a534b",
   "metadata": {},
   "source": [
    "Control check if the duplicated values were removed:"
   ]
  },
  {
   "cell_type": "code",
   "execution_count": 84,
   "id": "65327528-74e3-4019-b7ba-d91bd0905e99",
   "metadata": {},
   "outputs": [
    {
     "name": "stdout",
     "output_type": "stream",
     "text": [
      "<class 'pandas.core.series.Series'>\n",
      "Index: 49590 entries, 0 to 49687\n",
      "Series name: product_name\n",
      "Non-Null Count  Dtype \n",
      "--------------  ----- \n",
      "48332 non-null  object\n",
      "dtypes: object(1)\n",
      "memory usage: 774.8+ KB\n"
     ]
    }
   ],
   "source": [
    "products['product_name'].info()"
   ]
  },
  {
   "cell_type": "markdown",
   "id": "48c0188c-cd3b-46d6-8c8a-af875ec3a2a6",
   "metadata": {},
   "source": [
    "Resetting the row index in the table products to maintain a clean and consecutive index:"
   ]
  },
  {
   "cell_type": "code",
   "execution_count": 86,
   "id": "c6dcf1a3-c540-4fee-bc22-df919a4a6ef6",
   "metadata": {},
   "outputs": [],
   "source": [
    "products = products.reset_index()"
   ]
  },
  {
   "cell_type": "markdown",
   "id": "16290284-9956-44bd-a910-e4c2ccac9614",
   "metadata": {},
   "source": [
    "__Conclusion:__\n",
    "*  In the table products: the column product_name contains implicit duplicates due to the difference in the letter case of product names.\n",
    "*  All product names were converted to the lowercase for the correct search of duplicates.\n",
    "*  1257 duplicated values out of 1361 are duplicated rows with the missing values. These rows were not removed.\n",
    "*  The other 104 rows with duplicated product names were removed.\n",
    "*  The index of the table products was reset.\n",
    "\n",
    "[Back to Contents](#back)"
   ]
  },
  {
   "cell_type": "markdown",
   "id": "aa7f1f24-5178-42a0-a1f8-4b50419124a1",
   "metadata": {},
   "source": [
    "<h4>2.2.3.2. table 'aisles': column 'aisle'</h4> <a id='implicit_aisle'></a>"
   ]
  },
  {
   "cell_type": "markdown",
   "id": "52fa2b4b-0fbf-4b16-9323-7bab7fa35550",
   "metadata": {},
   "source": [
    "The table aisles contains 134 rows. \\\n",
    "Identifying the number of unique values in the column aisle by using the method nunique():"
   ]
  },
  {
   "cell_type": "code",
   "execution_count": 90,
   "id": "2f87fd52-464f-4578-ab88-3e65b6ff42a6",
   "metadata": {},
   "outputs": [
    {
     "data": {
      "text/plain": [
       "134"
      ]
     },
     "execution_count": 90,
     "metadata": {},
     "output_type": "execute_result"
    }
   ],
   "source": [
    "aisles['aisle'].nunique()"
   ]
  },
  {
   "cell_type": "markdown",
   "id": "92506fe4-8fb6-4c57-9d8f-14e696958a41",
   "metadata": {},
   "source": [
    " Making all the letters in the strings the same case by calling the lower() method:"
   ]
  },
  {
   "cell_type": "code",
   "execution_count": 92,
   "id": "5b7d825b-c21d-46bd-aae3-dcce2e10b0d2",
   "metadata": {},
   "outputs": [],
   "source": [
    "aisles['aisle'] = aisles['aisle'].str.lower()"
   ]
  },
  {
   "cell_type": "markdown",
   "id": "6ad67da4-370c-4c63-9fb9-c41efc4e2171",
   "metadata": {},
   "source": [
    "Checking if there are no implicit duplicates due to the difference in the letter case:"
   ]
  },
  {
   "cell_type": "code",
   "execution_count": 94,
   "id": "fb212029-03d6-47bf-ae91-740ea081697b",
   "metadata": {},
   "outputs": [
    {
     "data": {
      "text/plain": [
       "0"
      ]
     },
     "execution_count": 94,
     "metadata": {},
     "output_type": "execute_result"
    }
   ],
   "source": [
    "aisles.duplicated(subset=['aisle']).sum()"
   ]
  },
  {
   "cell_type": "markdown",
   "id": "6f3b99f2-d24f-449b-bf0d-61f0142f46df",
   "metadata": {},
   "source": [
    "Checking the aisle names manually to see if there are no implicit duplicates due to misspelling:"
   ]
  },
  {
   "cell_type": "code",
   "execution_count": 96,
   "id": "43bae255-a1b9-4c42-ba08-0bea24c18c05",
   "metadata": {},
   "outputs": [
    {
     "data": {
      "text/plain": [
       "['air fresheners candles',\n",
       " 'asian foods',\n",
       " 'baby accessories',\n",
       " 'baby bath body care',\n",
       " 'baby food formula',\n",
       " 'bakery desserts',\n",
       " 'baking ingredients',\n",
       " 'baking supplies decor',\n",
       " 'beauty',\n",
       " 'beers coolers',\n",
       " 'body lotions soap',\n",
       " 'bread',\n",
       " 'breakfast bakery',\n",
       " 'breakfast bars pastries',\n",
       " 'bulk dried fruits vegetables',\n",
       " 'bulk grains rice dried goods',\n",
       " 'buns rolls',\n",
       " 'butter',\n",
       " 'candy chocolate',\n",
       " 'canned fruit applesauce',\n",
       " 'canned jarred vegetables',\n",
       " 'canned meals beans',\n",
       " 'canned meat seafood',\n",
       " 'cat food care',\n",
       " 'cereal',\n",
       " 'chips pretzels',\n",
       " 'cleaning products',\n",
       " 'cocoa drink mixes',\n",
       " 'coffee',\n",
       " 'cold flu allergy',\n",
       " 'condiments',\n",
       " 'cookies cakes',\n",
       " 'crackers',\n",
       " 'cream',\n",
       " 'deodorants',\n",
       " 'diapers wipes',\n",
       " 'digestion',\n",
       " 'dish detergents',\n",
       " 'dog food care',\n",
       " 'doughs gelatins bake mixes',\n",
       " 'dry pasta',\n",
       " 'eggs',\n",
       " 'energy granola bars',\n",
       " 'energy sports drinks',\n",
       " 'eye ear care',\n",
       " 'facial care',\n",
       " 'feminine care',\n",
       " 'first aid',\n",
       " 'food storage',\n",
       " 'fresh dips tapenades',\n",
       " 'fresh fruits',\n",
       " 'fresh herbs',\n",
       " 'fresh pasta',\n",
       " 'fresh vegetables',\n",
       " 'frozen appetizers sides',\n",
       " 'frozen breads doughs',\n",
       " 'frozen breakfast',\n",
       " 'frozen dessert',\n",
       " 'frozen juice',\n",
       " 'frozen meals',\n",
       " 'frozen meat seafood',\n",
       " 'frozen pizza',\n",
       " 'frozen produce',\n",
       " 'frozen vegan vegetarian',\n",
       " 'fruit vegetable snacks',\n",
       " 'grains rice dried goods',\n",
       " 'granola',\n",
       " 'hair care',\n",
       " 'honeys syrups nectars',\n",
       " 'hot cereal pancake mixes',\n",
       " 'hot dogs bacon sausage',\n",
       " 'ice cream ice',\n",
       " 'ice cream toppings',\n",
       " 'indian foods',\n",
       " 'instant foods',\n",
       " 'juice nectars',\n",
       " 'kitchen supplies',\n",
       " 'kosher foods',\n",
       " 'latino foods',\n",
       " 'laundry',\n",
       " 'lunch meat',\n",
       " 'marinades meat preparation',\n",
       " 'meat counter',\n",
       " 'milk',\n",
       " 'mint gum',\n",
       " 'missing',\n",
       " 'more household',\n",
       " 'muscles joints pain relief',\n",
       " 'nuts seeds dried fruit',\n",
       " 'oils vinegars',\n",
       " 'oral hygiene',\n",
       " 'other',\n",
       " 'other creams cheeses',\n",
       " 'packaged cheese',\n",
       " 'packaged meat',\n",
       " 'packaged poultry',\n",
       " 'packaged produce',\n",
       " 'packaged seafood',\n",
       " 'packaged vegetables fruits',\n",
       " 'paper goods',\n",
       " 'pasta sauce',\n",
       " 'pickled goods olives',\n",
       " 'plates bowls cups flatware',\n",
       " 'popcorn jerky',\n",
       " 'poultry counter',\n",
       " 'prepared meals',\n",
       " 'prepared soups salads',\n",
       " 'preserved dips spreads',\n",
       " 'protein meal replacements',\n",
       " 'red wines',\n",
       " 'refrigerated',\n",
       " 'refrigerated pudding desserts',\n",
       " 'salad dressing toppings',\n",
       " 'seafood counter',\n",
       " 'shave needs',\n",
       " 'skin care',\n",
       " 'soap',\n",
       " 'soft drinks',\n",
       " 'soup broth bouillon',\n",
       " 'soy lactosefree',\n",
       " 'specialty cheeses',\n",
       " 'specialty wines champagnes',\n",
       " 'spices seasonings',\n",
       " 'spirits',\n",
       " 'spreads',\n",
       " 'tea',\n",
       " 'tofu meat alternatives',\n",
       " 'tortillas flat bread',\n",
       " 'trail mix snack mix',\n",
       " 'trash bags liners',\n",
       " 'vitamins supplements',\n",
       " 'water seltzer sparkling water',\n",
       " 'white wines',\n",
       " 'yogurt']"
      ]
     },
     "execution_count": 96,
     "metadata": {},
     "output_type": "execute_result"
    }
   ],
   "source": [
    "sorted(aisles['aisle'].unique())"
   ]
  },
  {
   "cell_type": "markdown",
   "id": "730d1000-2fe4-4056-b6e8-49c353fc4039",
   "metadata": {},
   "source": [
    "__Conclusion:__\n",
    "* In the table aisles: the column aisle does not contain implicit duplicates due to the difference in the letter case or due to misspelling.\n",
    "\n",
    "[Back to Contents](#back)"
   ]
  },
  {
   "cell_type": "markdown",
   "id": "0ecb0c8e-4924-4c85-93d6-5aeed9c6c206",
   "metadata": {},
   "source": [
    "<h4>2.2.3.3. table 'departments': column 'department'</h4> <a id='implicit_department'></a>"
   ]
  },
  {
   "cell_type": "markdown",
   "id": "36ca32b6-42f1-418f-ae9f-984f0662315f",
   "metadata": {},
   "source": [
    "The table departments contains 21 rows. \\\n",
    "Using the method nunique() to identify the number of unique values in the column:"
   ]
  },
  {
   "cell_type": "code",
   "execution_count": 100,
   "id": "d5711a75-f3e9-4d19-9b8a-004f0d1d66e0",
   "metadata": {},
   "outputs": [
    {
     "data": {
      "text/plain": [
       "21"
      ]
     },
     "execution_count": 100,
     "metadata": {},
     "output_type": "execute_result"
    }
   ],
   "source": [
    "departments['department'].nunique()"
   ]
  },
  {
   "cell_type": "markdown",
   "id": "e1ae5069-2fdf-42fa-b07e-0e3f9478e633",
   "metadata": {},
   "source": [
    "Displaying the content of the column to check for implicit duplicates:"
   ]
  },
  {
   "cell_type": "code",
   "execution_count": 102,
   "id": "66756aeb-7899-47fe-9a42-8402e51b88fd",
   "metadata": {},
   "outputs": [
    {
     "data": {
      "text/plain": [
       "0              frozen\n",
       "1               other\n",
       "2              bakery\n",
       "3             produce\n",
       "4             alcohol\n",
       "5       international\n",
       "6           beverages\n",
       "7                pets\n",
       "8     dry goods pasta\n",
       "9                bulk\n",
       "10      personal care\n",
       "11       meat seafood\n",
       "12             pantry\n",
       "13          breakfast\n",
       "14       canned goods\n",
       "15         dairy eggs\n",
       "16          household\n",
       "17             babies\n",
       "18             snacks\n",
       "19               deli\n",
       "20            missing\n",
       "Name: department, dtype: object"
      ]
     },
     "execution_count": 102,
     "metadata": {},
     "output_type": "execute_result"
    }
   ],
   "source": [
    "departments['department']"
   ]
  },
  {
   "cell_type": "markdown",
   "id": "566b0dc9-ec49-46dd-9791-f59543531a2f",
   "metadata": {},
   "source": [
    "__Conclusion:__\n",
    "* In the table departments: the column department does not contain implicit duplicates."
   ]
  },
  {
   "cell_type": "markdown",
   "id": "8688cc5d-7309-409a-90cb-e45e2226db97",
   "metadata": {},
   "source": [
    "<h2>Summary</h2> <a id='summary_2'></a>\n",
    "\n",
    "- Obvious duplicates: the table orders had identical rows, which were removed.\n",
    "- Unique duplicates: no duplicate values were found in the ID columns of the tables.\n",
    "- Implicit duplicates: 3 columns with the data type object were checked for implicit duplicated values. \\\n",
    "  Only the column product_name from the table products had implicit duplicates due to the difference in the letter case of product names:\n",
    "  - rows where the product name has value Nan were left untouched.\n",
    "  - the other rows with the duplicated product names were removed.\n",
    "\n",
    "[Back to Contents](#back)"
   ]
  },
  {
   "cell_type": "markdown",
   "id": "f2543ab8-b710-405d-989a-caf7be66140b",
   "metadata": {},
   "source": [
    "<h2>2.3. Missing values</h2> <a id='missing_values'></a>"
   ]
  },
  {
   "cell_type": "markdown",
   "id": "9c261324-c605-40a9-a666-935a5da227a9",
   "metadata": {},
   "source": [
    "3 tables have missing values:\n",
    "* orders: column days_since_prior_order\n",
    "* products: column product_name\n",
    "* order_products: column add_to_cart_order"
   ]
  },
  {
   "cell_type": "markdown",
   "id": "ddc4d995-8b6f-4943-a84f-8a22fc0b5377",
   "metadata": {},
   "source": [
    "<h3>2.3.1. table 'orders'</h3> <a id='table_orders'></a>"
   ]
  },
  {
   "cell_type": "markdown",
   "id": "327d7750-38a2-4529-ada4-479847eb7a34",
   "metadata": {},
   "source": [
    "__Assumption:__ \\\n",
    "The column days_since_prior_order contains the number of days since the customer placed his previous order. \\\n",
    "The values in this column can be missing due to these reasons:\n",
    "1. the customer placed only 1 order, so there were no previous orders;\n",
    "2. the customer placed more than 1 order, but this was his first order;\n",
    "3. the values were not filled out for other reasons.\n",
    "  \n",
    "The column order_number contains the number of times the customer has placed an order. This column can be used to find the customers with only 1 order. \\\n",
    "\\\n",
    "To investigate the 1st assumption, it is necessary to:\n",
    "* check the number of missing values in the column days_since_prior_order;\n",
    "* check the number of rows with only 1 placed order;\n",
    "* check the number of missing values in the rows with 1 order."
   ]
  },
  {
   "cell_type": "code",
   "execution_count": 109,
   "id": "fc5f406d-62f0-4619-afdb-ddee0a02bda7",
   "metadata": {},
   "outputs": [
    {
     "data": {
      "text/plain": [
       "28817"
      ]
     },
     "execution_count": 109,
     "metadata": {},
     "output_type": "execute_result"
    }
   ],
   "source": [
    "orders['days_since_prior_order'].isna().sum()"
   ]
  },
  {
   "cell_type": "code",
   "execution_count": 110,
   "id": "d3fba74f-57bb-4439-8540-b1bd5f5d2000",
   "metadata": {},
   "outputs": [
    {
     "data": {
      "text/plain": [
       "order_id                  28817\n",
       "user_id                   28817\n",
       "order_number              28817\n",
       "order_dow                 28817\n",
       "order_hour_of_day         28817\n",
       "days_since_prior_order        0\n",
       "dtype: int64"
      ]
     },
     "execution_count": 110,
     "metadata": {},
     "output_type": "execute_result"
    }
   ],
   "source": [
    "orders[orders['order_number']==1].count()"
   ]
  },
  {
   "cell_type": "code",
   "execution_count": 111,
   "id": "760caa94-f64b-46af-b84f-54defc605c89",
   "metadata": {},
   "outputs": [
    {
     "data": {
      "text/plain": [
       "order_id                      0\n",
       "user_id                       0\n",
       "order_number                  0\n",
       "order_dow                     0\n",
       "order_hour_of_day             0\n",
       "days_since_prior_order    28817\n",
       "dtype: int64"
      ]
     },
     "execution_count": 111,
     "metadata": {},
     "output_type": "execute_result"
    }
   ],
   "source": [
    "orders[orders['order_number']==1].isna().sum()"
   ]
  },
  {
   "cell_type": "markdown",
   "id": "a67927b3-ae0e-4fa8-8079-fad21518241f",
   "metadata": {},
   "source": [
    "__Conclusion:__ \n",
    "\n",
    "* The number of missing values in the column days_since_prior_order equals to the amount of purchases with only 1 order.\n",
    "* The 1st assumption seems to be correct and covers all missing values. There is no need for further exploration of the assumptions #2 and #3.\n",
    "* The missing values can be filled in with 0, because the number of days since prior order is 0 in this case."
   ]
  },
  {
   "cell_type": "markdown",
   "id": "9c1a2ae9-348d-47de-baf2-fe1fdfb37956",
   "metadata": {},
   "source": [
    "Filling in the missing values with 0 using the fillna method:"
   ]
  },
  {
   "cell_type": "code",
   "execution_count": 114,
   "id": "a843eef4-b424-4b8e-8186-298f80894f13",
   "metadata": {},
   "outputs": [],
   "source": [
    "orders['days_since_prior_order'] = orders['days_since_prior_order'].fillna(value=0)"
   ]
  },
  {
   "cell_type": "markdown",
   "id": "a043d04c-0601-47be-ab0a-26da516a685f",
   "metadata": {},
   "source": [
    "Control check for the missing values in the table orders:"
   ]
  },
  {
   "cell_type": "code",
   "execution_count": 116,
   "id": "846d9195-ac3a-4ea6-98a9-4ec180e06f0a",
   "metadata": {},
   "outputs": [
    {
     "name": "stdout",
     "output_type": "stream",
     "text": [
      "<class 'pandas.core.frame.DataFrame'>\n",
      "RangeIndex: 478952 entries, 0 to 478951\n",
      "Data columns (total 6 columns):\n",
      " #   Column                  Non-Null Count   Dtype\n",
      "---  ------                  --------------   -----\n",
      " 0   order_id                478952 non-null  int64\n",
      " 1   user_id                 478952 non-null  int64\n",
      " 2   order_number            478952 non-null  int64\n",
      " 3   order_dow               478952 non-null  int64\n",
      " 4   order_hour_of_day       478952 non-null  int64\n",
      " 5   days_since_prior_order  478952 non-null  Int64\n",
      "dtypes: Int64(1), int64(5)\n",
      "memory usage: 22.4 MB\n"
     ]
    }
   ],
   "source": [
    "orders.info()"
   ]
  },
  {
   "cell_type": "markdown",
   "id": "67a8b205-b886-464a-851b-48a3d544f162",
   "metadata": {},
   "source": [
    "__Conclusion:__\n",
    "* All missing values in the column days_since_prior_order are filled in with 0.\n",
    "\n",
    "[Back to Contents](#back)"
   ]
  },
  {
   "cell_type": "markdown",
   "id": "ac85b863-8c34-4540-aa72-020ed762262d",
   "metadata": {},
   "source": [
    "<h3>2.3.2. table 'products'</h3> <a id='table_products'></a>"
   ]
  },
  {
   "cell_type": "markdown",
   "id": "c5ad0310-8068-4b47-8f01-df5e42b94582",
   "metadata": {},
   "source": [
    "The column product_name contains the name of the product. \\\n",
    "This is a categorical variable of the data type object. \\\n",
    "To understand why there are missing values in this column it is necessary to take a closer look at the table products."
   ]
  },
  {
   "cell_type": "markdown",
   "id": "8989c9b5-7ede-4a86-9b9a-cfed399237a5",
   "metadata": {},
   "source": [
    "Calculating the number of missing values in the column product_name:"
   ]
  },
  {
   "cell_type": "code",
   "execution_count": 121,
   "id": "f9fe0fad-7cbe-45de-a888-8fad5877d9da",
   "metadata": {},
   "outputs": [
    {
     "data": {
      "text/plain": [
       "1258"
      ]
     },
     "execution_count": 121,
     "metadata": {},
     "output_type": "execute_result"
    }
   ],
   "source": [
    "products['product_name'].isna().sum()"
   ]
  },
  {
   "cell_type": "markdown",
   "id": "8bc1fd77-8ccb-4b11-8905-a92641fc3fab",
   "metadata": {},
   "source": [
    "Making a selection of the rows with the missing values:"
   ]
  },
  {
   "cell_type": "code",
   "execution_count": 123,
   "id": "e96b4dc3-84a7-4dcf-accb-333e8dd24aac",
   "metadata": {},
   "outputs": [
    {
     "data": {
      "text/html": [
       "<div>\n",
       "<style scoped>\n",
       "    .dataframe tbody tr th:only-of-type {\n",
       "        vertical-align: middle;\n",
       "    }\n",
       "\n",
       "    .dataframe tbody tr th {\n",
       "        vertical-align: top;\n",
       "    }\n",
       "\n",
       "    .dataframe thead th {\n",
       "        text-align: right;\n",
       "    }\n",
       "</style>\n",
       "<table border=\"1\" class=\"dataframe\">\n",
       "  <thead>\n",
       "    <tr style=\"text-align: right;\">\n",
       "      <th></th>\n",
       "      <th>index</th>\n",
       "      <th>product_id</th>\n",
       "      <th>product_name</th>\n",
       "      <th>aisle_id</th>\n",
       "      <th>department_id</th>\n",
       "    </tr>\n",
       "  </thead>\n",
       "  <tbody>\n",
       "    <tr>\n",
       "      <th>37</th>\n",
       "      <td>37</td>\n",
       "      <td>38</td>\n",
       "      <td>NaN</td>\n",
       "      <td>100</td>\n",
       "      <td>21</td>\n",
       "    </tr>\n",
       "    <tr>\n",
       "      <th>71</th>\n",
       "      <td>71</td>\n",
       "      <td>72</td>\n",
       "      <td>NaN</td>\n",
       "      <td>100</td>\n",
       "      <td>21</td>\n",
       "    </tr>\n",
       "    <tr>\n",
       "      <th>109</th>\n",
       "      <td>109</td>\n",
       "      <td>110</td>\n",
       "      <td>NaN</td>\n",
       "      <td>100</td>\n",
       "      <td>21</td>\n",
       "    </tr>\n",
       "    <tr>\n",
       "      <th>296</th>\n",
       "      <td>296</td>\n",
       "      <td>297</td>\n",
       "      <td>NaN</td>\n",
       "      <td>100</td>\n",
       "      <td>21</td>\n",
       "    </tr>\n",
       "    <tr>\n",
       "      <th>416</th>\n",
       "      <td>416</td>\n",
       "      <td>417</td>\n",
       "      <td>NaN</td>\n",
       "      <td>100</td>\n",
       "      <td>21</td>\n",
       "    </tr>\n",
       "    <tr>\n",
       "      <th>...</th>\n",
       "      <td>...</td>\n",
       "      <td>...</td>\n",
       "      <td>...</td>\n",
       "      <td>...</td>\n",
       "      <td>...</td>\n",
       "    </tr>\n",
       "    <tr>\n",
       "      <th>49454</th>\n",
       "      <td>49552</td>\n",
       "      <td>49553</td>\n",
       "      <td>NaN</td>\n",
       "      <td>100</td>\n",
       "      <td>21</td>\n",
       "    </tr>\n",
       "    <tr>\n",
       "      <th>49476</th>\n",
       "      <td>49574</td>\n",
       "      <td>49575</td>\n",
       "      <td>NaN</td>\n",
       "      <td>100</td>\n",
       "      <td>21</td>\n",
       "    </tr>\n",
       "    <tr>\n",
       "      <th>49542</th>\n",
       "      <td>49640</td>\n",
       "      <td>49641</td>\n",
       "      <td>NaN</td>\n",
       "      <td>100</td>\n",
       "      <td>21</td>\n",
       "    </tr>\n",
       "    <tr>\n",
       "      <th>49565</th>\n",
       "      <td>49663</td>\n",
       "      <td>49664</td>\n",
       "      <td>NaN</td>\n",
       "      <td>100</td>\n",
       "      <td>21</td>\n",
       "    </tr>\n",
       "    <tr>\n",
       "      <th>49570</th>\n",
       "      <td>49668</td>\n",
       "      <td>49669</td>\n",
       "      <td>NaN</td>\n",
       "      <td>100</td>\n",
       "      <td>21</td>\n",
       "    </tr>\n",
       "  </tbody>\n",
       "</table>\n",
       "<p>1258 rows × 5 columns</p>\n",
       "</div>"
      ],
      "text/plain": [
       "       index  product_id product_name  aisle_id  department_id\n",
       "37        37          38          NaN       100             21\n",
       "71        71          72          NaN       100             21\n",
       "109      109         110          NaN       100             21\n",
       "296      296         297          NaN       100             21\n",
       "416      416         417          NaN       100             21\n",
       "...      ...         ...          ...       ...            ...\n",
       "49454  49552       49553          NaN       100             21\n",
       "49476  49574       49575          NaN       100             21\n",
       "49542  49640       49641          NaN       100             21\n",
       "49565  49663       49664          NaN       100             21\n",
       "49570  49668       49669          NaN       100             21\n",
       "\n",
       "[1258 rows x 5 columns]"
      ]
     },
     "execution_count": 123,
     "metadata": {},
     "output_type": "execute_result"
    }
   ],
   "source": [
    "products[products['product_name'].isna()]"
   ]
  },
  {
   "cell_type": "markdown",
   "id": "0a1a6854-a1fe-4cc1-a036-d145220a489f",
   "metadata": {},
   "source": [
    "__Conclusion:__ \\\n",
    "The output shows a pattern: the missing values have aisle_id=100 and department_id=21.\n",
    "\n",
    "__Assumption:__ \\\n",
    "All missing values from the column product_name are from aisle_id=100 and department_id=21.\n",
    "\n",
    "Steps to check the assumption:\n",
    "* Explore the subset of rows with aisle_id=100.\n",
    "* Explore the subset of rows with department_id=21.\n",
    "* Decide what to do with the missing values."
   ]
  },
  {
   "cell_type": "markdown",
   "id": "a8dae27e-b872-46ee-85d8-03f0352836f9",
   "metadata": {},
   "source": [
    "Creating a subset of rows where aisle_id is equal to 100:"
   ]
  },
  {
   "cell_type": "code",
   "execution_count": 126,
   "id": "449574f5-9306-42e2-9b01-4e2a6d18b30f",
   "metadata": {},
   "outputs": [
    {
     "data": {
      "text/html": [
       "<div>\n",
       "<style scoped>\n",
       "    .dataframe tbody tr th:only-of-type {\n",
       "        vertical-align: middle;\n",
       "    }\n",
       "\n",
       "    .dataframe tbody tr th {\n",
       "        vertical-align: top;\n",
       "    }\n",
       "\n",
       "    .dataframe thead th {\n",
       "        text-align: right;\n",
       "    }\n",
       "</style>\n",
       "<table border=\"1\" class=\"dataframe\">\n",
       "  <thead>\n",
       "    <tr style=\"text-align: right;\">\n",
       "      <th></th>\n",
       "      <th>index</th>\n",
       "      <th>product_id</th>\n",
       "      <th>product_name</th>\n",
       "      <th>aisle_id</th>\n",
       "      <th>department_id</th>\n",
       "    </tr>\n",
       "  </thead>\n",
       "  <tbody>\n",
       "    <tr>\n",
       "      <th>37</th>\n",
       "      <td>37</td>\n",
       "      <td>38</td>\n",
       "      <td>NaN</td>\n",
       "      <td>100</td>\n",
       "      <td>21</td>\n",
       "    </tr>\n",
       "    <tr>\n",
       "      <th>71</th>\n",
       "      <td>71</td>\n",
       "      <td>72</td>\n",
       "      <td>NaN</td>\n",
       "      <td>100</td>\n",
       "      <td>21</td>\n",
       "    </tr>\n",
       "    <tr>\n",
       "      <th>109</th>\n",
       "      <td>109</td>\n",
       "      <td>110</td>\n",
       "      <td>NaN</td>\n",
       "      <td>100</td>\n",
       "      <td>21</td>\n",
       "    </tr>\n",
       "    <tr>\n",
       "      <th>296</th>\n",
       "      <td>296</td>\n",
       "      <td>297</td>\n",
       "      <td>NaN</td>\n",
       "      <td>100</td>\n",
       "      <td>21</td>\n",
       "    </tr>\n",
       "    <tr>\n",
       "      <th>416</th>\n",
       "      <td>416</td>\n",
       "      <td>417</td>\n",
       "      <td>NaN</td>\n",
       "      <td>100</td>\n",
       "      <td>21</td>\n",
       "    </tr>\n",
       "    <tr>\n",
       "      <th>...</th>\n",
       "      <td>...</td>\n",
       "      <td>...</td>\n",
       "      <td>...</td>\n",
       "      <td>...</td>\n",
       "      <td>...</td>\n",
       "    </tr>\n",
       "    <tr>\n",
       "      <th>49454</th>\n",
       "      <td>49552</td>\n",
       "      <td>49553</td>\n",
       "      <td>NaN</td>\n",
       "      <td>100</td>\n",
       "      <td>21</td>\n",
       "    </tr>\n",
       "    <tr>\n",
       "      <th>49476</th>\n",
       "      <td>49574</td>\n",
       "      <td>49575</td>\n",
       "      <td>NaN</td>\n",
       "      <td>100</td>\n",
       "      <td>21</td>\n",
       "    </tr>\n",
       "    <tr>\n",
       "      <th>49542</th>\n",
       "      <td>49640</td>\n",
       "      <td>49641</td>\n",
       "      <td>NaN</td>\n",
       "      <td>100</td>\n",
       "      <td>21</td>\n",
       "    </tr>\n",
       "    <tr>\n",
       "      <th>49565</th>\n",
       "      <td>49663</td>\n",
       "      <td>49664</td>\n",
       "      <td>NaN</td>\n",
       "      <td>100</td>\n",
       "      <td>21</td>\n",
       "    </tr>\n",
       "    <tr>\n",
       "      <th>49570</th>\n",
       "      <td>49668</td>\n",
       "      <td>49669</td>\n",
       "      <td>NaN</td>\n",
       "      <td>100</td>\n",
       "      <td>21</td>\n",
       "    </tr>\n",
       "  </tbody>\n",
       "</table>\n",
       "<p>1258 rows × 5 columns</p>\n",
       "</div>"
      ],
      "text/plain": [
       "       index  product_id product_name  aisle_id  department_id\n",
       "37        37          38          NaN       100             21\n",
       "71        71          72          NaN       100             21\n",
       "109      109         110          NaN       100             21\n",
       "296      296         297          NaN       100             21\n",
       "416      416         417          NaN       100             21\n",
       "...      ...         ...          ...       ...            ...\n",
       "49454  49552       49553          NaN       100             21\n",
       "49476  49574       49575          NaN       100             21\n",
       "49542  49640       49641          NaN       100             21\n",
       "49565  49663       49664          NaN       100             21\n",
       "49570  49668       49669          NaN       100             21\n",
       "\n",
       "[1258 rows x 5 columns]"
      ]
     },
     "execution_count": 126,
     "metadata": {},
     "output_type": "execute_result"
    }
   ],
   "source": [
    "products[products['aisle_id']==100]"
   ]
  },
  {
   "cell_type": "markdown",
   "id": "a8b32b90-0dc7-4a16-98fc-1e11f705ff26",
   "metadata": {},
   "source": [
    "Checking the number of missing values for all aisle_id equal to 100:"
   ]
  },
  {
   "cell_type": "code",
   "execution_count": 128,
   "id": "e70924b4-9818-49e6-8ef5-a347e3a0d4fb",
   "metadata": {},
   "outputs": [
    {
     "data": {
      "text/plain": [
       "index               0\n",
       "product_id          0\n",
       "product_name     1258\n",
       "aisle_id            0\n",
       "department_id       0\n",
       "dtype: int64"
      ]
     },
     "execution_count": 128,
     "metadata": {},
     "output_type": "execute_result"
    }
   ],
   "source": [
    "products[products['aisle_id']==100].isna().sum()"
   ]
  },
  {
   "cell_type": "markdown",
   "id": "f1f71eaf-6e03-43cf-8dd8-048b5996ee7c",
   "metadata": {},
   "source": [
    "__Conclusion:__\n",
    "* All product names from the aisle_id=100 are missing."
   ]
  },
  {
   "cell_type": "markdown",
   "id": "c5449982-bda0-4fe9-9e97-ce7f26d7ef4f",
   "metadata": {},
   "source": [
    "Creating a subset of rows where department_id is equal to 21:"
   ]
  },
  {
   "cell_type": "code",
   "execution_count": 131,
   "id": "3657da4c-544b-42e3-aa99-4e5aedc94a48",
   "metadata": {},
   "outputs": [
    {
     "data": {
      "text/html": [
       "<div>\n",
       "<style scoped>\n",
       "    .dataframe tbody tr th:only-of-type {\n",
       "        vertical-align: middle;\n",
       "    }\n",
       "\n",
       "    .dataframe tbody tr th {\n",
       "        vertical-align: top;\n",
       "    }\n",
       "\n",
       "    .dataframe thead th {\n",
       "        text-align: right;\n",
       "    }\n",
       "</style>\n",
       "<table border=\"1\" class=\"dataframe\">\n",
       "  <thead>\n",
       "    <tr style=\"text-align: right;\">\n",
       "      <th></th>\n",
       "      <th>index</th>\n",
       "      <th>product_id</th>\n",
       "      <th>product_name</th>\n",
       "      <th>aisle_id</th>\n",
       "      <th>department_id</th>\n",
       "    </tr>\n",
       "  </thead>\n",
       "  <tbody>\n",
       "    <tr>\n",
       "      <th>37</th>\n",
       "      <td>37</td>\n",
       "      <td>38</td>\n",
       "      <td>NaN</td>\n",
       "      <td>100</td>\n",
       "      <td>21</td>\n",
       "    </tr>\n",
       "    <tr>\n",
       "      <th>71</th>\n",
       "      <td>71</td>\n",
       "      <td>72</td>\n",
       "      <td>NaN</td>\n",
       "      <td>100</td>\n",
       "      <td>21</td>\n",
       "    </tr>\n",
       "    <tr>\n",
       "      <th>109</th>\n",
       "      <td>109</td>\n",
       "      <td>110</td>\n",
       "      <td>NaN</td>\n",
       "      <td>100</td>\n",
       "      <td>21</td>\n",
       "    </tr>\n",
       "    <tr>\n",
       "      <th>296</th>\n",
       "      <td>296</td>\n",
       "      <td>297</td>\n",
       "      <td>NaN</td>\n",
       "      <td>100</td>\n",
       "      <td>21</td>\n",
       "    </tr>\n",
       "    <tr>\n",
       "      <th>416</th>\n",
       "      <td>416</td>\n",
       "      <td>417</td>\n",
       "      <td>NaN</td>\n",
       "      <td>100</td>\n",
       "      <td>21</td>\n",
       "    </tr>\n",
       "    <tr>\n",
       "      <th>...</th>\n",
       "      <td>...</td>\n",
       "      <td>...</td>\n",
       "      <td>...</td>\n",
       "      <td>...</td>\n",
       "      <td>...</td>\n",
       "    </tr>\n",
       "    <tr>\n",
       "      <th>49454</th>\n",
       "      <td>49552</td>\n",
       "      <td>49553</td>\n",
       "      <td>NaN</td>\n",
       "      <td>100</td>\n",
       "      <td>21</td>\n",
       "    </tr>\n",
       "    <tr>\n",
       "      <th>49476</th>\n",
       "      <td>49574</td>\n",
       "      <td>49575</td>\n",
       "      <td>NaN</td>\n",
       "      <td>100</td>\n",
       "      <td>21</td>\n",
       "    </tr>\n",
       "    <tr>\n",
       "      <th>49542</th>\n",
       "      <td>49640</td>\n",
       "      <td>49641</td>\n",
       "      <td>NaN</td>\n",
       "      <td>100</td>\n",
       "      <td>21</td>\n",
       "    </tr>\n",
       "    <tr>\n",
       "      <th>49565</th>\n",
       "      <td>49663</td>\n",
       "      <td>49664</td>\n",
       "      <td>NaN</td>\n",
       "      <td>100</td>\n",
       "      <td>21</td>\n",
       "    </tr>\n",
       "    <tr>\n",
       "      <th>49570</th>\n",
       "      <td>49668</td>\n",
       "      <td>49669</td>\n",
       "      <td>NaN</td>\n",
       "      <td>100</td>\n",
       "      <td>21</td>\n",
       "    </tr>\n",
       "  </tbody>\n",
       "</table>\n",
       "<p>1258 rows × 5 columns</p>\n",
       "</div>"
      ],
      "text/plain": [
       "       index  product_id product_name  aisle_id  department_id\n",
       "37        37          38          NaN       100             21\n",
       "71        71          72          NaN       100             21\n",
       "109      109         110          NaN       100             21\n",
       "296      296         297          NaN       100             21\n",
       "416      416         417          NaN       100             21\n",
       "...      ...         ...          ...       ...            ...\n",
       "49454  49552       49553          NaN       100             21\n",
       "49476  49574       49575          NaN       100             21\n",
       "49542  49640       49641          NaN       100             21\n",
       "49565  49663       49664          NaN       100             21\n",
       "49570  49668       49669          NaN       100             21\n",
       "\n",
       "[1258 rows x 5 columns]"
      ]
     },
     "execution_count": 131,
     "metadata": {},
     "output_type": "execute_result"
    }
   ],
   "source": [
    "products[products['department_id']==21]"
   ]
  },
  {
   "cell_type": "markdown",
   "id": "39a1290c-d4c6-49b8-a3e6-1ceaafe90407",
   "metadata": {},
   "source": [
    "Checking the number of missing values for all department_id equal to 21:"
   ]
  },
  {
   "cell_type": "code",
   "execution_count": 133,
   "id": "9d0a4339-a386-4a44-937b-571620cdd5de",
   "metadata": {},
   "outputs": [
    {
     "data": {
      "text/plain": [
       "index               0\n",
       "product_id          0\n",
       "product_name     1258\n",
       "aisle_id            0\n",
       "department_id       0\n",
       "dtype: int64"
      ]
     },
     "execution_count": 133,
     "metadata": {},
     "output_type": "execute_result"
    }
   ],
   "source": [
    "products[products['department_id']==21].isna().sum()"
   ]
  },
  {
   "cell_type": "markdown",
   "id": "527c5867-5ea5-43d3-b491-a6864275649f",
   "metadata": {},
   "source": [
    "__Conclusion:__\n",
    "* All product names from the department_id=21 are missing."
   ]
  },
  {
   "cell_type": "markdown",
   "id": "88f37ceb-1ebb-47c9-bb08-dc228de7f187",
   "metadata": {},
   "source": [
    "Further steps:\n",
    "* The assumption is correct.\n",
    "* It is necessary to have a look at aisle_id = 100 (tables aisles) and department_id = 21 (table departments) to see if the missing values can be restored."
   ]
  },
  {
   "cell_type": "code",
   "execution_count": 136,
   "id": "df5bc931-948a-4ada-80ad-eeb483b6a52f",
   "metadata": {},
   "outputs": [
    {
     "data": {
      "text/html": [
       "<div>\n",
       "<style scoped>\n",
       "    .dataframe tbody tr th:only-of-type {\n",
       "        vertical-align: middle;\n",
       "    }\n",
       "\n",
       "    .dataframe tbody tr th {\n",
       "        vertical-align: top;\n",
       "    }\n",
       "\n",
       "    .dataframe thead th {\n",
       "        text-align: right;\n",
       "    }\n",
       "</style>\n",
       "<table border=\"1\" class=\"dataframe\">\n",
       "  <thead>\n",
       "    <tr style=\"text-align: right;\">\n",
       "      <th></th>\n",
       "      <th>aisle_id</th>\n",
       "      <th>aisle</th>\n",
       "    </tr>\n",
       "  </thead>\n",
       "  <tbody>\n",
       "    <tr>\n",
       "      <th>99</th>\n",
       "      <td>100</td>\n",
       "      <td>missing</td>\n",
       "    </tr>\n",
       "  </tbody>\n",
       "</table>\n",
       "</div>"
      ],
      "text/plain": [
       "    aisle_id    aisle\n",
       "99       100  missing"
      ]
     },
     "execution_count": 136,
     "metadata": {},
     "output_type": "execute_result"
    }
   ],
   "source": [
    "aisles[aisles['aisle_id']==100]"
   ]
  },
  {
   "cell_type": "code",
   "execution_count": 137,
   "id": "d5d24e66-37f6-4385-b241-6eac62cdd3a4",
   "metadata": {},
   "outputs": [
    {
     "data": {
      "text/html": [
       "<div>\n",
       "<style scoped>\n",
       "    .dataframe tbody tr th:only-of-type {\n",
       "        vertical-align: middle;\n",
       "    }\n",
       "\n",
       "    .dataframe tbody tr th {\n",
       "        vertical-align: top;\n",
       "    }\n",
       "\n",
       "    .dataframe thead th {\n",
       "        text-align: right;\n",
       "    }\n",
       "</style>\n",
       "<table border=\"1\" class=\"dataframe\">\n",
       "  <thead>\n",
       "    <tr style=\"text-align: right;\">\n",
       "      <th></th>\n",
       "      <th>department_id</th>\n",
       "      <th>department</th>\n",
       "    </tr>\n",
       "  </thead>\n",
       "  <tbody>\n",
       "    <tr>\n",
       "      <th>20</th>\n",
       "      <td>21</td>\n",
       "      <td>missing</td>\n",
       "    </tr>\n",
       "  </tbody>\n",
       "</table>\n",
       "</div>"
      ],
      "text/plain": [
       "    department_id department\n",
       "20             21    missing"
      ]
     },
     "execution_count": 137,
     "metadata": {},
     "output_type": "execute_result"
    }
   ],
   "source": [
    "departments[departments['department_id']==21]"
   ]
  },
  {
   "cell_type": "markdown",
   "id": "76e294d8-a636-4966-8f7f-8dd4d9920361",
   "metadata": {},
   "source": [
    "__Conclusion:__\n",
    "* Both aisle_id=100 and department_id=21 are missing.\n",
    "* Assumption: if a product cannot be categorized or it is not possible to find where the product is stored, then its aisle and department are marked as missing.\n",
    "* Thus, the missing values in the column product_name cannot be restored.\n",
    "* In this case the missing values can be best filled in as unknown."
   ]
  },
  {
   "cell_type": "markdown",
   "id": "b3ed8284-f97c-4cba-9b98-6e71313cd3c9",
   "metadata": {},
   "source": [
    "Filling in the missing values with 'unknown' using the fillna method:"
   ]
  },
  {
   "cell_type": "code",
   "execution_count": 140,
   "id": "0f43b5b9-0521-4eea-af50-a4dc8fd8a974",
   "metadata": {},
   "outputs": [],
   "source": [
    "products['product_name']=products['product_name'].fillna('unknown')"
   ]
  },
  {
   "cell_type": "markdown",
   "id": "77207437-db25-4cb7-b943-297e612067b7",
   "metadata": {},
   "source": [
    "Control check for the missing values in the column product_name of the table products:"
   ]
  },
  {
   "cell_type": "code",
   "execution_count": 142,
   "id": "b8a2f0d6-6246-47e2-859f-86b7c5cfaa6b",
   "metadata": {},
   "outputs": [
    {
     "data": {
      "text/plain": [
       "0"
      ]
     },
     "execution_count": 142,
     "metadata": {},
     "output_type": "execute_result"
    }
   ],
   "source": [
    "products['product_name'].isna().sum()"
   ]
  },
  {
   "cell_type": "markdown",
   "id": "71285669-637e-4eb3-9d75-1d6ba8d5f96b",
   "metadata": {},
   "source": [
    "__Conclusion:__\n",
    "* All missing values in the column product_name are filled in with 'unknown'.\n",
    "\n",
    "[Back to Contents](#back)"
   ]
  },
  {
   "cell_type": "markdown",
   "id": "04c72a75-630c-4fcd-9219-a6016a674de3",
   "metadata": {},
   "source": [
    "<h3>2.3.3. table 'order_products'</h3> <a id='order_products'></a>"
   ]
  },
  {
   "cell_type": "markdown",
   "id": "0a9962ae-8ac8-4987-9b3d-827c3930eb7b",
   "metadata": {},
   "source": [
    "The column add_to_cart_order contains the sequential order in which each item was placed in the cart. \\\n",
    "To understand why there are missing values in this column it is necessary to:\n",
    "- Take a closer look at the table order_products.\n",
    "- Explore the connection between add_to_cart_order and other columns in the table to see if they’re responsible for the missing values.\n",
    "- Check the unique values in the column itself."
   ]
  },
  {
   "cell_type": "markdown",
   "id": "fa7fdf4d-3a6b-426e-971d-7407f4f6c36b",
   "metadata": {},
   "source": [
    "Calculating the number of missing values in the column add_to_cart_order:"
   ]
  },
  {
   "cell_type": "code",
   "execution_count": 147,
   "id": "197f6257-01d5-4f28-a4f3-9be54b7c829e",
   "metadata": {},
   "outputs": [
    {
     "data": {
      "text/plain": [
       "836"
      ]
     },
     "execution_count": 147,
     "metadata": {},
     "output_type": "execute_result"
    }
   ],
   "source": [
    "order_products['add_to_cart_order'].isna().sum()"
   ]
  },
  {
   "cell_type": "markdown",
   "id": "4c89a48b-26e6-47ad-a722-c43a94f76305",
   "metadata": {},
   "source": [
    "Making a selection of the rows with the missing values:"
   ]
  },
  {
   "cell_type": "code",
   "execution_count": 149,
   "id": "a5072498-2274-47b7-8888-63de4d052f81",
   "metadata": {},
   "outputs": [
    {
     "data": {
      "text/html": [
       "<div>\n",
       "<style scoped>\n",
       "    .dataframe tbody tr th:only-of-type {\n",
       "        vertical-align: middle;\n",
       "    }\n",
       "\n",
       "    .dataframe tbody tr th {\n",
       "        vertical-align: top;\n",
       "    }\n",
       "\n",
       "    .dataframe thead th {\n",
       "        text-align: right;\n",
       "    }\n",
       "</style>\n",
       "<table border=\"1\" class=\"dataframe\">\n",
       "  <thead>\n",
       "    <tr style=\"text-align: right;\">\n",
       "      <th></th>\n",
       "      <th>order_id</th>\n",
       "      <th>product_id</th>\n",
       "      <th>add_to_cart_order</th>\n",
       "      <th>reordered</th>\n",
       "    </tr>\n",
       "  </thead>\n",
       "  <tbody>\n",
       "    <tr>\n",
       "      <th>737</th>\n",
       "      <td>2449164</td>\n",
       "      <td>5068</td>\n",
       "      <td>&lt;NA&gt;</td>\n",
       "      <td>0</td>\n",
       "    </tr>\n",
       "    <tr>\n",
       "      <th>9926</th>\n",
       "      <td>1968313</td>\n",
       "      <td>43867</td>\n",
       "      <td>&lt;NA&gt;</td>\n",
       "      <td>0</td>\n",
       "    </tr>\n",
       "    <tr>\n",
       "      <th>14394</th>\n",
       "      <td>2926893</td>\n",
       "      <td>11688</td>\n",
       "      <td>&lt;NA&gt;</td>\n",
       "      <td>0</td>\n",
       "    </tr>\n",
       "    <tr>\n",
       "      <th>16418</th>\n",
       "      <td>1717990</td>\n",
       "      <td>4142</td>\n",
       "      <td>&lt;NA&gt;</td>\n",
       "      <td>0</td>\n",
       "    </tr>\n",
       "    <tr>\n",
       "      <th>30114</th>\n",
       "      <td>1959075</td>\n",
       "      <td>42828</td>\n",
       "      <td>&lt;NA&gt;</td>\n",
       "      <td>1</td>\n",
       "    </tr>\n",
       "    <tr>\n",
       "      <th>...</th>\n",
       "      <td>...</td>\n",
       "      <td>...</td>\n",
       "      <td>...</td>\n",
       "      <td>...</td>\n",
       "    </tr>\n",
       "    <tr>\n",
       "      <th>4505662</th>\n",
       "      <td>1800005</td>\n",
       "      <td>7411</td>\n",
       "      <td>&lt;NA&gt;</td>\n",
       "      <td>0</td>\n",
       "    </tr>\n",
       "    <tr>\n",
       "      <th>4511400</th>\n",
       "      <td>1633337</td>\n",
       "      <td>260</td>\n",
       "      <td>&lt;NA&gt;</td>\n",
       "      <td>0</td>\n",
       "    </tr>\n",
       "    <tr>\n",
       "      <th>4517562</th>\n",
       "      <td>404157</td>\n",
       "      <td>9517</td>\n",
       "      <td>&lt;NA&gt;</td>\n",
       "      <td>0</td>\n",
       "    </tr>\n",
       "    <tr>\n",
       "      <th>4534112</th>\n",
       "      <td>1673227</td>\n",
       "      <td>17835</td>\n",
       "      <td>&lt;NA&gt;</td>\n",
       "      <td>0</td>\n",
       "    </tr>\n",
       "    <tr>\n",
       "      <th>4535739</th>\n",
       "      <td>1832957</td>\n",
       "      <td>17949</td>\n",
       "      <td>&lt;NA&gt;</td>\n",
       "      <td>1</td>\n",
       "    </tr>\n",
       "  </tbody>\n",
       "</table>\n",
       "<p>836 rows × 4 columns</p>\n",
       "</div>"
      ],
      "text/plain": [
       "         order_id  product_id  add_to_cart_order  reordered\n",
       "737       2449164        5068               <NA>          0\n",
       "9926      1968313       43867               <NA>          0\n",
       "14394     2926893       11688               <NA>          0\n",
       "16418     1717990        4142               <NA>          0\n",
       "30114     1959075       42828               <NA>          1\n",
       "...           ...         ...                ...        ...\n",
       "4505662   1800005        7411               <NA>          0\n",
       "4511400   1633337         260               <NA>          0\n",
       "4517562    404157        9517               <NA>          0\n",
       "4534112   1673227       17835               <NA>          0\n",
       "4535739   1832957       17949               <NA>          1\n",
       "\n",
       "[836 rows x 4 columns]"
      ]
     },
     "execution_count": 149,
     "metadata": {},
     "output_type": "execute_result"
    }
   ],
   "source": [
    "order_products[order_products['add_to_cart_order'].isna()]"
   ]
  },
  {
   "cell_type": "markdown",
   "id": "8b59c3cb-453c-4d0d-a292-04a77d07caa8",
   "metadata": {},
   "source": [
    "__Conclusion:__\n",
    "* The table does not show any patterns for missing values."
   ]
  },
  {
   "cell_type": "markdown",
   "id": "0d1ab11e-0160-4a28-8893-b44612d680e9",
   "metadata": {},
   "source": [
    "Checking the unique values in the column add_to_cart_order sorted in ascending order:"
   ]
  },
  {
   "cell_type": "code",
   "execution_count": 152,
   "id": "703a5f61-0315-4599-946e-74e82b02a480",
   "metadata": {},
   "outputs": [
    {
     "data": {
      "text/plain": [
       "<IntegerArray>\n",
       "[   1,    2,    3,    4,    5,    6,    7,    8,    9,   10,   11,   12,   13,\n",
       "   14,   15,   16,   17,   18,   19,   20,   21,   22,   23,   24,   25,   26,\n",
       "   27,   28,   29,   30,   31,   32,   33,   34,   35,   36,   37,   38,   39,\n",
       "   40,   41,   42,   43,   44,   45,   46,   47,   48,   49,   50,   51,   52,\n",
       "   53,   54,   55,   56,   57,   58,   59,   60,   61,   62,   63,   64, <NA>]\n",
       "Length: 65, dtype: Int64"
      ]
     },
     "execution_count": 152,
     "metadata": {},
     "output_type": "execute_result"
    }
   ],
   "source": [
    "order_products['add_to_cart_order'].sort_values().unique()"
   ]
  },
  {
   "cell_type": "markdown",
   "id": "388b858c-3bc4-44b5-89b4-b329a7d7b700",
   "metadata": {},
   "source": [
    "__Conclusion:__\n",
    "* The range of values is between 1 and 64.\n",
    "* Each value between 1 and 64 is represented in the column."
   ]
  },
  {
   "cell_type": "markdown",
   "id": "08f20506-7d39-42fe-b943-ddea5d4a7d67",
   "metadata": {},
   "source": [
    "__Assumption:__\n",
    "The values that exceed 64 products in one order might be represented as missing.\n",
    "\n",
    "To check the assumption it is necessary to:\n",
    "* Look at orders that have missing values in the column add_to_cart_order.\n",
    "* Investigate the column order_id that uniquely identifies each order.\n",
    "* Investigate the column product_id that uniquely identifies each product.\n",
    "* Calculate how many products has each order where the values are missing."
   ]
  },
  {
   "cell_type": "markdown",
   "id": "9775df36-b7fa-45a0-8824-938b730c9246",
   "metadata": {},
   "source": [
    "Creating a subset where add_to_cart_order values are missing."
   ]
  },
  {
   "cell_type": "code",
   "execution_count": 156,
   "id": "888a4bb6-4a09-468a-87a1-a815d0d4a4c0",
   "metadata": {},
   "outputs": [
    {
     "data": {
      "text/html": [
       "<div>\n",
       "<style scoped>\n",
       "    .dataframe tbody tr th:only-of-type {\n",
       "        vertical-align: middle;\n",
       "    }\n",
       "\n",
       "    .dataframe tbody tr th {\n",
       "        vertical-align: top;\n",
       "    }\n",
       "\n",
       "    .dataframe thead th {\n",
       "        text-align: right;\n",
       "    }\n",
       "</style>\n",
       "<table border=\"1\" class=\"dataframe\">\n",
       "  <thead>\n",
       "    <tr style=\"text-align: right;\">\n",
       "      <th></th>\n",
       "      <th>order_id</th>\n",
       "      <th>product_id</th>\n",
       "      <th>add_to_cart_order</th>\n",
       "      <th>reordered</th>\n",
       "    </tr>\n",
       "  </thead>\n",
       "  <tbody>\n",
       "    <tr>\n",
       "      <th>737</th>\n",
       "      <td>2449164</td>\n",
       "      <td>5068</td>\n",
       "      <td>&lt;NA&gt;</td>\n",
       "      <td>0</td>\n",
       "    </tr>\n",
       "    <tr>\n",
       "      <th>9926</th>\n",
       "      <td>1968313</td>\n",
       "      <td>43867</td>\n",
       "      <td>&lt;NA&gt;</td>\n",
       "      <td>0</td>\n",
       "    </tr>\n",
       "    <tr>\n",
       "      <th>14394</th>\n",
       "      <td>2926893</td>\n",
       "      <td>11688</td>\n",
       "      <td>&lt;NA&gt;</td>\n",
       "      <td>0</td>\n",
       "    </tr>\n",
       "    <tr>\n",
       "      <th>16418</th>\n",
       "      <td>1717990</td>\n",
       "      <td>4142</td>\n",
       "      <td>&lt;NA&gt;</td>\n",
       "      <td>0</td>\n",
       "    </tr>\n",
       "    <tr>\n",
       "      <th>30114</th>\n",
       "      <td>1959075</td>\n",
       "      <td>42828</td>\n",
       "      <td>&lt;NA&gt;</td>\n",
       "      <td>1</td>\n",
       "    </tr>\n",
       "    <tr>\n",
       "      <th>...</th>\n",
       "      <td>...</td>\n",
       "      <td>...</td>\n",
       "      <td>...</td>\n",
       "      <td>...</td>\n",
       "    </tr>\n",
       "    <tr>\n",
       "      <th>4505662</th>\n",
       "      <td>1800005</td>\n",
       "      <td>7411</td>\n",
       "      <td>&lt;NA&gt;</td>\n",
       "      <td>0</td>\n",
       "    </tr>\n",
       "    <tr>\n",
       "      <th>4511400</th>\n",
       "      <td>1633337</td>\n",
       "      <td>260</td>\n",
       "      <td>&lt;NA&gt;</td>\n",
       "      <td>0</td>\n",
       "    </tr>\n",
       "    <tr>\n",
       "      <th>4517562</th>\n",
       "      <td>404157</td>\n",
       "      <td>9517</td>\n",
       "      <td>&lt;NA&gt;</td>\n",
       "      <td>0</td>\n",
       "    </tr>\n",
       "    <tr>\n",
       "      <th>4534112</th>\n",
       "      <td>1673227</td>\n",
       "      <td>17835</td>\n",
       "      <td>&lt;NA&gt;</td>\n",
       "      <td>0</td>\n",
       "    </tr>\n",
       "    <tr>\n",
       "      <th>4535739</th>\n",
       "      <td>1832957</td>\n",
       "      <td>17949</td>\n",
       "      <td>&lt;NA&gt;</td>\n",
       "      <td>1</td>\n",
       "    </tr>\n",
       "  </tbody>\n",
       "</table>\n",
       "<p>836 rows × 4 columns</p>\n",
       "</div>"
      ],
      "text/plain": [
       "         order_id  product_id  add_to_cart_order  reordered\n",
       "737       2449164        5068               <NA>          0\n",
       "9926      1968313       43867               <NA>          0\n",
       "14394     2926893       11688               <NA>          0\n",
       "16418     1717990        4142               <NA>          0\n",
       "30114     1959075       42828               <NA>          1\n",
       "...           ...         ...                ...        ...\n",
       "4505662   1800005        7411               <NA>          0\n",
       "4511400   1633337         260               <NA>          0\n",
       "4517562    404157        9517               <NA>          0\n",
       "4534112   1673227       17835               <NA>          0\n",
       "4535739   1832957       17949               <NA>          1\n",
       "\n",
       "[836 rows x 4 columns]"
      ]
     },
     "execution_count": 156,
     "metadata": {},
     "output_type": "execute_result"
    }
   ],
   "source": [
    "subset_missing = order_products[order_products['add_to_cart_order'].isna()]\n",
    "subset_missing"
   ]
  },
  {
   "cell_type": "markdown",
   "id": "698e9539-3759-420b-8970-7567baf428ab",
   "metadata": {},
   "source": [
    "Creating an array of unique order IDs with at least one missing value in the add_to_cart_order column:"
   ]
  },
  {
   "cell_type": "code",
   "execution_count": 158,
   "id": "93275a1a-a513-4739-9bd0-d4cd032140a8",
   "metadata": {},
   "outputs": [
    {
     "data": {
      "text/plain": [
       "70"
      ]
     },
     "execution_count": 158,
     "metadata": {},
     "output_type": "execute_result"
    }
   ],
   "source": [
    "orders_missing = subset_missing['order_id'].unique()\n",
    "orders_missing.size"
   ]
  },
  {
   "cell_type": "markdown",
   "id": "004ae00e-7869-46c0-89e7-89f1fdcbb9fc",
   "metadata": {},
   "source": [
    "Now there are order IDs for each row where the values are missing.\n",
    "\n",
    "Filtering the dataset based on this array to create a subset, where order_id belongs to the rows with missing values:"
   ]
  },
  {
   "cell_type": "code",
   "execution_count": 160,
   "id": "c315750c-bad7-4dd8-810f-e0574de64e3a",
   "metadata": {},
   "outputs": [],
   "source": [
    "subset_orders = order_products[order_products.order_id.isin(orders_missing)]"
   ]
  },
  {
   "cell_type": "markdown",
   "id": "145ec2aa-2e0f-4254-b185-bb6d79c21b6e",
   "metadata": {},
   "source": [
    "Now it is possible to count how many products each of these orders contains.\n",
    "\n",
    "The subset is grouped by order_id and the number of unique products is calculated for every order_id that has missing values. \\\n",
    "Calculating the amount of products per each order:"
   ]
  },
  {
   "cell_type": "code",
   "execution_count": 162,
   "id": "3f251405-27c6-4cbd-8542-c3d8fea5db8d",
   "metadata": {},
   "outputs": [
    {
     "data": {
      "text/plain": [
       "order_id\n",
       "9310        65\n",
       "747668      65\n",
       "1598369     65\n",
       "1677118     65\n",
       "2170451     65\n",
       "          ... \n",
       "1959075     98\n",
       "171934     104\n",
       "2136777    108\n",
       "3308010    115\n",
       "61355      127\n",
       "Name: product_id, Length: 70, dtype: int64"
      ]
     },
     "execution_count": 162,
     "metadata": {},
     "output_type": "execute_result"
    }
   ],
   "source": [
    "subset_orders.groupby('order_id')['product_id'].nunique().sort_values()"
   ]
  },
  {
   "cell_type": "markdown",
   "id": "e7a7069e-4bab-4df5-8c57-a3407ddd9f88",
   "metadata": {},
   "source": [
    "Now for every order_id there is the amount of products within this order. \\\n",
    "The column is sorted in the ascending order. \\\n",
    "The minimum value is 65."
   ]
  },
  {
   "cell_type": "markdown",
   "id": "065cea18-c3e4-4de9-a443-04a2e4ba9345",
   "metadata": {},
   "source": [
    "__Conclusion:__\n",
    "* There are 70 unique orders with missing values in the column add_to_cart_order, and all of them have more than 64 products per order.\n",
    "* All orders with missing values have more than 64 products.\n",
    "* The assumption was correct.\n",
    "* A possible reason for this: if there are too many products in one order, the system cannot keep up, cannot count them correctly and freezes.\n",
    "* The missing values in the column add_to_cart_order cannot be guessed or restored from other columns.\n",
    "* Replacing these values with any value can lead to incorrect calculations in further analysis.\n",
    "* The missing values in the column add_to_cart_order are left as they are.\n",
    "\n",
    "[Back to Contents](#back)"
   ]
  },
  {
   "cell_type": "markdown",
   "id": "35c779ac-e80e-45b3-8ac2-57b025bbc46d",
   "metadata": {},
   "source": [
    "Control check if working with the missing values did not create duplicated rows:"
   ]
  },
  {
   "cell_type": "code",
   "execution_count": 166,
   "id": "03b20820-dde1-4e77-a4f3-9ebb569fec4c",
   "metadata": {},
   "outputs": [
    {
     "name": "stdout",
     "output_type": "stream",
     "text": [
      "The number of duplicates in orders is: 0\n",
      "The number of duplicates in products is: 0\n",
      "The number of duplicates in order_products is: 0\n",
      "The number of duplicates in aisles is: 0\n",
      "The number of duplicates in departments is: 0\n"
     ]
    }
   ],
   "source": [
    "tables = [orders, products, order_products, aisles, departments]\n",
    "names = ['orders', 'products', 'order_products', 'aisles', 'departments']\n",
    "for table, name in zip(tables, names):\n",
    "    number_duplicates = table.duplicated().sum()\n",
    "    print(f'The number of duplicates in {name} is: {number_duplicates}')"
   ]
  },
  {
   "cell_type": "markdown",
   "id": "fe3c642e-ca47-4a2c-97e5-8c1d857b98cd",
   "metadata": {},
   "source": [
    "<h2>Summary</h2> <a id='summary_3'></a>\n",
    "\n",
    "The missing values were processed in this way:\n",
    "- table orders - column days_since_prior_order: filled in with 0.\n",
    "- table products - column product_name: filled in with 'unknown'.\n",
    "- table order_products - column add_to_cart_order: left as they are.\n",
    "\n",
    "The final check for duplicated rows did not reveal any."
   ]
  },
  {
   "cell_type": "markdown",
   "id": "a66149af-1fce-4ce3-884d-a643a72e72b9",
   "metadata": {},
   "source": [
    "<h2>Conclusions</h2> <a id='conclusions_2'></a>\n",
    "\n",
    "- The dataset is fully preprocessed:\n",
    "    - data types adjusted.\n",
    "    - duplicate values removed.\n",
    "    - missing values filled in, except for the table order_products, where they were left as they are.\n",
    "- The dataset is ready for the analysis.\n",
    "\n",
    "[Back to Contents](#back)"
   ]
  },
  {
   "cell_type": "markdown",
   "id": "5d215d12-e425-4b9d-b25d-8235243eee14",
   "metadata": {},
   "source": [
    "<h1>3. Analysis</h1> <a id='analysis'></a>"
   ]
  },
  {
   "cell_type": "markdown",
   "id": "f5429c21-cb8f-43f1-a832-eae96bcbb9fc",
   "metadata": {},
   "source": [
    "<h2>3.1. Easy</h2> <a id='easy'></a>"
   ]
  },
  {
   "cell_type": "markdown",
   "id": "ecbbf8e0-75d3-4175-9f51-51e3d63dcc37",
   "metadata": {},
   "source": [
    "<h3>3.1.1. Task: values' rationality</h3> <a id='task_1'></a>"
   ]
  },
  {
   "cell_type": "markdown",
   "id": "a8626ca9-1f66-4d06-8e38-4c92e5e7aad7",
   "metadata": {},
   "source": [
    "Verify that values in the 'order_hour_of_day' and 'order_dow' columns in the orders table are sensible \\\n",
    "(i.e. 'order_hour_of_day' ranges from 0 to 23 and 'order_dow' ranges from 0 to 6)."
   ]
  },
  {
   "cell_type": "markdown",
   "id": "16e325db-b985-4116-a925-62e1d1ba9644",
   "metadata": {},
   "source": [
    "The method unique() is used to display all unique values in each of these columns.\\\n",
    "The values are also sorted in the ascending order using the method sort_values()."
   ]
  },
  {
   "cell_type": "code",
   "execution_count": 174,
   "id": "44c65d9e-2b76-4fe0-9e56-f539e91eca25",
   "metadata": {},
   "outputs": [
    {
     "data": {
      "text/plain": [
       "array([ 0,  1,  2,  3,  4,  5,  6,  7,  8,  9, 10, 11, 12, 13, 14, 15, 16,\n",
       "       17, 18, 19, 20, 21, 22, 23])"
      ]
     },
     "execution_count": 174,
     "metadata": {},
     "output_type": "execute_result"
    }
   ],
   "source": [
    "orders['order_hour_of_day'].sort_values().unique()"
   ]
  },
  {
   "cell_type": "code",
   "execution_count": 175,
   "id": "e4829500-9dbc-4ee7-814a-527687d85955",
   "metadata": {},
   "outputs": [
    {
     "data": {
      "text/plain": [
       "array([0, 1, 2, 3, 4, 5, 6])"
      ]
     },
     "execution_count": 175,
     "metadata": {},
     "output_type": "execute_result"
    }
   ],
   "source": [
    "orders['order_dow'].sort_values().unique()"
   ]
  },
  {
   "cell_type": "markdown",
   "id": "fe3640db-45ec-40e0-b572-78328465f17d",
   "metadata": {},
   "source": [
    "__Conclusion:__\n",
    "* The values in both columns are sensible.\n",
    "* The are no strange or missing values in these columns.\n",
    "\n",
    "[Back to Contents](#back)"
   ]
  },
  {
   "cell_type": "markdown",
   "id": "d9a26f00-803c-4cee-841d-e00e3b2bf7c6",
   "metadata": {},
   "source": [
    "<h3>3.1.2. Plot 1: hourly customer traffic</h3> <a id='plot_1'></a>"
   ]
  },
  {
   "cell_type": "markdown",
   "id": "ae5d3c06-0652-4c4a-a6f5-2931ac450d12",
   "metadata": {},
   "source": [
    "Create a plot that shows how many people place orders for each hour of the day."
   ]
  },
  {
   "cell_type": "markdown",
   "id": "ae1e5646-b8f2-4634-a58f-dfcbd260072d",
   "metadata": {},
   "source": [
    "To calculate the number of people buying at each hour of the day:\n",
    "* the table orders is grouped by the column order_hour_of_day to combine data for each hour separately, \n",
    "* the number of unique user_id is calculated for each hour of the day. \\\n",
    "  If a customer placed several orders within one hour - he should be counted as one person."
   ]
  },
  {
   "cell_type": "code",
   "execution_count": 180,
   "id": "e9b6cfe6-774d-416f-92a5-68cb07e8a870",
   "metadata": {},
   "outputs": [
    {
     "data": {
      "text/plain": [
       "order_hour_of_day\n",
       "4       735\n",
       "3       744\n",
       "2       958\n",
       "5      1281\n",
       "1      1671\n",
       "0      2991\n",
       "6      3757\n",
       "23     5167\n",
       "22     7670\n",
       "21     9806\n",
       "7     10993\n",
       "20    12891\n",
       "19    17026\n",
       "8     20268\n",
       "18    21795\n",
       "17    26825\n",
       "9     28112\n",
       "16    31579\n",
       "12    31754\n",
       "10    32195\n",
       "13    32433\n",
       "11    32660\n",
       "14    32797\n",
       "15    32894\n",
       "Name: user_id, dtype: int64"
      ]
     },
     "execution_count": 180,
     "metadata": {},
     "output_type": "execute_result"
    }
   ],
   "source": [
    "customers_per_hour = orders.groupby('order_hour_of_day')['user_id'].nunique()\n",
    "customers_per_hour.sort_values()"
   ]
  },
  {
   "cell_type": "markdown",
   "id": "b34114c1-dd1e-48df-93e8-9ec5eb85e29f",
   "metadata": {},
   "source": [
    "Using the pandas function plot() to create a bar chart that shows how many people place orders for each hour of the day."
   ]
  },
  {
   "cell_type": "code",
   "execution_count": 182,
   "id": "717209e1-28bd-4b49-ad8c-c60e74134fa4",
   "metadata": {},
   "outputs": [
    {
     "data": {
      "image/png": "[encoded data removed]",
      "text/plain": [
       "<Figure size 800x500 with 1 Axes>"
      ]
     },
     "metadata": {},
     "output_type": "display_data"
    }
   ],
   "source": [
    "customers_per_hour.plot(xlabel='hour of the day', ylabel='number of customers', kind='bar', title=\"Amount of customers per hour\", figsize=[8, 5])\n",
    "plt.show()"
   ]
  },
  {
   "cell_type": "markdown",
   "id": "b8d46559-3756-43f0-a3d7-a893156b5469",
   "metadata": {},
   "source": [
    "__Conclusion:__\n",
    "* The peak hours for making purchases are from 10 till 16.\n",
    "* The least number of orders is placed between 2 and 4 at night.\n",
    "\n",
    "[Back to Contents](#back)"
   ]
  },
  {
   "cell_type": "markdown",
   "id": "39eeaaa7-c3be-4948-a0ee-240d1d887aaf",
   "metadata": {},
   "source": [
    "<h3>3.1.3. Plot 2: daily purchase volume</h3> <a id='plot_2'></a>"
   ]
  },
  {
   "cell_type": "markdown",
   "id": "439405fd-b0cc-4bc4-aa92-d80ca94b21e3",
   "metadata": {},
   "source": [
    "Create a plot that shows what day of the week people shop for groceries."
   ]
  },
  {
   "cell_type": "markdown",
   "id": "e2b1e079-064b-4fb8-9bb1-fb05fbb37854",
   "metadata": {},
   "source": [
    "To calculate the amount of purchases for each weekday, the function value_counts() is used on the column order_dow (day of the week that the order placed):"
   ]
  },
  {
   "cell_type": "code",
   "execution_count": 187,
   "id": "cb318031-052c-46ee-a98d-f2ba961b3e51",
   "metadata": {},
   "outputs": [
    {
     "data": {
      "text/plain": [
       "order_dow\n",
       "0    84090\n",
       "1    82185\n",
       "2    65833\n",
       "5    63488\n",
       "6    62649\n",
       "3    60897\n",
       "4    59810\n",
       "Name: count, dtype: int64"
      ]
     },
     "execution_count": 187,
     "metadata": {},
     "output_type": "execute_result"
    }
   ],
   "source": [
    "orders['order_dow'].value_counts()"
   ]
  },
  {
   "cell_type": "markdown",
   "id": "1258d825-9dcb-43c3-89b1-d13ac08bfca3",
   "metadata": {},
   "source": [
    "Using the matplotlib.pyplot library to create a histogram that shows how many orders are placed for each day of the week."
   ]
  },
  {
   "cell_type": "code",
   "execution_count": 189,
   "id": "7e128771-92ad-4acc-bb12-26aa78c4239f",
   "metadata": {},
   "outputs": [
    {
     "data": {
      "image/png": "[encoded data removed]",
      "text/plain": [
       "<Figure size 640x480 with 1 Axes>"
      ]
     },
     "metadata": {},
     "output_type": "display_data"
    }
   ],
   "source": [
    "orders['order_dow'].plot(x='order_dow', kind='hist', xlabel=\"weekday\", ylabel=\"number of orders\", title='Amount of orders per weekday', bins=40)\n",
    "plt.show()"
   ]
  },
  {
   "cell_type": "markdown",
   "id": "57814ba7-33b9-4e57-9610-6c25555ea9ca",
   "metadata": {},
   "source": [
    "__Conclusion:__\n",
    "* The most purchases are made on Sundays (weekday=0) and Mondays (weekday=1)*.\n",
    "* The least amount of purchases are made on Wednesdays (weekday=3) and Thursdays (weekday=4).\n",
    "\n",
    "<a id='task3.1.3'></a>\n",
    "\n",
    "*To determine what integers correspond to each day of the week, it is neccesary to:\n",
    "1. check the range of values in the column order_dow. \\\n",
    "   The range of values in the column order_dow is from 0 to 6. \\\n",
    "    The Python datetime module’s convention for naming weekdays:\n",
    "    * Monday=0 and Sunday=6 (weekday() method)\n",
    "    * Monday=1 and Sunday=7 (isoweekday() method)\n",
    "3. check the local date/time formatting. \\\n",
    "   Instacart is an American delivery company that operates in the United States and Canada. \\\n",
    "   In the USA a week starts on Sunday (Sunday=0)\n",
    "\n",
    "__Assumption:__\n",
    "* It is not possible to determine exactly how weekdays are numbered in this dataframe.\n",
    "* The weekday formatting is most likely local.\n",
    "* Sunday=0\n",
    "\n",
    "[Back to Contents](#back)"
   ]
  },
  {
   "cell_type": "markdown",
   "id": "1f691e1c-e173-4c51-a581-5df5330fb308",
   "metadata": {},
   "source": [
    "<h3>3.1.4. Plot 3: time between orders</h3> <a id='plot_3'></a>"
   ]
  },
  {
   "cell_type": "markdown",
   "id": "e3e72e93-ff81-44e1-825a-f296b8a360f4",
   "metadata": {},
   "source": [
    "Create a plot that shows how long people wait until placing their next order, and comment on the minimum and maximum values."
   ]
  },
  {
   "cell_type": "markdown",
   "id": "ddcf9a4f-5e15-4232-b1c9-dba23beaf806",
   "metadata": {},
   "source": [
    "In the table orders, the column days_since_prior_order shows the number of days since a customer placed his previous order. \\\n",
    "Using the describe() method to understand the distribution of values in the column days_since_prior_order. "
   ]
  },
  {
   "cell_type": "code",
   "execution_count": 194,
   "id": "24072213-a7ed-4b29-b6aa-d177d26e272f",
   "metadata": {},
   "outputs": [
    {
     "data": {
      "text/plain": [
       "count     478952.0\n",
       "mean     10.433853\n",
       "std       9.292153\n",
       "min            0.0\n",
       "25%            4.0\n",
       "50%            7.0\n",
       "75%           15.0\n",
       "max           30.0\n",
       "Name: days_since_prior_order, dtype: Float64"
      ]
     },
     "execution_count": 194,
     "metadata": {},
     "output_type": "execute_result"
    }
   ],
   "source": [
    "orders['days_since_prior_order'].describe()"
   ]
  },
  {
   "cell_type": "markdown",
   "id": "203c656a-1791-48b0-aaa7-a760befacc25",
   "metadata": {},
   "source": [
    "Having a closer look at the column:\n",
    "* the function value_counts() calculates the amount of orders for each waiting period,\n",
    "* the values are sorted in the descending order, with the highest waiting period at the top."
   ]
  },
  {
   "cell_type": "code",
   "execution_count": 196,
   "id": "b95e5258-43ed-4615-b0d4-e56814bc6f7e",
   "metadata": {},
   "outputs": [
    {
     "data": {
      "text/plain": [
       "days_since_prior_order\n",
       "30    51337\n",
       "7     44577\n",
       "0     38406\n",
       "6     33930\n",
       "4     31006\n",
       "3     30224\n",
       "5     30096\n",
       "2     27138\n",
       "8     25361\n",
       "1     20179\n",
       "9     16753\n",
       "14    13992\n",
       "10    13309\n",
       "13    11737\n",
       "11    11467\n",
       "12    10658\n",
       "15     9416\n",
       "16     6587\n",
       "21     6448\n",
       "17     5498\n",
       "20     5302\n",
       "18     4971\n",
       "19     4939\n",
       "22     4514\n",
       "28     3745\n",
       "23     3337\n",
       "24     3015\n",
       "27     2986\n",
       "25     2711\n",
       "29     2673\n",
       "26     2640\n",
       "Name: count, dtype: Int64"
      ]
     },
     "execution_count": 196,
     "metadata": {},
     "output_type": "execute_result"
    }
   ],
   "source": [
    "orders['days_since_prior_order'].sort_values().value_counts()"
   ]
  },
  {
   "cell_type": "markdown",
   "id": "9295c317-ba96-4a71-ad32-feb1aebe1686",
   "metadata": {},
   "source": [
    "Using the matplotlib.pyplot library to create a histogram that shows how long people wait until placing their next order. \\\n",
    "The function xticks allows to set a step for the x-axis ticks."
   ]
  },
  {
   "cell_type": "code",
   "execution_count": 198,
   "id": "59e09405-6991-43b5-b90f-253cac77b016",
   "metadata": {},
   "outputs": [
    {
     "data": {
      "image/png": "[encoded data removed]",
      "text/plain": [
       "<Figure size 1200x500 with 1 Axes>"
      ]
     },
     "metadata": {},
     "output_type": "display_data"
    }
   ],
   "source": [
    "orders['days_since_prior_order'].plot(x='days_since_prior_order', kind='hist', xlabel=\"waiting time (in days)\", ylabel=\"number of orders\", title='Waiting time until the next order', bins=70, figsize=[12, 5])\n",
    "plt.xticks(np.arange(0, 31, step=1))\n",
    "plt.show()"
   ]
  },
  {
   "cell_type": "markdown",
   "id": "016ab419-ac9e-437a-9365-2a6fc445b12e",
   "metadata": {},
   "source": [
    "__Conclusion:__\n",
    "* The minimum value: 0 days \\\n",
    "  Waiting time of 0 days means that the next order is placed on the same day as the previous order. \\\n",
    "  The number of orders placed in one day is the third highest among the total number of orders.\n",
    "* The maximum value: 30 days \\\n",
    "  It means the next order was placed 30 days after the previous order. \\\n",
    "  The majority of people waits for 30 days until placing their next order. \\\n",
    "  The enormously high amount of orders for the waiting time=30 can mean that the values above 30 are not put into a separate category by the system, and all orders made after 30 days are put into the same category '30'. So it means that most people wait for 30 days and more before placing a new order.\n",
    "* Half of the customers waits for 7 days before making a new purchase.\n",
    "* On average (mean) the waiting time is 10 days. But this is because there is an outlier – 30 days."
   ]
  },
  {
   "cell_type": "markdown",
   "id": "c52a046e-36af-4411-b759-f5a6475b2aff",
   "metadata": {},
   "source": [
    "<h2>Summary</h2> <a id='summary_4'></a>\n",
    "\n",
    "The shopping habits of Instacart customers:\n",
    "- Most customers make purchases on Sundays and Mondays, and from 10 till 16 o'clock.\n",
    "- The least number of orders is placed on Wednesdays and Thursdays, and between 2 and 4 at night.\n",
    "- For the weekday values there was made an assumption that Sunday=0, based on the local USA date formatting.\n",
    "- The majority of people waits for 30 days until placing their next order.\n",
    "- At the same time, the number of orders placed on the same day is the third highest among the total number of orders.\n",
    "- Half of the customers waits for 7 days before making a new purchase.\n",
    "\n",
    "[Back to Contents](#back)"
   ]
  },
  {
   "cell_type": "markdown",
   "id": "dd981ddc-9926-49f2-86bb-02776f54f0b1",
   "metadata": {},
   "source": [
    "<h2>3.2. Medium</h2> <a id='medium'></a>"
   ]
  },
  {
   "cell_type": "markdown",
   "id": "f68fa2c4-909e-4845-92b2-97a45854b9fa",
   "metadata": {},
   "source": [
    "<h3>3.2.1. Plot 1: order time distribution difference</h3> <a id='plot_4'></a>"
   ]
  },
  {
   "cell_type": "markdown",
   "id": "59fc9a32-fb96-4af8-9959-da5137692502",
   "metadata": {},
   "source": [
    "Is there a difference in 'order_hour_of_day' distributions on Wednesdays and Saturdays? \\\n",
    "Plot the histograms for both days on the same plot and describe the differences."
   ]
  },
  {
   "cell_type": "markdown",
   "id": "f05f813b-88f5-4302-a9d2-fd429d85a6c8",
   "metadata": {},
   "source": [
    "According to the assumption made in the task [3.1.3. Plot 2](#task3.1.3): \\\n",
    "Sunday=0 \\\n",
    "Wednesday=3 \\\n",
    "Saturday=6"
   ]
  },
  {
   "cell_type": "markdown",
   "id": "9ef10f02-c07b-4306-af83-7f42535fbe99",
   "metadata": {},
   "source": [
    "Filtering the dataframe to leave only data for Wednesdays and Saturdays:"
   ]
  },
  {
   "cell_type": "code",
   "execution_count": 206,
   "id": "78017e96-f490-4cdb-93dd-40dc1e88e596",
   "metadata": {},
   "outputs": [],
   "source": [
    "wed = orders[orders['order_dow']==3]['order_hour_of_day']\n",
    "sat = orders[orders['order_dow']==6]['order_hour_of_day']"
   ]
  },
  {
   "cell_type": "markdown",
   "id": "f1f2fcff-aee4-4097-8fb0-67c460a0e1f4",
   "metadata": {},
   "source": [
    "Exploring the difference in distributions of Wednesday and Saturday orders among hours of the day, using the describe() method:"
   ]
  },
  {
   "cell_type": "code",
   "execution_count": 208,
   "id": "a2c3f167-98e1-4d9b-82f3-fce33e98e904",
   "metadata": {},
   "outputs": [
    {
     "data": {
      "text/html": [
       "<div>\n",
       "<style scoped>\n",
       "    .dataframe tbody tr th:only-of-type {\n",
       "        vertical-align: middle;\n",
       "    }\n",
       "\n",
       "    .dataframe tbody tr th {\n",
       "        vertical-align: top;\n",
       "    }\n",
       "\n",
       "    .dataframe thead th {\n",
       "        text-align: right;\n",
       "    }\n",
       "</style>\n",
       "<table border=\"1\" class=\"dataframe\">\n",
       "  <thead>\n",
       "    <tr style=\"text-align: right;\">\n",
       "      <th></th>\n",
       "      <th>count</th>\n",
       "      <th>mean</th>\n",
       "      <th>std</th>\n",
       "      <th>min</th>\n",
       "      <th>25%</th>\n",
       "      <th>50%</th>\n",
       "      <th>75%</th>\n",
       "      <th>max</th>\n",
       "    </tr>\n",
       "    <tr>\n",
       "      <th>order_dow</th>\n",
       "      <th></th>\n",
       "      <th></th>\n",
       "      <th></th>\n",
       "      <th></th>\n",
       "      <th></th>\n",
       "      <th></th>\n",
       "      <th></th>\n",
       "      <th></th>\n",
       "    </tr>\n",
       "  </thead>\n",
       "  <tbody>\n",
       "    <tr>\n",
       "      <th>3</th>\n",
       "      <td>60897.0</td>\n",
       "      <td>13.531241</td>\n",
       "      <td>4.258216</td>\n",
       "      <td>0.0</td>\n",
       "      <td>10.0</td>\n",
       "      <td>13.0</td>\n",
       "      <td>17.0</td>\n",
       "      <td>23.0</td>\n",
       "    </tr>\n",
       "    <tr>\n",
       "      <th>6</th>\n",
       "      <td>62649.0</td>\n",
       "      <td>13.536050</td>\n",
       "      <td>4.263393</td>\n",
       "      <td>0.0</td>\n",
       "      <td>10.0</td>\n",
       "      <td>13.0</td>\n",
       "      <td>16.0</td>\n",
       "      <td>23.0</td>\n",
       "    </tr>\n",
       "  </tbody>\n",
       "</table>\n",
       "</div>"
      ],
      "text/plain": [
       "             count       mean       std  min   25%   50%   75%   max\n",
       "order_dow                                                           \n",
       "3          60897.0  13.531241  4.258216  0.0  10.0  13.0  17.0  23.0\n",
       "6          62649.0  13.536050  4.263393  0.0  10.0  13.0  16.0  23.0"
      ]
     },
     "execution_count": 208,
     "metadata": {},
     "output_type": "execute_result"
    }
   ],
   "source": [
    "wed_sat = orders[orders.order_dow.isin([3,6])]\n",
    "wed_sat.groupby(['order_dow'])['order_hour_of_day'].describe()"
   ]
  },
  {
   "cell_type": "markdown",
   "id": "a32bb0ec-b9c2-4a58-b5d9-3e424c267a99",
   "metadata": {},
   "source": [
    "Exploring the difference in distributions via histograms, using the matplotlib.pyplot library. \\\n",
    "An alpha value is used to set the transparency, so that both histograms are visible. \\\n",
    "The function xticks is used to set a step for the x-axis ticks."
   ]
  },
  {
   "cell_type": "code",
   "execution_count": 210,
   "id": "0c2c6c98-74fc-4a26-9f93-75202b4997fc",
   "metadata": {},
   "outputs": [
    {
     "data": {
      "image/png": "[encoded data removed]",
      "text/plain": [
       "<Figure size 1200x500 with 1 Axes>"
      ]
     },
     "metadata": {},
     "output_type": "display_data"
    }
   ],
   "source": [
    "wed.plot(xlabel='hour of the day', ylabel='number of orders', title='Order distributions on Wednesdays and Saturdays per hour of the day', kind='hist', bins=60, figsize=[12, 5])\n",
    "sat.plot(xlabel='hour of the day', ylabel='number of orders', title='Order distributions on Wednesdays and Saturdays per hour of the day', kind='hist', bins=60, alpha=0.7, figsize=[12, 5])\n",
    "plt.xticks(np.arange(0, 24, step=1))\n",
    "plt.legend(['Wednesday', 'Saturday'])\n",
    "plt.show()"
   ]
  },
  {
   "cell_type": "markdown",
   "id": "e058d426-6ca7-442a-ae1f-35447fe90358",
   "metadata": {},
   "source": [
    "__Conclusion:__\n",
    "* The distribution is the same:\n",
    "    * On average people shop around 13 o'clock on Wednesdays and Saturdays.\n",
    "    * The order window (the hours when orders are made) is the same for both days.\n",
    "* The difference is in the number of orders:\n",
    "    * The number of orders is bigger for Saturday.\n",
    "    * On Saturdays there are more orders between 11 and 17 o'clock then on Wednesdays. \\\n",
    "      On Wednesdays there are more orders in the morning (6, 7, 9, 10) and in the evening (18, 19, 20) hours then on Saturdays. \\\n",
    "      This can be due to the work-weekend schedule:\n",
    "      * during workweeks people place orders before going to work and after coming home from work.\n",
    "      * during weekends people tend to sleep longer (less orders in the morning) and place orders mostly during the day hours.\n",
    "\n",
    "[Back to Contents](#back)"
   ]
  },
  {
   "cell_type": "markdown",
   "id": "140e3d97-14f7-4619-98a3-66df4a323b2d",
   "metadata": {},
   "source": [
    "<h3>3.2.2. Plot 2: order count distribution</h3> <a id='plot_5'></a>"
   ]
  },
  {
   "cell_type": "markdown",
   "id": "88ba181e-0269-4fc7-a5d5-7c7cd763e883",
   "metadata": {},
   "source": [
    "Plot the distribution for the number of orders that customers place \\\n",
    "(e.g. how many customers placed only 1 order, how many placed only 2, how many only 3, and so on…)"
   ]
  },
  {
   "cell_type": "markdown",
   "id": "99a655f8-09ec-46f9-bc47-2b167f9ddd4c",
   "metadata": {},
   "source": [
    "In the table orders the column order_number contains the number of times a customer has placed an order, in other words the number of orders per customer. \\\n",
    "Checking the distribution for the number of orders, using the describe() method:"
   ]
  },
  {
   "cell_type": "code",
   "execution_count": 215,
   "id": "26078b98-f253-4bfe-a268-8ba47b86a944",
   "metadata": {},
   "outputs": [
    {
     "data": {
      "text/plain": [
       "count    478952.000000\n",
       "mean         17.157563\n",
       "std          17.704457\n",
       "min           1.000000\n",
       "25%           5.000000\n",
       "50%          11.000000\n",
       "75%          23.000000\n",
       "max         100.000000\n",
       "Name: order_number, dtype: float64"
      ]
     },
     "execution_count": 215,
     "metadata": {},
     "output_type": "execute_result"
    }
   ],
   "source": [
    "orders['order_number'].describe()"
   ]
  },
  {
   "cell_type": "markdown",
   "id": "7400ab65-71d7-4922-8d37-4d7a60bf9ba6",
   "metadata": {},
   "source": [
    "The range of values is between 1 and 100. So the amount of orders per customer varies from 1 to 100. \\\n",
    "To calculate how many customers are there for each order number:\n",
    "* the table orders is grouped by the column order_number to combine data for each number of orders separately, \n",
    "* the number of unique user_id is calculated for each number of orders."
   ]
  },
  {
   "cell_type": "code",
   "execution_count": 217,
   "id": "3a5f12f3-4746-4648-a984-5f1b8c29f33b",
   "metadata": {},
   "outputs": [
    {
     "data": {
      "text/plain": [
       "order_number\n",
       "1      28817\n",
       "2      28633\n",
       "3      28685\n",
       "4      28703\n",
       "5      25661\n",
       "       ...  \n",
       "96       220\n",
       "97       221\n",
       "98       191\n",
       "99       169\n",
       "100      194\n",
       "Name: user_id, Length: 100, dtype: int64"
      ]
     },
     "execution_count": 217,
     "metadata": {},
     "output_type": "execute_result"
    }
   ],
   "source": [
    "customers_per_order_number=orders.groupby('order_number')['user_id'].nunique()\n",
    "customers_per_order_number"
   ]
  },
  {
   "cell_type": "markdown",
   "id": "6fa34067-5380-40f7-a29c-e0d8f7fd6cbc",
   "metadata": {},
   "source": [
    "Creating a bar chart to show how many people place a particular number of orders."
   ]
  },
  {
   "cell_type": "code",
   "execution_count": 219,
   "id": "cab183ab-8531-4152-8700-a7a6e57246b2",
   "metadata": {},
   "outputs": [
    {
     "data": {
      "image/png": "[encoded data removed]",
      "text/plain": [
       "<Figure size 1500x600 with 1 Axes>"
      ]
     },
     "metadata": {},
     "output_type": "display_data"
    }
   ],
   "source": [
    "customers_per_order_number.plot(xlabel='number of orders', ylabel='number of customers', title=\"The number of orders that customers place\", kind='bar', figsize=[15, 6])\n",
    "plt.xticks(np.arange(0, 101, step=2))\n",
    "plt.show()"
   ]
  },
  {
   "cell_type": "markdown",
   "id": "4c9c5eab-7b8f-4b98-b608-4eadc8e665d5",
   "metadata": {},
   "source": [
    "__Conclusion:__\n",
    "* The amount of customers reduces as the number of orders increases.\n",
    "* The majority of customers place 1 to 4 orders.\n",
    "* Only a small amount of customers make more than 50 orders.\n",
    "\n",
    "[Back to Contents](#back)"
   ]
  },
  {
   "cell_type": "markdown",
   "id": "7d057581-13f5-4ce3-8d23-f1486f6f02e6",
   "metadata": {},
   "source": [
    "<h3>3.2.3. Task: top 20 bestsellers</h3> <a id='task_2'></a>"
   ]
  },
  {
   "cell_type": "markdown",
   "id": "1ae22e61-f088-4a43-abb0-2121d84543a5",
   "metadata": {},
   "source": [
    "What are the top 20 products that are ordered most frequently (display their id and name)?"
   ]
  },
  {
   "cell_type": "markdown",
   "id": "5a489de3-0f82-45dc-a5d2-8e9659a58adf",
   "metadata": {},
   "source": [
    "In the table order_products each row corresponds to one product placed in an order. \\\n",
    "To determine the 20 products that are ordered most frequently, it is necessary to:\n",
    "* group the dataframe by product,\n",
    "* calculate how many times each product is added to the order,\n",
    "* sort the values in descending order, so that the most frequently ordered products will be at the top,\n",
    "* make a selection of only the top 20 products."
   ]
  },
  {
   "cell_type": "code",
   "execution_count": 224,
   "id": "9b2221a0-30f2-4656-8a6e-0b3f8a3e99f8",
   "metadata": {},
   "outputs": [],
   "source": [
    "product_popularity=order_products.groupby('product_id')['order_id'].nunique().sort_values(ascending=False)"
   ]
  },
  {
   "cell_type": "code",
   "execution_count": 225,
   "id": "6f87ab6f-c14d-4dbc-b751-d86e3f4c2bcb",
   "metadata": {},
   "outputs": [
    {
     "data": {
      "text/plain": [
       "product_id\n",
       "24852    66050\n",
       "13176    53297\n",
       "21137    37039\n",
       "21903    33971\n",
       "47209    29773\n",
       "47766    24689\n",
       "47626    21495\n",
       "16797    20018\n",
       "26209    19690\n",
       "27845    19600\n",
       "27966    19197\n",
       "22935    15898\n",
       "24964    15292\n",
       "45007    14584\n",
       "39275    13879\n",
       "49683    13675\n",
       "28204    12544\n",
       "5876     12232\n",
       "8277     11993\n",
       "40706    11781\n",
       "Name: order_id, dtype: int64"
      ]
     },
     "execution_count": 225,
     "metadata": {},
     "output_type": "execute_result"
    }
   ],
   "source": [
    "most_popular=product_popularity[0:20]\n",
    "most_popular"
   ]
  },
  {
   "cell_type": "markdown",
   "id": "aa5c89f8-ecdd-40ab-a23f-e76e62dce90f",
   "metadata": {},
   "source": [
    "To display the most popular product names together with their id, it is necessary to:\n",
    "* save the index (=product_id) of the most popular products as a list,\n",
    "* use the table products, where the names of the products are stored,\n",
    "* use the query to filter the table products by the most popular product IDs."
   ]
  },
  {
   "cell_type": "code",
   "execution_count": 227,
   "id": "c01cf629-ad8b-4bc5-9881-2308d78d0f7b",
   "metadata": {},
   "outputs": [],
   "source": [
    "popular_product_index=most_popular.index"
   ]
  },
  {
   "cell_type": "code",
   "execution_count": 228,
   "id": "ab5dd877-633b-425b-850e-116ad50e775f",
   "metadata": {},
   "outputs": [
    {
     "data": {
      "text/html": [
       "<div>\n",
       "<style scoped>\n",
       "    .dataframe tbody tr th:only-of-type {\n",
       "        vertical-align: middle;\n",
       "    }\n",
       "\n",
       "    .dataframe tbody tr th {\n",
       "        vertical-align: top;\n",
       "    }\n",
       "\n",
       "    .dataframe thead th {\n",
       "        text-align: right;\n",
       "    }\n",
       "</style>\n",
       "<table border=\"1\" class=\"dataframe\">\n",
       "  <thead>\n",
       "    <tr style=\"text-align: right;\">\n",
       "      <th></th>\n",
       "      <th>product_id</th>\n",
       "      <th>product_name</th>\n",
       "    </tr>\n",
       "  </thead>\n",
       "  <tbody>\n",
       "    <tr>\n",
       "      <th>5872</th>\n",
       "      <td>5876</td>\n",
       "      <td>organic lemon</td>\n",
       "    </tr>\n",
       "    <tr>\n",
       "      <th>8272</th>\n",
       "      <td>8277</td>\n",
       "      <td>apple honeycrisp organic</td>\n",
       "    </tr>\n",
       "    <tr>\n",
       "      <th>13168</th>\n",
       "      <td>13176</td>\n",
       "      <td>bag of organic bananas</td>\n",
       "    </tr>\n",
       "    <tr>\n",
       "      <th>16786</th>\n",
       "      <td>16797</td>\n",
       "      <td>strawberries</td>\n",
       "    </tr>\n",
       "    <tr>\n",
       "      <th>21117</th>\n",
       "      <td>21137</td>\n",
       "      <td>organic strawberries</td>\n",
       "    </tr>\n",
       "    <tr>\n",
       "      <th>21883</th>\n",
       "      <td>21903</td>\n",
       "      <td>organic baby spinach</td>\n",
       "    </tr>\n",
       "    <tr>\n",
       "      <th>22914</th>\n",
       "      <td>22935</td>\n",
       "      <td>organic yellow onion</td>\n",
       "    </tr>\n",
       "    <tr>\n",
       "      <th>24826</th>\n",
       "      <td>24852</td>\n",
       "      <td>banana</td>\n",
       "    </tr>\n",
       "    <tr>\n",
       "      <th>24938</th>\n",
       "      <td>24964</td>\n",
       "      <td>organic garlic</td>\n",
       "    </tr>\n",
       "    <tr>\n",
       "      <th>26181</th>\n",
       "      <td>26209</td>\n",
       "      <td>limes</td>\n",
       "    </tr>\n",
       "    <tr>\n",
       "      <th>27814</th>\n",
       "      <td>27845</td>\n",
       "      <td>organic whole milk</td>\n",
       "    </tr>\n",
       "    <tr>\n",
       "      <th>27935</th>\n",
       "      <td>27966</td>\n",
       "      <td>organic raspberries</td>\n",
       "    </tr>\n",
       "    <tr>\n",
       "      <th>28173</th>\n",
       "      <td>28204</td>\n",
       "      <td>organic fuji apple</td>\n",
       "    </tr>\n",
       "    <tr>\n",
       "      <th>39217</th>\n",
       "      <td>39275</td>\n",
       "      <td>organic blueberries</td>\n",
       "    </tr>\n",
       "    <tr>\n",
       "      <th>40644</th>\n",
       "      <td>40706</td>\n",
       "      <td>organic grape tomatoes</td>\n",
       "    </tr>\n",
       "    <tr>\n",
       "      <th>44926</th>\n",
       "      <td>45007</td>\n",
       "      <td>organic zucchini</td>\n",
       "    </tr>\n",
       "    <tr>\n",
       "      <th>47116</th>\n",
       "      <td>47209</td>\n",
       "      <td>organic hass avocado</td>\n",
       "    </tr>\n",
       "    <tr>\n",
       "      <th>47533</th>\n",
       "      <td>47626</td>\n",
       "      <td>large lemon</td>\n",
       "    </tr>\n",
       "    <tr>\n",
       "      <th>47673</th>\n",
       "      <td>47766</td>\n",
       "      <td>organic avocado</td>\n",
       "    </tr>\n",
       "    <tr>\n",
       "      <th>49584</th>\n",
       "      <td>49683</td>\n",
       "      <td>cucumber kirby</td>\n",
       "    </tr>\n",
       "  </tbody>\n",
       "</table>\n",
       "</div>"
      ],
      "text/plain": [
       "       product_id              product_name\n",
       "5872         5876             organic lemon\n",
       "8272         8277  apple honeycrisp organic\n",
       "13168       13176    bag of organic bananas\n",
       "16786       16797              strawberries\n",
       "21117       21137      organic strawberries\n",
       "21883       21903      organic baby spinach\n",
       "22914       22935      organic yellow onion\n",
       "24826       24852                    banana\n",
       "24938       24964            organic garlic\n",
       "26181       26209                     limes\n",
       "27814       27845        organic whole milk\n",
       "27935       27966       organic raspberries\n",
       "28173       28204        organic fuji apple\n",
       "39217       39275       organic blueberries\n",
       "40644       40706    organic grape tomatoes\n",
       "44926       45007          organic zucchini\n",
       "47116       47209      organic hass avocado\n",
       "47533       47626               large lemon\n",
       "47673       47766           organic avocado\n",
       "49584       49683            cucumber kirby"
      ]
     },
     "execution_count": 228,
     "metadata": {},
     "output_type": "execute_result"
    }
   ],
   "source": [
    "products.query('product_id in @popular_product_index')[['product_id', 'product_name']]"
   ]
  },
  {
   "cell_type": "markdown",
   "id": "d2cca988-9e8a-4c38-8994-66c24139aa9c",
   "metadata": {},
   "source": [
    "__Conclusion:__\n",
    "* 20 most frequently ordered products were found, using grouping and the query() method.\n",
    "* This method sorts the result by product_id, so it is not clear what is the most popular product.\n",
    "* The other option would be to use the value_counts() function and merging of the tables to find the top 20 products. \\\n",
    "  In this case the result is sorted by counts, so it is possible to see what is the most popular product.\n"
   ]
  },
  {
   "cell_type": "markdown",
   "id": "91e37c6f-aa93-48c0-b926-8b334231ba3f",
   "metadata": {},
   "source": [
    "<h2>Summary</h2> <a id='summary_5'></a>\n",
    "\n",
    "The shopping habits of Instacart customers:\n",
    "- The distribution of orders at each hour of the day on Wednesdays and Saturdays is the same:\n",
    "  - the order window is the same for both days,\n",
    "  - on average people shop around 13 o'clock on Wednesdays and Saturdays.\n",
    "- There is a difference in the number of orders during these days:\n",
    "    - on Saturdays there are more orders than on Wednesdays in general,\n",
    "    - on Saturdays there are more orders between 11 and 17 o'clock in comparison to Wednesdays,\n",
    "    - on Wednesdays there are more orders in the morning and evening hours in comparison to Saturdays.\n",
    "- The distribution for the number of orders that customers place shows descending trend: \\\n",
    "  As the number of orders increases, the number of distinct customers associated with each number of orders decreases.\n",
    "- Most customers place 1 to 4 orders, with only a small amount of customers making more than 50 orders.\n",
    "- 20 most frequently ordered products were found and displayed with both their name and product id.\n",
    "\n",
    "[Back to Contents](#back)"
   ]
  },
  {
   "cell_type": "markdown",
   "id": "16642361-3cc2-42fa-9d71-1b12fb92ec76",
   "metadata": {},
   "source": [
    "<h2>3.3. Hard</h2> <a id='hard'></a>"
   ]
  },
  {
   "cell_type": "markdown",
   "id": "ffd09d64-a02b-4901-b8a8-35de04404c7f",
   "metadata": {},
   "source": [
    "<h3>3.3.1. Task 1: number of items per order</h3> <a id='task_3'></a>"
   ]
  },
  {
   "cell_type": "markdown",
   "id": "32bbcb87-868b-4a49-8fc3-fa53474ad661",
   "metadata": {},
   "source": [
    "How many items do people typically buy in one order? \\\n",
    "What does the distribution look like?"
   ]
  },
  {
   "cell_type": "markdown",
   "id": "ac3ec247-5f42-41e4-a3d2-ce696682aa41",
   "metadata": {},
   "source": [
    "In the table order_products each row corresponds to one item placed in an order. \\\n",
    "To find how many items people buy in one order, it is necessary to:\n",
    "- group the data by order_id, so that each group contains all products associated with a particular order,\n",
    "- calculate the number of products associated with each order."
   ]
  },
  {
   "cell_type": "code",
   "execution_count": 235,
   "id": "2938800b-bc55-42d8-bff2-1eaeb35e7832",
   "metadata": {},
   "outputs": [
    {
     "data": {
      "text/plain": [
       "order_id\n",
       "4          13\n",
       "9          15\n",
       "11          5\n",
       "19          3\n",
       "20          8\n",
       "           ..\n",
       "3421034    17\n",
       "3421053     9\n",
       "3421071     5\n",
       "3421077     4\n",
       "3421079     1\n",
       "Name: product_id, Length: 450046, dtype: int64"
      ]
     },
     "execution_count": 235,
     "metadata": {},
     "output_type": "execute_result"
    }
   ],
   "source": [
    "products_per_order = order_products.groupby('order_id')['product_id'].count()\n",
    "products_per_order"
   ]
  },
  {
   "cell_type": "markdown",
   "id": "552205b0-11aa-44fd-9e17-500ffa341f8b",
   "metadata": {},
   "source": [
    "Checking the distribution of the number of items per order, using the describe() method:"
   ]
  },
  {
   "cell_type": "code",
   "execution_count": 237,
   "id": "4f4d4eb2-211f-4bb2-bc3f-4eb56ce9e50c",
   "metadata": {},
   "outputs": [
    {
     "data": {
      "text/plain": [
       "count    450046.000000\n",
       "mean         10.098983\n",
       "std           7.540206\n",
       "min           1.000000\n",
       "25%           5.000000\n",
       "50%           8.000000\n",
       "75%          14.000000\n",
       "max         127.000000\n",
       "Name: product_id, dtype: float64"
      ]
     },
     "execution_count": 237,
     "metadata": {},
     "output_type": "execute_result"
    }
   ],
   "source": [
    "products_per_order.describe()"
   ]
  },
  {
   "cell_type": "markdown",
   "id": "e63456cf-7a28-4533-8af4-eca41754476e",
   "metadata": {},
   "source": [
    "A histogram is used to display the distribution of the number of products per order:"
   ]
  },
  {
   "cell_type": "code",
   "execution_count": 239,
   "id": "25a3cee4-f756-4be7-8743-ce95f1f50b0b",
   "metadata": {},
   "outputs": [
    {
     "data": {
      "image/png": "[encoded data removed]",
      "text/plain": [
       "<Figure size 1500x600 with 1 Axes>"
      ]
     },
     "metadata": {},
     "output_type": "display_data"
    }
   ],
   "source": [
    "plt.figure(figsize=(15, 6))\n",
    "products_per_order.plot(kind='hist', bins=range(1, products_per_order.max() + 1), edgecolor='black')\n",
    "plt.xlabel('number of items per order')\n",
    "plt.ylabel('number of orders')\n",
    "plt.title('Distribution of the number of items per order')\n",
    "plt.xticks(np.arange(1, products_per_order.max() + 1, step=5))\n",
    "plt.show()"
   ]
  },
  {
   "cell_type": "markdown",
   "id": "2775e77a-6c23-4525-90c9-2434e221676d",
   "metadata": {},
   "source": [
    "__Conclusion:__\n",
    "* People typically buy 8 items in one order, judging by the median value.\n",
    "* The distribution is right-skewed: there is a peak on the left side with a gradual decline as the number of items per order increases.\n",
    "* In a right skewed distribution, the mean is greater than the median:\n",
    "    * mean: 10\n",
    "    * median: 8\n",
    "* Most orders consist of a small amount of items, and fewer orders contain lots of items.\n",
    "\n",
    "[Back to Contents](#back)"
   ]
  },
  {
   "cell_type": "markdown",
   "id": "47cf8c36-9d20-4dff-ade7-ece706c84633",
   "metadata": {},
   "source": [
    "<h3>3.3.2. Task 2: top 20 reordered items</h3> <a id='task_4'></a>"
   ]
  },
  {
   "cell_type": "markdown",
   "id": "89d136c8-c502-47e8-bbd0-ef3f1762e66e",
   "metadata": {},
   "source": [
    "What are the top 20 items that are reordered most frequently? \\\n",
    "Display their names and product IDs."
   ]
  },
  {
   "cell_type": "markdown",
   "id": "8c765c00-758c-4992-a2b1-98577f58cbbf",
   "metadata": {},
   "source": [
    "In the table order_products each row corresponds to one item placed in an order. \\\n",
    "To determine the 20 items that are reordered most frequently, it is necessary to:\n",
    "* group the dataframe by item,\n",
    "* calculate item popularity by summing how many times it was reordered,\n",
    "* sort the values in descending order, so that the most frequently reordered items will be at the top,\n",
    "* make a selection of only the top 20 items."
   ]
  },
  {
   "cell_type": "code",
   "execution_count": 244,
   "id": "5a1ee760-2d5a-47d4-8d08-954d94873c41",
   "metadata": {},
   "outputs": [
    {
     "data": {
      "text/plain": [
       "product_id\n",
       "24852    55763\n",
       "13176    44450\n",
       "21137    28639\n",
       "21903    26233\n",
       "47209    23629\n",
       "         ...  \n",
       "37593        0\n",
       "14775        0\n",
       "37596        0\n",
       "14774        0\n",
       "13714        0\n",
       "Name: reordered, Length: 45573, dtype: int64"
      ]
     },
     "execution_count": 244,
     "metadata": {},
     "output_type": "execute_result"
    }
   ],
   "source": [
    "item_popularity=order_products.groupby('product_id')['reordered'].sum().sort_values(ascending=False)\n",
    "item_popularity"
   ]
  },
  {
   "cell_type": "code",
   "execution_count": 245,
   "id": "dd3a0a5d-bbfd-492f-b457-1493367e72ae",
   "metadata": {},
   "outputs": [
    {
     "data": {
      "text/plain": [
       "product_id\n",
       "24852    55763\n",
       "13176    44450\n",
       "21137    28639\n",
       "21903    26233\n",
       "47209    23629\n",
       "47766    18743\n",
       "27845    16251\n",
       "47626    15044\n",
       "27966    14748\n",
       "16797    13945\n",
       "26209    13327\n",
       "22935    11145\n",
       "24964    10411\n",
       "45007    10076\n",
       "49683     9538\n",
       "28204     8989\n",
       "8277      8836\n",
       "39275     8799\n",
       "5876      8412\n",
       "49235     8389\n",
       "Name: reordered, dtype: int64"
      ]
     },
     "execution_count": 245,
     "metadata": {},
     "output_type": "execute_result"
    }
   ],
   "source": [
    "most_popular_items=item_popularity[0:20]\n",
    "most_popular_items"
   ]
  },
  {
   "cell_type": "markdown",
   "id": "35214997-96c9-4d13-bb6a-363d06e69bc0",
   "metadata": {},
   "source": [
    "To display the most frequently reordered item names together with their IDs, it is necessary to:\n",
    "* save the index (=product_id) of the most popular items as a list,\n",
    "* use the table products, where the names of the items are stored,\n",
    "* use the query to filter the table products by the most popular item IDs."
   ]
  },
  {
   "cell_type": "code",
   "execution_count": 247,
   "id": "57bfb9a9-537a-4b8f-b8b9-474d7941cbc6",
   "metadata": {},
   "outputs": [],
   "source": [
    "popular_item_index=most_popular_items.index"
   ]
  },
  {
   "cell_type": "code",
   "execution_count": 248,
   "id": "61a4532b-0db3-48a3-8311-123ae7492247",
   "metadata": {},
   "outputs": [
    {
     "data": {
      "text/html": [
       "<div>\n",
       "<style scoped>\n",
       "    .dataframe tbody tr th:only-of-type {\n",
       "        vertical-align: middle;\n",
       "    }\n",
       "\n",
       "    .dataframe tbody tr th {\n",
       "        vertical-align: top;\n",
       "    }\n",
       "\n",
       "    .dataframe thead th {\n",
       "        text-align: right;\n",
       "    }\n",
       "</style>\n",
       "<table border=\"1\" class=\"dataframe\">\n",
       "  <thead>\n",
       "    <tr style=\"text-align: right;\">\n",
       "      <th></th>\n",
       "      <th>product_id</th>\n",
       "      <th>product_name</th>\n",
       "    </tr>\n",
       "  </thead>\n",
       "  <tbody>\n",
       "    <tr>\n",
       "      <th>5872</th>\n",
       "      <td>5876</td>\n",
       "      <td>organic lemon</td>\n",
       "    </tr>\n",
       "    <tr>\n",
       "      <th>8272</th>\n",
       "      <td>8277</td>\n",
       "      <td>apple honeycrisp organic</td>\n",
       "    </tr>\n",
       "    <tr>\n",
       "      <th>13168</th>\n",
       "      <td>13176</td>\n",
       "      <td>bag of organic bananas</td>\n",
       "    </tr>\n",
       "    <tr>\n",
       "      <th>16786</th>\n",
       "      <td>16797</td>\n",
       "      <td>strawberries</td>\n",
       "    </tr>\n",
       "    <tr>\n",
       "      <th>21117</th>\n",
       "      <td>21137</td>\n",
       "      <td>organic strawberries</td>\n",
       "    </tr>\n",
       "    <tr>\n",
       "      <th>21883</th>\n",
       "      <td>21903</td>\n",
       "      <td>organic baby spinach</td>\n",
       "    </tr>\n",
       "    <tr>\n",
       "      <th>22914</th>\n",
       "      <td>22935</td>\n",
       "      <td>organic yellow onion</td>\n",
       "    </tr>\n",
       "    <tr>\n",
       "      <th>24826</th>\n",
       "      <td>24852</td>\n",
       "      <td>banana</td>\n",
       "    </tr>\n",
       "    <tr>\n",
       "      <th>24938</th>\n",
       "      <td>24964</td>\n",
       "      <td>organic garlic</td>\n",
       "    </tr>\n",
       "    <tr>\n",
       "      <th>26181</th>\n",
       "      <td>26209</td>\n",
       "      <td>limes</td>\n",
       "    </tr>\n",
       "    <tr>\n",
       "      <th>27814</th>\n",
       "      <td>27845</td>\n",
       "      <td>organic whole milk</td>\n",
       "    </tr>\n",
       "    <tr>\n",
       "      <th>27935</th>\n",
       "      <td>27966</td>\n",
       "      <td>organic raspberries</td>\n",
       "    </tr>\n",
       "    <tr>\n",
       "      <th>28173</th>\n",
       "      <td>28204</td>\n",
       "      <td>organic fuji apple</td>\n",
       "    </tr>\n",
       "    <tr>\n",
       "      <th>39217</th>\n",
       "      <td>39275</td>\n",
       "      <td>organic blueberries</td>\n",
       "    </tr>\n",
       "    <tr>\n",
       "      <th>44926</th>\n",
       "      <td>45007</td>\n",
       "      <td>organic zucchini</td>\n",
       "    </tr>\n",
       "    <tr>\n",
       "      <th>47116</th>\n",
       "      <td>47209</td>\n",
       "      <td>organic hass avocado</td>\n",
       "    </tr>\n",
       "    <tr>\n",
       "      <th>47533</th>\n",
       "      <td>47626</td>\n",
       "      <td>large lemon</td>\n",
       "    </tr>\n",
       "    <tr>\n",
       "      <th>47673</th>\n",
       "      <td>47766</td>\n",
       "      <td>organic avocado</td>\n",
       "    </tr>\n",
       "    <tr>\n",
       "      <th>49138</th>\n",
       "      <td>49235</td>\n",
       "      <td>organic half &amp; half</td>\n",
       "    </tr>\n",
       "    <tr>\n",
       "      <th>49584</th>\n",
       "      <td>49683</td>\n",
       "      <td>cucumber kirby</td>\n",
       "    </tr>\n",
       "  </tbody>\n",
       "</table>\n",
       "</div>"
      ],
      "text/plain": [
       "       product_id              product_name\n",
       "5872         5876             organic lemon\n",
       "8272         8277  apple honeycrisp organic\n",
       "13168       13176    bag of organic bananas\n",
       "16786       16797              strawberries\n",
       "21117       21137      organic strawberries\n",
       "21883       21903      organic baby spinach\n",
       "22914       22935      organic yellow onion\n",
       "24826       24852                    banana\n",
       "24938       24964            organic garlic\n",
       "26181       26209                     limes\n",
       "27814       27845        organic whole milk\n",
       "27935       27966       organic raspberries\n",
       "28173       28204        organic fuji apple\n",
       "39217       39275       organic blueberries\n",
       "44926       45007          organic zucchini\n",
       "47116       47209      organic hass avocado\n",
       "47533       47626               large lemon\n",
       "47673       47766           organic avocado\n",
       "49138       49235       organic half & half\n",
       "49584       49683            cucumber kirby"
      ]
     },
     "execution_count": 248,
     "metadata": {},
     "output_type": "execute_result"
    }
   ],
   "source": [
    "top20 = products.query('product_id in @popular_item_index')[['product_id', 'product_name']]\n",
    "top20"
   ]
  },
  {
   "cell_type": "markdown",
   "id": "0f8cb2fa-46c1-4f9b-a124-bbb58bd6112c",
   "metadata": {},
   "source": [
    "To sort the result by counts (i.e., how many times the item was reordered), it is necessaty to:\n",
    "* set_index('product_id').reindex(popular_item_index) \\\n",
    "  to reindex top20 to match the order of popular_item_index, ensuring that the items are sorted according to their popularity counts.\n",
    "* reset_index() \\\n",
    "  so that product_id is a column again.\n",
    "\n",
    "This will ensure that the result is sorted, based on the reorder counts."
   ]
  },
  {
   "cell_type": "code",
   "execution_count": 250,
   "id": "0fbd4480-f011-4e47-b696-c479fe083734",
   "metadata": {},
   "outputs": [
    {
     "data": {
      "text/html": [
       "<div>\n",
       "<style scoped>\n",
       "    .dataframe tbody tr th:only-of-type {\n",
       "        vertical-align: middle;\n",
       "    }\n",
       "\n",
       "    .dataframe tbody tr th {\n",
       "        vertical-align: top;\n",
       "    }\n",
       "\n",
       "    .dataframe thead th {\n",
       "        text-align: right;\n",
       "    }\n",
       "</style>\n",
       "<table border=\"1\" class=\"dataframe\">\n",
       "  <thead>\n",
       "    <tr style=\"text-align: right;\">\n",
       "      <th></th>\n",
       "      <th>product_id</th>\n",
       "      <th>product_name</th>\n",
       "    </tr>\n",
       "  </thead>\n",
       "  <tbody>\n",
       "    <tr>\n",
       "      <th>0</th>\n",
       "      <td>24852</td>\n",
       "      <td>banana</td>\n",
       "    </tr>\n",
       "    <tr>\n",
       "      <th>1</th>\n",
       "      <td>13176</td>\n",
       "      <td>bag of organic bananas</td>\n",
       "    </tr>\n",
       "    <tr>\n",
       "      <th>2</th>\n",
       "      <td>21137</td>\n",
       "      <td>organic strawberries</td>\n",
       "    </tr>\n",
       "    <tr>\n",
       "      <th>3</th>\n",
       "      <td>21903</td>\n",
       "      <td>organic baby spinach</td>\n",
       "    </tr>\n",
       "    <tr>\n",
       "      <th>4</th>\n",
       "      <td>47209</td>\n",
       "      <td>organic hass avocado</td>\n",
       "    </tr>\n",
       "    <tr>\n",
       "      <th>5</th>\n",
       "      <td>47766</td>\n",
       "      <td>organic avocado</td>\n",
       "    </tr>\n",
       "    <tr>\n",
       "      <th>6</th>\n",
       "      <td>27845</td>\n",
       "      <td>organic whole milk</td>\n",
       "    </tr>\n",
       "    <tr>\n",
       "      <th>7</th>\n",
       "      <td>47626</td>\n",
       "      <td>large lemon</td>\n",
       "    </tr>\n",
       "    <tr>\n",
       "      <th>8</th>\n",
       "      <td>27966</td>\n",
       "      <td>organic raspberries</td>\n",
       "    </tr>\n",
       "    <tr>\n",
       "      <th>9</th>\n",
       "      <td>16797</td>\n",
       "      <td>strawberries</td>\n",
       "    </tr>\n",
       "    <tr>\n",
       "      <th>10</th>\n",
       "      <td>26209</td>\n",
       "      <td>limes</td>\n",
       "    </tr>\n",
       "    <tr>\n",
       "      <th>11</th>\n",
       "      <td>22935</td>\n",
       "      <td>organic yellow onion</td>\n",
       "    </tr>\n",
       "    <tr>\n",
       "      <th>12</th>\n",
       "      <td>24964</td>\n",
       "      <td>organic garlic</td>\n",
       "    </tr>\n",
       "    <tr>\n",
       "      <th>13</th>\n",
       "      <td>45007</td>\n",
       "      <td>organic zucchini</td>\n",
       "    </tr>\n",
       "    <tr>\n",
       "      <th>14</th>\n",
       "      <td>49683</td>\n",
       "      <td>cucumber kirby</td>\n",
       "    </tr>\n",
       "    <tr>\n",
       "      <th>15</th>\n",
       "      <td>28204</td>\n",
       "      <td>organic fuji apple</td>\n",
       "    </tr>\n",
       "    <tr>\n",
       "      <th>16</th>\n",
       "      <td>8277</td>\n",
       "      <td>apple honeycrisp organic</td>\n",
       "    </tr>\n",
       "    <tr>\n",
       "      <th>17</th>\n",
       "      <td>39275</td>\n",
       "      <td>organic blueberries</td>\n",
       "    </tr>\n",
       "    <tr>\n",
       "      <th>18</th>\n",
       "      <td>5876</td>\n",
       "      <td>organic lemon</td>\n",
       "    </tr>\n",
       "    <tr>\n",
       "      <th>19</th>\n",
       "      <td>49235</td>\n",
       "      <td>organic half &amp; half</td>\n",
       "    </tr>\n",
       "  </tbody>\n",
       "</table>\n",
       "</div>"
      ],
      "text/plain": [
       "    product_id              product_name\n",
       "0        24852                    banana\n",
       "1        13176    bag of organic bananas\n",
       "2        21137      organic strawberries\n",
       "3        21903      organic baby spinach\n",
       "4        47209      organic hass avocado\n",
       "5        47766           organic avocado\n",
       "6        27845        organic whole milk\n",
       "7        47626               large lemon\n",
       "8        27966       organic raspberries\n",
       "9        16797              strawberries\n",
       "10       26209                     limes\n",
       "11       22935      organic yellow onion\n",
       "12       24964            organic garlic\n",
       "13       45007          organic zucchini\n",
       "14       49683            cucumber kirby\n",
       "15       28204        organic fuji apple\n",
       "16        8277  apple honeycrisp organic\n",
       "17       39275       organic blueberries\n",
       "18        5876             organic lemon\n",
       "19       49235       organic half & half"
      ]
     },
     "execution_count": 250,
     "metadata": {},
     "output_type": "execute_result"
    }
   ],
   "source": [
    "most_popular_items_sorted = top20.set_index('product_id').reindex(popular_item_index).reset_index()\n",
    "most_popular_items_sorted"
   ]
  },
  {
   "cell_type": "markdown",
   "id": "c801f35c-f3dc-449f-b548-1e6a44924572",
   "metadata": {},
   "source": [
    "__Conclusion:__\n",
    "* The top 20 items that are reordered most frequently were determined, using grouping and the query() method.\n",
    "* The result displays both their names and IDs.\n",
    "* The result is sorted by reorder counts, with the most frequently reordered item at the top.\n",
    "\n",
    "[Back to Contents](#back)"
   ]
  },
  {
   "cell_type": "markdown",
   "id": "48f76400-535f-494b-a378-6585324a2158",
   "metadata": {},
   "source": [
    "<h3>3.3.3. Task 3: product reorder rate</h3> <a id='task_5'></a>"
   ]
  },
  {
   "cell_type": "markdown",
   "id": "0c797313-8c40-4aaf-910d-b5292a08795c",
   "metadata": {},
   "source": [
    "For each product, what proportion of its orders are reorders? \\\n",
    "Create a table with columns for the product ID, product name, and reorder proportion."
   ]
  },
  {
   "cell_type": "markdown",
   "id": "bc83f009-4bd0-4604-aad2-59dec300f9dd",
   "metadata": {},
   "source": [
    "In the table order_products each row corresponds to one product placed in an order. \\\n",
    "To determine the proportion of reorders to orders for each product, it is necessary to:\n",
    "* group the dataframe by product,\n",
    "* calculate how many times each product is ordered,\n",
    "* calculate how many times each product is reordered,\n",
    "* find a proportion of the product's reorders to its orders."
   ]
  },
  {
   "cell_type": "code",
   "execution_count": 255,
   "id": "199c55f8-14d9-4a6c-93bb-c01aa6a1d16a",
   "metadata": {},
   "outputs": [
    {
     "data": {
      "text/plain": [
       "product_id\n",
       "1        280\n",
       "2         11\n",
       "3         42\n",
       "4         49\n",
       "7          2\n",
       "        ... \n",
       "49690      5\n",
       "49691     72\n",
       "49692     12\n",
       "49693     25\n",
       "49694      9\n",
       "Name: reordered, Length: 45573, dtype: int64"
      ]
     },
     "execution_count": 255,
     "metadata": {},
     "output_type": "execute_result"
    }
   ],
   "source": [
    "total_orders = order_products.groupby('product_id')['reordered'].count()\n",
    "total_orders"
   ]
  },
  {
   "cell_type": "code",
   "execution_count": 256,
   "id": "32c30af0-3228-4ccc-b44f-1f44afc8a174",
   "metadata": {},
   "outputs": [
    {
     "data": {
      "text/plain": [
       "product_id\n",
       "1        158\n",
       "2          0\n",
       "3         31\n",
       "4         25\n",
       "7          1\n",
       "        ... \n",
       "49690      4\n",
       "49691     31\n",
       "49692      5\n",
       "49693     11\n",
       "49694      3\n",
       "Name: reordered, Length: 45573, dtype: int64"
      ]
     },
     "execution_count": 256,
     "metadata": {},
     "output_type": "execute_result"
    }
   ],
   "source": [
    "reorders = order_products.groupby('product_id')['reordered'].sum()\n",
    "reorders"
   ]
  },
  {
   "cell_type": "code",
   "execution_count": 257,
   "id": "4f320e97-61b8-477c-9890-a6cc6b60dc40",
   "metadata": {},
   "outputs": [
    {
     "data": {
      "text/plain": [
       "product_id\n",
       "1        56.428571\n",
       "2         0.000000\n",
       "3        73.809524\n",
       "4        51.020408\n",
       "7        50.000000\n",
       "           ...    \n",
       "49690    80.000000\n",
       "49691    43.055556\n",
       "49692    41.666667\n",
       "49693    44.000000\n",
       "49694    33.333333\n",
       "Name: reordered, Length: 45573, dtype: float64"
      ]
     },
     "execution_count": 257,
     "metadata": {},
     "output_type": "execute_result"
    }
   ],
   "source": [
    "proportion = (reorders/total_orders)*100\n",
    "proportion"
   ]
  },
  {
   "cell_type": "markdown",
   "id": "8af86e0e-a8e4-4d21-abff-ac48b28d98bf",
   "metadata": {},
   "source": [
    "The concat() function is used to create a table with:\n",
    "* product_id\n",
    "* how many times each product is ordered and reordered\n",
    "* reorders rate\n",
    "\n",
    "Since all 3 calculations (total_orders, reorders, proportion) have the same number of rows and share the same index (=product_id), it is possible to create a table from them, using the concat() function:\n",
    "* The parameter axis=1 is used to combine data column-wise.\n",
    "* The method reset_index() is used to treat the product_id index as a column in the new table.\n",
    "* The attribute .columns is used to rename columns after concatenation."
   ]
  },
  {
   "cell_type": "code",
   "execution_count": 259,
   "id": "9a0fccb1-2f4d-4777-9974-6f2eeed204f5",
   "metadata": {},
   "outputs": [
    {
     "data": {
      "text/html": [
       "<div>\n",
       "<style scoped>\n",
       "    .dataframe tbody tr th:only-of-type {\n",
       "        vertical-align: middle;\n",
       "    }\n",
       "\n",
       "    .dataframe tbody tr th {\n",
       "        vertical-align: top;\n",
       "    }\n",
       "\n",
       "    .dataframe thead th {\n",
       "        text-align: right;\n",
       "    }\n",
       "</style>\n",
       "<table border=\"1\" class=\"dataframe\">\n",
       "  <thead>\n",
       "    <tr style=\"text-align: right;\">\n",
       "      <th></th>\n",
       "      <th>product_id</th>\n",
       "      <th>total_orders</th>\n",
       "      <th>reorders</th>\n",
       "      <th>reorder_rate</th>\n",
       "    </tr>\n",
       "  </thead>\n",
       "  <tbody>\n",
       "    <tr>\n",
       "      <th>0</th>\n",
       "      <td>1</td>\n",
       "      <td>280</td>\n",
       "      <td>158</td>\n",
       "      <td>56.428571</td>\n",
       "    </tr>\n",
       "    <tr>\n",
       "      <th>1</th>\n",
       "      <td>2</td>\n",
       "      <td>11</td>\n",
       "      <td>0</td>\n",
       "      <td>0.000000</td>\n",
       "    </tr>\n",
       "    <tr>\n",
       "      <th>2</th>\n",
       "      <td>3</td>\n",
       "      <td>42</td>\n",
       "      <td>31</td>\n",
       "      <td>73.809524</td>\n",
       "    </tr>\n",
       "    <tr>\n",
       "      <th>3</th>\n",
       "      <td>4</td>\n",
       "      <td>49</td>\n",
       "      <td>25</td>\n",
       "      <td>51.020408</td>\n",
       "    </tr>\n",
       "    <tr>\n",
       "      <th>4</th>\n",
       "      <td>7</td>\n",
       "      <td>2</td>\n",
       "      <td>1</td>\n",
       "      <td>50.000000</td>\n",
       "    </tr>\n",
       "    <tr>\n",
       "      <th>...</th>\n",
       "      <td>...</td>\n",
       "      <td>...</td>\n",
       "      <td>...</td>\n",
       "      <td>...</td>\n",
       "    </tr>\n",
       "    <tr>\n",
       "      <th>45568</th>\n",
       "      <td>49690</td>\n",
       "      <td>5</td>\n",
       "      <td>4</td>\n",
       "      <td>80.000000</td>\n",
       "    </tr>\n",
       "    <tr>\n",
       "      <th>45569</th>\n",
       "      <td>49691</td>\n",
       "      <td>72</td>\n",
       "      <td>31</td>\n",
       "      <td>43.055556</td>\n",
       "    </tr>\n",
       "    <tr>\n",
       "      <th>45570</th>\n",
       "      <td>49692</td>\n",
       "      <td>12</td>\n",
       "      <td>5</td>\n",
       "      <td>41.666667</td>\n",
       "    </tr>\n",
       "    <tr>\n",
       "      <th>45571</th>\n",
       "      <td>49693</td>\n",
       "      <td>25</td>\n",
       "      <td>11</td>\n",
       "      <td>44.000000</td>\n",
       "    </tr>\n",
       "    <tr>\n",
       "      <th>45572</th>\n",
       "      <td>49694</td>\n",
       "      <td>9</td>\n",
       "      <td>3</td>\n",
       "      <td>33.333333</td>\n",
       "    </tr>\n",
       "  </tbody>\n",
       "</table>\n",
       "<p>45573 rows × 4 columns</p>\n",
       "</div>"
      ],
      "text/plain": [
       "       product_id  total_orders  reorders  reorder_rate\n",
       "0               1           280       158     56.428571\n",
       "1               2            11         0      0.000000\n",
       "2               3            42        31     73.809524\n",
       "3               4            49        25     51.020408\n",
       "4               7             2         1     50.000000\n",
       "...           ...           ...       ...           ...\n",
       "45568       49690             5         4     80.000000\n",
       "45569       49691            72        31     43.055556\n",
       "45570       49692            12         5     41.666667\n",
       "45571       49693            25        11     44.000000\n",
       "45572       49694             9         3     33.333333\n",
       "\n",
       "[45573 rows x 4 columns]"
      ]
     },
     "execution_count": 259,
     "metadata": {},
     "output_type": "execute_result"
    }
   ],
   "source": [
    "table=pd.concat([total_orders, reorders, proportion], axis=1).reset_index()\n",
    "table.columns = ['product_id', 'total_orders', 'reorders', 'reorder_rate']\n",
    "table"
   ]
  },
  {
   "cell_type": "markdown",
   "id": "b98b4545-2f92-4733-b4d8-ee767a0e3236",
   "metadata": {},
   "source": [
    "Merging the table with the products dataframe to get the product_name for each product_id. \\\n",
    "The [[]] are used to specify the columns that are needed from both tables in the resulting dataframe."
   ]
  },
  {
   "cell_type": "code",
   "execution_count": 261,
   "id": "e73d5146-1401-47dc-bfd6-7cb759be4369",
   "metadata": {},
   "outputs": [
    {
     "data": {
      "text/html": [
       "<div>\n",
       "<style scoped>\n",
       "    .dataframe tbody tr th:only-of-type {\n",
       "        vertical-align: middle;\n",
       "    }\n",
       "\n",
       "    .dataframe tbody tr th {\n",
       "        vertical-align: top;\n",
       "    }\n",
       "\n",
       "    .dataframe thead th {\n",
       "        text-align: right;\n",
       "    }\n",
       "</style>\n",
       "<table border=\"1\" class=\"dataframe\">\n",
       "  <thead>\n",
       "    <tr style=\"text-align: right;\">\n",
       "      <th></th>\n",
       "      <th>product_id</th>\n",
       "      <th>reorder_rate</th>\n",
       "      <th>product_name</th>\n",
       "    </tr>\n",
       "  </thead>\n",
       "  <tbody>\n",
       "    <tr>\n",
       "      <th>0</th>\n",
       "      <td>1</td>\n",
       "      <td>56.428571</td>\n",
       "      <td>chocolate sandwich cookies</td>\n",
       "    </tr>\n",
       "    <tr>\n",
       "      <th>1</th>\n",
       "      <td>2</td>\n",
       "      <td>0.000000</td>\n",
       "      <td>all-seasons salt</td>\n",
       "    </tr>\n",
       "    <tr>\n",
       "      <th>2</th>\n",
       "      <td>3</td>\n",
       "      <td>73.809524</td>\n",
       "      <td>robust golden unsweetened oolong tea</td>\n",
       "    </tr>\n",
       "    <tr>\n",
       "      <th>3</th>\n",
       "      <td>4</td>\n",
       "      <td>51.020408</td>\n",
       "      <td>smart ones classic favorites mini rigatoni wit...</td>\n",
       "    </tr>\n",
       "    <tr>\n",
       "      <th>4</th>\n",
       "      <td>7</td>\n",
       "      <td>50.000000</td>\n",
       "      <td>pure coconut water with orange</td>\n",
       "    </tr>\n",
       "    <tr>\n",
       "      <th>...</th>\n",
       "      <td>...</td>\n",
       "      <td>...</td>\n",
       "      <td>...</td>\n",
       "    </tr>\n",
       "    <tr>\n",
       "      <th>45568</th>\n",
       "      <td>49690</td>\n",
       "      <td>80.000000</td>\n",
       "      <td>NaN</td>\n",
       "    </tr>\n",
       "    <tr>\n",
       "      <th>45569</th>\n",
       "      <td>49691</td>\n",
       "      <td>43.055556</td>\n",
       "      <td>NaN</td>\n",
       "    </tr>\n",
       "    <tr>\n",
       "      <th>45570</th>\n",
       "      <td>49692</td>\n",
       "      <td>41.666667</td>\n",
       "      <td>NaN</td>\n",
       "    </tr>\n",
       "    <tr>\n",
       "      <th>45571</th>\n",
       "      <td>49693</td>\n",
       "      <td>44.000000</td>\n",
       "      <td>NaN</td>\n",
       "    </tr>\n",
       "    <tr>\n",
       "      <th>45572</th>\n",
       "      <td>49694</td>\n",
       "      <td>33.333333</td>\n",
       "      <td>NaN</td>\n",
       "    </tr>\n",
       "  </tbody>\n",
       "</table>\n",
       "<p>45573 rows × 3 columns</p>\n",
       "</div>"
      ],
      "text/plain": [
       "       product_id  reorder_rate  \\\n",
       "0               1     56.428571   \n",
       "1               2      0.000000   \n",
       "2               3     73.809524   \n",
       "3               4     51.020408   \n",
       "4               7     50.000000   \n",
       "...           ...           ...   \n",
       "45568       49690     80.000000   \n",
       "45569       49691     43.055556   \n",
       "45570       49692     41.666667   \n",
       "45571       49693     44.000000   \n",
       "45572       49694     33.333333   \n",
       "\n",
       "                                            product_name  \n",
       "0                             chocolate sandwich cookies  \n",
       "1                                       all-seasons salt  \n",
       "2                   robust golden unsweetened oolong tea  \n",
       "3      smart ones classic favorites mini rigatoni wit...  \n",
       "4                         pure coconut water with orange  \n",
       "...                                                  ...  \n",
       "45568                                                NaN  \n",
       "45569                                                NaN  \n",
       "45570                                                NaN  \n",
       "45571                                                NaN  \n",
       "45572                                                NaN  \n",
       "\n",
       "[45573 rows x 3 columns]"
      ]
     },
     "execution_count": 261,
     "metadata": {},
     "output_type": "execute_result"
    }
   ],
   "source": [
    "result=table[['product_id', 'reorder_rate']].merge(products[['product_id', 'product_name']], on='product_id', how='left')\n",
    "result"
   ]
  },
  {
   "cell_type": "markdown",
   "id": "df54ba7e-ce19-4250-8808-8d58a287fadf",
   "metadata": {},
   "source": [
    "__Conclusion:__\n",
    "* For each product, its reorder rate is calculated.\n",
    "* A table is created with product ID, product name, and reorder proportion.\n",
    "\n",
    "[Back to Contents](#back)"
   ]
  },
  {
   "cell_type": "markdown",
   "id": "0cddcae0-d776-4ab9-97bc-e19417f0b004",
   "metadata": {},
   "source": [
    "<h3>3.3.4. Task 4: product reorder share per customer</h3> <a id='task_6'></a>"
   ]
  },
  {
   "cell_type": "markdown",
   "id": "c7d3511b-9f74-46fc-80df-de3f3abe2e84",
   "metadata": {},
   "source": [
    "For each customer, what proportion of their products ordered are reorders?"
   ]
  },
  {
   "cell_type": "markdown",
   "id": "0d2caa6f-2f8b-42bb-b091-b4b923591d90",
   "metadata": {},
   "source": [
    "In other words, for each customer: from all the products that he ordered, how many are reordered again?"
   ]
  },
  {
   "cell_type": "markdown",
   "id": "bb22fa1b-5b8f-46df-9d1d-2127ed14d88c",
   "metadata": {},
   "source": [
    "In the table orders, the column user_id uniquely identifies each customer account. \\\n",
    "In the table order_products, the column product_id uniquely identifies each product.\n",
    "\n",
    "To determine the proportion of products being reordered per customer, it is necessary to:\n",
    "* merge 2 dataframes to have access to both customer ID and the products that he orders,\n",
    "* group the merged dataframe by customer,\n",
    "* calculate the total amount of products ordered by each customer,\n",
    "* calculate how many products were reordered again by this customer,\n",
    "* find a proportion of the product's reorders to its orders for each customer."
   ]
  },
  {
   "cell_type": "code",
   "execution_count": 267,
   "id": "2d223c41-a72f-4868-ba28-bff6ce4e71a0",
   "metadata": {},
   "outputs": [
    {
     "data": {
      "text/html": [
       "<div>\n",
       "<style scoped>\n",
       "    .dataframe tbody tr th:only-of-type {\n",
       "        vertical-align: middle;\n",
       "    }\n",
       "\n",
       "    .dataframe tbody tr th {\n",
       "        vertical-align: top;\n",
       "    }\n",
       "\n",
       "    .dataframe thead th {\n",
       "        text-align: right;\n",
       "    }\n",
       "</style>\n",
       "<table border=\"1\" class=\"dataframe\">\n",
       "  <thead>\n",
       "    <tr style=\"text-align: right;\">\n",
       "      <th></th>\n",
       "      <th>order_id</th>\n",
       "      <th>user_id</th>\n",
       "      <th>product_id</th>\n",
       "      <th>reordered</th>\n",
       "    </tr>\n",
       "  </thead>\n",
       "  <tbody>\n",
       "    <tr>\n",
       "      <th>0</th>\n",
       "      <td>1515936</td>\n",
       "      <td>183418</td>\n",
       "      <td>19048.0</td>\n",
       "      <td>1.0</td>\n",
       "    </tr>\n",
       "    <tr>\n",
       "      <th>1</th>\n",
       "      <td>1515936</td>\n",
       "      <td>183418</td>\n",
       "      <td>47766.0</td>\n",
       "      <td>1.0</td>\n",
       "    </tr>\n",
       "    <tr>\n",
       "      <th>2</th>\n",
       "      <td>1515936</td>\n",
       "      <td>183418</td>\n",
       "      <td>45066.0</td>\n",
       "      <td>0.0</td>\n",
       "    </tr>\n",
       "    <tr>\n",
       "      <th>3</th>\n",
       "      <td>1515936</td>\n",
       "      <td>183418</td>\n",
       "      <td>24082.0</td>\n",
       "      <td>0.0</td>\n",
       "    </tr>\n",
       "    <tr>\n",
       "      <th>4</th>\n",
       "      <td>1515936</td>\n",
       "      <td>183418</td>\n",
       "      <td>24363.0</td>\n",
       "      <td>0.0</td>\n",
       "    </tr>\n",
       "    <tr>\n",
       "      <th>...</th>\n",
       "      <td>...</td>\n",
       "      <td>...</td>\n",
       "      <td>...</td>\n",
       "      <td>...</td>\n",
       "    </tr>\n",
       "    <tr>\n",
       "      <th>4573908</th>\n",
       "      <td>2071924</td>\n",
       "      <td>1730</td>\n",
       "      <td>1503.0</td>\n",
       "      <td>0.0</td>\n",
       "    </tr>\n",
       "    <tr>\n",
       "      <th>4573909</th>\n",
       "      <td>2071924</td>\n",
       "      <td>1730</td>\n",
       "      <td>4778.0</td>\n",
       "      <td>1.0</td>\n",
       "    </tr>\n",
       "    <tr>\n",
       "      <th>4573910</th>\n",
       "      <td>2071924</td>\n",
       "      <td>1730</td>\n",
       "      <td>11512.0</td>\n",
       "      <td>1.0</td>\n",
       "    </tr>\n",
       "    <tr>\n",
       "      <th>4573911</th>\n",
       "      <td>2071924</td>\n",
       "      <td>1730</td>\n",
       "      <td>4920.0</td>\n",
       "      <td>1.0</td>\n",
       "    </tr>\n",
       "    <tr>\n",
       "      <th>4573912</th>\n",
       "      <td>2071924</td>\n",
       "      <td>1730</td>\n",
       "      <td>17678.0</td>\n",
       "      <td>1.0</td>\n",
       "    </tr>\n",
       "  </tbody>\n",
       "</table>\n",
       "<p>4573913 rows × 4 columns</p>\n",
       "</div>"
      ],
      "text/plain": [
       "         order_id  user_id  product_id  reordered\n",
       "0         1515936   183418     19048.0        1.0\n",
       "1         1515936   183418     47766.0        1.0\n",
       "2         1515936   183418     45066.0        0.0\n",
       "3         1515936   183418     24082.0        0.0\n",
       "4         1515936   183418     24363.0        0.0\n",
       "...           ...      ...         ...        ...\n",
       "4573908   2071924     1730      1503.0        0.0\n",
       "4573909   2071924     1730      4778.0        1.0\n",
       "4573910   2071924     1730     11512.0        1.0\n",
       "4573911   2071924     1730      4920.0        1.0\n",
       "4573912   2071924     1730     17678.0        1.0\n",
       "\n",
       "[4573913 rows x 4 columns]"
      ]
     },
     "execution_count": 267,
     "metadata": {},
     "output_type": "execute_result"
    }
   ],
   "source": [
    "customer_products=orders[['order_id', 'user_id']].merge(order_products[['order_id', 'product_id', 'reordered']], on='order_id', how='left')\n",
    "customer_products"
   ]
  },
  {
   "cell_type": "markdown",
   "id": "5cef9053-d954-4232-82fe-53da1ce3dc2d",
   "metadata": {},
   "source": [
    "Checking if merging did not create duplicated rows:"
   ]
  },
  {
   "cell_type": "code",
   "execution_count": 269,
   "id": "0f027f60-9be4-484b-a36d-df5d9e743bf2",
   "metadata": {},
   "outputs": [
    {
     "data": {
      "text/plain": [
       "0"
      ]
     },
     "execution_count": 269,
     "metadata": {},
     "output_type": "execute_result"
    }
   ],
   "source": [
    "customer_products.duplicated().sum()"
   ]
  },
  {
   "cell_type": "markdown",
   "id": "72814836-1930-4107-927e-e2d92fa0479f",
   "metadata": {},
   "source": [
    "Calculating the number of unique customers in the dataset. \\\n",
    "This number can be used as a control number for verifying the further calculations."
   ]
  },
  {
   "cell_type": "code",
   "execution_count": 271,
   "id": "dd821c89-50ec-44d4-974c-424a717b8692",
   "metadata": {},
   "outputs": [
    {
     "data": {
      "text/plain": [
       "157437"
      ]
     },
     "execution_count": 271,
     "metadata": {},
     "output_type": "execute_result"
    }
   ],
   "source": [
    "customer_products['user_id'].nunique()"
   ]
  },
  {
   "cell_type": "markdown",
   "id": "814a06bf-4e78-44ae-8aec-11f89103e354",
   "metadata": {},
   "source": [
    "Counting the number of products ordered per customer:"
   ]
  },
  {
   "cell_type": "code",
   "execution_count": 273,
   "id": "3c2882d8-ff83-4fd6-ac49-8f6e71e02501",
   "metadata": {},
   "outputs": [
    {
     "data": {
      "text/plain": [
       "user_id\n",
       "2          26\n",
       "4           2\n",
       "5          12\n",
       "6           4\n",
       "7          14\n",
       "         ... \n",
       "206203     27\n",
       "206206     21\n",
       "206207     46\n",
       "206208    125\n",
       "206209     25\n",
       "Name: reordered, Length: 157437, dtype: int64"
      ]
     },
     "execution_count": 273,
     "metadata": {},
     "output_type": "execute_result"
    }
   ],
   "source": [
    "customer_orders = customer_products.groupby('user_id')['reordered'].count()\n",
    "customer_orders"
   ]
  },
  {
   "cell_type": "markdown",
   "id": "022b67fb-3d27-46c7-a01a-c85b44467167",
   "metadata": {},
   "source": [
    "Calculating how many products were reordered per customer:"
   ]
  },
  {
   "cell_type": "code",
   "execution_count": 275,
   "id": "1099b6b9-8def-4049-a5ee-a16b44dee753",
   "metadata": {},
   "outputs": [
    {
     "data": {
      "text/plain": [
       "user_id\n",
       "2          1.0\n",
       "4          0.0\n",
       "5          8.0\n",
       "6          0.0\n",
       "7         13.0\n",
       "          ... \n",
       "206203     6.0\n",
       "206206    15.0\n",
       "206207    41.0\n",
       "206208    87.0\n",
       "206209     8.0\n",
       "Name: reordered, Length: 157437, dtype: float64"
      ]
     },
     "execution_count": 275,
     "metadata": {},
     "output_type": "execute_result"
    }
   ],
   "source": [
    "customer_reorders = customer_products.groupby('user_id')['reordered'].sum()\n",
    "customer_reorders"
   ]
  },
  {
   "cell_type": "markdown",
   "id": "b508cf70-e643-49ba-a6b9-92e2fe731f6b",
   "metadata": {},
   "source": [
    "Finding the products reorder share for each customer:"
   ]
  },
  {
   "cell_type": "code",
   "execution_count": 277,
   "id": "eb60739d-90ec-406a-bc3e-be32d6290f86",
   "metadata": {},
   "outputs": [
    {
     "data": {
      "text/plain": [
       "user_id\n",
       "2          3.846154\n",
       "4          0.000000\n",
       "5         66.666667\n",
       "6          0.000000\n",
       "7         92.857143\n",
       "            ...    \n",
       "206203    22.222222\n",
       "206206    71.428571\n",
       "206207    89.130435\n",
       "206208    69.600000\n",
       "206209    32.000000\n",
       "Name: reordered, Length: 157437, dtype: float64"
      ]
     },
     "execution_count": 277,
     "metadata": {},
     "output_type": "execute_result"
    }
   ],
   "source": [
    "reorders_share=(customer_reorders/customer_orders)*100\n",
    "reorders_share"
   ]
  },
  {
   "cell_type": "markdown",
   "id": "1ff19908-795c-4c39-94a6-d87372d62f73",
   "metadata": {},
   "source": [
    "Creating a table with the results:"
   ]
  },
  {
   "cell_type": "code",
   "execution_count": 279,
   "id": "00ababf0-a755-4ffd-9589-f50ddb014845",
   "metadata": {},
   "outputs": [
    {
     "data": {
      "text/html": [
       "<div>\n",
       "<style scoped>\n",
       "    .dataframe tbody tr th:only-of-type {\n",
       "        vertical-align: middle;\n",
       "    }\n",
       "\n",
       "    .dataframe tbody tr th {\n",
       "        vertical-align: top;\n",
       "    }\n",
       "\n",
       "    .dataframe thead th {\n",
       "        text-align: right;\n",
       "    }\n",
       "</style>\n",
       "<table border=\"1\" class=\"dataframe\">\n",
       "  <thead>\n",
       "    <tr style=\"text-align: right;\">\n",
       "      <th></th>\n",
       "      <th>user_id</th>\n",
       "      <th>product_orders</th>\n",
       "      <th>product_reorders</th>\n",
       "      <th>reorders_share</th>\n",
       "    </tr>\n",
       "  </thead>\n",
       "  <tbody>\n",
       "    <tr>\n",
       "      <th>0</th>\n",
       "      <td>2</td>\n",
       "      <td>26</td>\n",
       "      <td>1.0</td>\n",
       "      <td>3.846154</td>\n",
       "    </tr>\n",
       "    <tr>\n",
       "      <th>1</th>\n",
       "      <td>4</td>\n",
       "      <td>2</td>\n",
       "      <td>0.0</td>\n",
       "      <td>0.000000</td>\n",
       "    </tr>\n",
       "    <tr>\n",
       "      <th>2</th>\n",
       "      <td>5</td>\n",
       "      <td>12</td>\n",
       "      <td>8.0</td>\n",
       "      <td>66.666667</td>\n",
       "    </tr>\n",
       "    <tr>\n",
       "      <th>3</th>\n",
       "      <td>6</td>\n",
       "      <td>4</td>\n",
       "      <td>0.0</td>\n",
       "      <td>0.000000</td>\n",
       "    </tr>\n",
       "    <tr>\n",
       "      <th>4</th>\n",
       "      <td>7</td>\n",
       "      <td>14</td>\n",
       "      <td>13.0</td>\n",
       "      <td>92.857143</td>\n",
       "    </tr>\n",
       "    <tr>\n",
       "      <th>...</th>\n",
       "      <td>...</td>\n",
       "      <td>...</td>\n",
       "      <td>...</td>\n",
       "      <td>...</td>\n",
       "    </tr>\n",
       "    <tr>\n",
       "      <th>157432</th>\n",
       "      <td>206203</td>\n",
       "      <td>27</td>\n",
       "      <td>6.0</td>\n",
       "      <td>22.222222</td>\n",
       "    </tr>\n",
       "    <tr>\n",
       "      <th>157433</th>\n",
       "      <td>206206</td>\n",
       "      <td>21</td>\n",
       "      <td>15.0</td>\n",
       "      <td>71.428571</td>\n",
       "    </tr>\n",
       "    <tr>\n",
       "      <th>157434</th>\n",
       "      <td>206207</td>\n",
       "      <td>46</td>\n",
       "      <td>41.0</td>\n",
       "      <td>89.130435</td>\n",
       "    </tr>\n",
       "    <tr>\n",
       "      <th>157435</th>\n",
       "      <td>206208</td>\n",
       "      <td>125</td>\n",
       "      <td>87.0</td>\n",
       "      <td>69.600000</td>\n",
       "    </tr>\n",
       "    <tr>\n",
       "      <th>157436</th>\n",
       "      <td>206209</td>\n",
       "      <td>25</td>\n",
       "      <td>8.0</td>\n",
       "      <td>32.000000</td>\n",
       "    </tr>\n",
       "  </tbody>\n",
       "</table>\n",
       "<p>157437 rows × 4 columns</p>\n",
       "</div>"
      ],
      "text/plain": [
       "        user_id  product_orders  product_reorders  reorders_share\n",
       "0             2              26               1.0        3.846154\n",
       "1             4               2               0.0        0.000000\n",
       "2             5              12               8.0       66.666667\n",
       "3             6               4               0.0        0.000000\n",
       "4             7              14              13.0       92.857143\n",
       "...         ...             ...               ...             ...\n",
       "157432   206203              27               6.0       22.222222\n",
       "157433   206206              21              15.0       71.428571\n",
       "157434   206207              46              41.0       89.130435\n",
       "157435   206208             125              87.0       69.600000\n",
       "157436   206209              25               8.0       32.000000\n",
       "\n",
       "[157437 rows x 4 columns]"
      ]
     },
     "execution_count": 279,
     "metadata": {},
     "output_type": "execute_result"
    }
   ],
   "source": [
    "reorders_table=pd.concat([customer_orders, customer_reorders, reorders_share], axis=1).reset_index()\n",
    "reorders_table.columns = ['user_id', 'product_orders', 'product_reorders', 'reorders_share']\n",
    "reorders_table"
   ]
  },
  {
   "cell_type": "markdown",
   "id": "e70047dd-a76c-4cbd-9373-65d5850fd769",
   "metadata": {},
   "source": [
    "__Conclusion:__\n",
    "* For each customer, the products reorder rate is calculated.\n",
    "* A table is created with user_id, the number of products ordered & reordered, and the reorders share.\n",
    "\n",
    "[Back to Contents](#back)"
   ]
  },
  {
   "cell_type": "markdown",
   "id": "816e636a-16f1-46b6-9c12-87d2edaea9de",
   "metadata": {},
   "source": [
    "<h3>3.3.5. Task 5: top 20 first added items</h3> <a id='task_7'></a>"
   ]
  },
  {
   "cell_type": "markdown",
   "id": "adb78c6a-f0df-4620-89e2-fc5c49a8b5af",
   "metadata": {},
   "source": [
    "What are the top 20 items that people put in their carts first? \\\n",
    "Display the product IDs, product names, and number of times they were the first item added to the cart."
   ]
  },
  {
   "cell_type": "markdown",
   "id": "868f05a1-1d8d-42c4-9a65-3dee58411440",
   "metadata": {},
   "source": [
    "In the table order_products, the column add_to_cart_order displays the sequential order in which each item was placed in the cart."
   ]
  },
  {
   "cell_type": "markdown",
   "id": "00c8debf-cc5c-4dd5-95bd-0dce7a8b9c56",
   "metadata": {},
   "source": [
    "Making a selection of the products that were put in the carts first:"
   ]
  },
  {
   "cell_type": "code",
   "execution_count": 285,
   "id": "3edea3ed-2991-42e2-91e8-7c2019605b76",
   "metadata": {},
   "outputs": [
    {
     "data": {
      "text/html": [
       "<div>\n",
       "<style scoped>\n",
       "    .dataframe tbody tr th:only-of-type {\n",
       "        vertical-align: middle;\n",
       "    }\n",
       "\n",
       "    .dataframe tbody tr th {\n",
       "        vertical-align: top;\n",
       "    }\n",
       "\n",
       "    .dataframe thead th {\n",
       "        text-align: right;\n",
       "    }\n",
       "</style>\n",
       "<table border=\"1\" class=\"dataframe\">\n",
       "  <thead>\n",
       "    <tr style=\"text-align: right;\">\n",
       "      <th></th>\n",
       "      <th>order_id</th>\n",
       "      <th>product_id</th>\n",
       "      <th>add_to_cart_order</th>\n",
       "      <th>reordered</th>\n",
       "    </tr>\n",
       "  </thead>\n",
       "  <tbody>\n",
       "    <tr>\n",
       "      <th>1</th>\n",
       "      <td>567889</td>\n",
       "      <td>1560</td>\n",
       "      <td>1</td>\n",
       "      <td>1</td>\n",
       "    </tr>\n",
       "    <tr>\n",
       "      <th>2</th>\n",
       "      <td>2261212</td>\n",
       "      <td>26683</td>\n",
       "      <td>1</td>\n",
       "      <td>1</td>\n",
       "    </tr>\n",
       "    <tr>\n",
       "      <th>14</th>\n",
       "      <td>1961225</td>\n",
       "      <td>37553</td>\n",
       "      <td>1</td>\n",
       "      <td>1</td>\n",
       "    </tr>\n",
       "    <tr>\n",
       "      <th>16</th>\n",
       "      <td>639939</td>\n",
       "      <td>10017</td>\n",
       "      <td>1</td>\n",
       "      <td>1</td>\n",
       "    </tr>\n",
       "    <tr>\n",
       "      <th>23</th>\n",
       "      <td>750040</td>\n",
       "      <td>8518</td>\n",
       "      <td>1</td>\n",
       "      <td>0</td>\n",
       "    </tr>\n",
       "    <tr>\n",
       "      <th>...</th>\n",
       "      <td>...</td>\n",
       "      <td>...</td>\n",
       "      <td>...</td>\n",
       "      <td>...</td>\n",
       "    </tr>\n",
       "    <tr>\n",
       "      <th>4544978</th>\n",
       "      <td>1759009</td>\n",
       "      <td>46175</td>\n",
       "      <td>1</td>\n",
       "      <td>0</td>\n",
       "    </tr>\n",
       "    <tr>\n",
       "      <th>4544989</th>\n",
       "      <td>115427</td>\n",
       "      <td>20842</td>\n",
       "      <td>1</td>\n",
       "      <td>1</td>\n",
       "    </tr>\n",
       "    <tr>\n",
       "      <th>4544990</th>\n",
       "      <td>2049780</td>\n",
       "      <td>28576</td>\n",
       "      <td>1</td>\n",
       "      <td>1</td>\n",
       "    </tr>\n",
       "    <tr>\n",
       "      <th>4544997</th>\n",
       "      <td>2300092</td>\n",
       "      <td>10017</td>\n",
       "      <td>1</td>\n",
       "      <td>0</td>\n",
       "    </tr>\n",
       "    <tr>\n",
       "      <th>4544999</th>\n",
       "      <td>1622300</td>\n",
       "      <td>24852</td>\n",
       "      <td>1</td>\n",
       "      <td>1</td>\n",
       "    </tr>\n",
       "  </tbody>\n",
       "</table>\n",
       "<p>450046 rows × 4 columns</p>\n",
       "</div>"
      ],
      "text/plain": [
       "         order_id  product_id  add_to_cart_order  reordered\n",
       "1          567889        1560                  1          1\n",
       "2         2261212       26683                  1          1\n",
       "14        1961225       37553                  1          1\n",
       "16         639939       10017                  1          1\n",
       "23         750040        8518                  1          0\n",
       "...           ...         ...                ...        ...\n",
       "4544978   1759009       46175                  1          0\n",
       "4544989    115427       20842                  1          1\n",
       "4544990   2049780       28576                  1          1\n",
       "4544997   2300092       10017                  1          0\n",
       "4544999   1622300       24852                  1          1\n",
       "\n",
       "[450046 rows x 4 columns]"
      ]
     },
     "execution_count": 285,
     "metadata": {},
     "output_type": "execute_result"
    }
   ],
   "source": [
    "first_in_cart=order_products[order_products['add_to_cart_order']==1]\n",
    "first_in_cart"
   ]
  },
  {
   "cell_type": "markdown",
   "id": "cf05a897-48e9-46ec-9097-db496caaa294",
   "metadata": {},
   "source": [
    "Calculating how many times each product is added to a cart as first, \\\n",
    "and sorting the results in the descending order, so the products that are most frequently added as the first ones are at the top:"
   ]
  },
  {
   "cell_type": "code",
   "execution_count": 287,
   "id": "819d9f3e-86d8-4700-945b-13814fb39d6f",
   "metadata": {},
   "outputs": [
    {
     "data": {
      "text/plain": [
       "product_id\n",
       "24852    15562\n",
       "13176    11026\n",
       "27845     4363\n",
       "21137     3946\n",
       "47209     3390\n",
       "         ...  \n",
       "10981        1\n",
       "10985        1\n",
       "38272        1\n",
       "10989        1\n",
       "36996        1\n",
       "Name: order_id, Length: 26760, dtype: int64"
      ]
     },
     "execution_count": 287,
     "metadata": {},
     "output_type": "execute_result"
    }
   ],
   "source": [
    "first_products = first_in_cart.groupby('product_id')['order_id'].count().sort_values(ascending=False)\n",
    "first_products"
   ]
  },
  {
   "cell_type": "markdown",
   "id": "fb96dd1e-ff51-4b30-94b1-321876c0bfd1",
   "metadata": {},
   "source": [
    "Testing if the values are correct, e.g. for the product with id=24852:"
   ]
  },
  {
   "cell_type": "code",
   "execution_count": 289,
   "id": "b41d0f7d-c3d0-4e1e-bb27-8f8e4cdb64f5",
   "metadata": {},
   "outputs": [
    {
     "data": {
      "text/plain": [
       "add_to_cart_order\n",
       "False    50484\n",
       "True     15562\n",
       "Name: count, dtype: Int64"
      ]
     },
     "execution_count": 289,
     "metadata": {},
     "output_type": "execute_result"
    }
   ],
   "source": [
    "test=order_products[order_products['product_id']==24852]['add_to_cart_order']==1\n",
    "test.value_counts()"
   ]
  },
  {
   "cell_type": "markdown",
   "id": "410465de-728f-4507-9866-7f69c63686e1",
   "metadata": {},
   "source": [
    "Making a selection of the 20 items that people put in their carts first:"
   ]
  },
  {
   "cell_type": "code",
   "execution_count": 291,
   "id": "d4fe47ea-cdcb-4efc-b0fe-fcbd2969baad",
   "metadata": {},
   "outputs": [
    {
     "data": {
      "text/plain": [
       "product_id\n",
       "24852    15562\n",
       "13176    11026\n",
       "27845     4363\n",
       "21137     3946\n",
       "47209     3390\n",
       "21903     3336\n",
       "47766     3044\n",
       "19660     2336\n",
       "16797     2308\n",
       "27966     2024\n",
       "44632     1914\n",
       "49235     1797\n",
       "47626     1737\n",
       "196       1733\n",
       "38689     1397\n",
       "26209     1370\n",
       "12341     1340\n",
       "5785      1310\n",
       "27086     1309\n",
       "43352     1246\n",
       "Name: order_id, dtype: int64"
      ]
     },
     "execution_count": 291,
     "metadata": {},
     "output_type": "execute_result"
    }
   ],
   "source": [
    "first_20_products=first_products[0:20]\n",
    "first_20_products"
   ]
  },
  {
   "cell_type": "markdown",
   "id": "1aaaedd8-a575-47bf-875e-3c852b20fc14",
   "metadata": {},
   "source": [
    "Creating a table of the top 20 items with their product_id and the number of times they were the first item added to the cart:"
   ]
  },
  {
   "cell_type": "code",
   "execution_count": 293,
   "id": "015fc2a7-034c-4772-8d0d-5073dabdc09b",
   "metadata": {},
   "outputs": [
    {
     "data": {
      "text/html": [
       "<div>\n",
       "<style scoped>\n",
       "    .dataframe tbody tr th:only-of-type {\n",
       "        vertical-align: middle;\n",
       "    }\n",
       "\n",
       "    .dataframe tbody tr th {\n",
       "        vertical-align: top;\n",
       "    }\n",
       "\n",
       "    .dataframe thead th {\n",
       "        text-align: right;\n",
       "    }\n",
       "</style>\n",
       "<table border=\"1\" class=\"dataframe\">\n",
       "  <thead>\n",
       "    <tr style=\"text-align: right;\">\n",
       "      <th></th>\n",
       "      <th>product_id</th>\n",
       "      <th>how_often_first</th>\n",
       "    </tr>\n",
       "  </thead>\n",
       "  <tbody>\n",
       "    <tr>\n",
       "      <th>0</th>\n",
       "      <td>24852</td>\n",
       "      <td>15562</td>\n",
       "    </tr>\n",
       "    <tr>\n",
       "      <th>1</th>\n",
       "      <td>13176</td>\n",
       "      <td>11026</td>\n",
       "    </tr>\n",
       "    <tr>\n",
       "      <th>2</th>\n",
       "      <td>27845</td>\n",
       "      <td>4363</td>\n",
       "    </tr>\n",
       "    <tr>\n",
       "      <th>3</th>\n",
       "      <td>21137</td>\n",
       "      <td>3946</td>\n",
       "    </tr>\n",
       "    <tr>\n",
       "      <th>4</th>\n",
       "      <td>47209</td>\n",
       "      <td>3390</td>\n",
       "    </tr>\n",
       "    <tr>\n",
       "      <th>5</th>\n",
       "      <td>21903</td>\n",
       "      <td>3336</td>\n",
       "    </tr>\n",
       "    <tr>\n",
       "      <th>6</th>\n",
       "      <td>47766</td>\n",
       "      <td>3044</td>\n",
       "    </tr>\n",
       "    <tr>\n",
       "      <th>7</th>\n",
       "      <td>19660</td>\n",
       "      <td>2336</td>\n",
       "    </tr>\n",
       "    <tr>\n",
       "      <th>8</th>\n",
       "      <td>16797</td>\n",
       "      <td>2308</td>\n",
       "    </tr>\n",
       "    <tr>\n",
       "      <th>9</th>\n",
       "      <td>27966</td>\n",
       "      <td>2024</td>\n",
       "    </tr>\n",
       "    <tr>\n",
       "      <th>10</th>\n",
       "      <td>44632</td>\n",
       "      <td>1914</td>\n",
       "    </tr>\n",
       "    <tr>\n",
       "      <th>11</th>\n",
       "      <td>49235</td>\n",
       "      <td>1797</td>\n",
       "    </tr>\n",
       "    <tr>\n",
       "      <th>12</th>\n",
       "      <td>47626</td>\n",
       "      <td>1737</td>\n",
       "    </tr>\n",
       "    <tr>\n",
       "      <th>13</th>\n",
       "      <td>196</td>\n",
       "      <td>1733</td>\n",
       "    </tr>\n",
       "    <tr>\n",
       "      <th>14</th>\n",
       "      <td>38689</td>\n",
       "      <td>1397</td>\n",
       "    </tr>\n",
       "    <tr>\n",
       "      <th>15</th>\n",
       "      <td>26209</td>\n",
       "      <td>1370</td>\n",
       "    </tr>\n",
       "    <tr>\n",
       "      <th>16</th>\n",
       "      <td>12341</td>\n",
       "      <td>1340</td>\n",
       "    </tr>\n",
       "    <tr>\n",
       "      <th>17</th>\n",
       "      <td>5785</td>\n",
       "      <td>1310</td>\n",
       "    </tr>\n",
       "    <tr>\n",
       "      <th>18</th>\n",
       "      <td>27086</td>\n",
       "      <td>1309</td>\n",
       "    </tr>\n",
       "    <tr>\n",
       "      <th>19</th>\n",
       "      <td>43352</td>\n",
       "      <td>1246</td>\n",
       "    </tr>\n",
       "  </tbody>\n",
       "</table>\n",
       "</div>"
      ],
      "text/plain": [
       "    product_id  how_often_first\n",
       "0        24852            15562\n",
       "1        13176            11026\n",
       "2        27845             4363\n",
       "3        21137             3946\n",
       "4        47209             3390\n",
       "5        21903             3336\n",
       "6        47766             3044\n",
       "7        19660             2336\n",
       "8        16797             2308\n",
       "9        27966             2024\n",
       "10       44632             1914\n",
       "11       49235             1797\n",
       "12       47626             1737\n",
       "13         196             1733\n",
       "14       38689             1397\n",
       "15       26209             1370\n",
       "16       12341             1340\n",
       "17        5785             1310\n",
       "18       27086             1309\n",
       "19       43352             1246"
      ]
     },
     "execution_count": 293,
     "metadata": {},
     "output_type": "execute_result"
    }
   ],
   "source": [
    "table_20_products=first_20_products.reset_index()\n",
    "table_20_products.columns = ['product_id', 'how_often_first']\n",
    "table_20_products"
   ]
  },
  {
   "cell_type": "markdown",
   "id": "d7325fd7-211f-4613-8f86-2cfb3e513a98",
   "metadata": {},
   "source": [
    "Merging the table with the dataframe products to receive the names for these top 20 items:"
   ]
  },
  {
   "cell_type": "code",
   "execution_count": 295,
   "id": "e5ddf99a-91c0-47c5-9a6d-ffd0e0fda1a1",
   "metadata": {},
   "outputs": [
    {
     "data": {
      "text/html": [
       "<div>\n",
       "<style scoped>\n",
       "    .dataframe tbody tr th:only-of-type {\n",
       "        vertical-align: middle;\n",
       "    }\n",
       "\n",
       "    .dataframe tbody tr th {\n",
       "        vertical-align: top;\n",
       "    }\n",
       "\n",
       "    .dataframe thead th {\n",
       "        text-align: right;\n",
       "    }\n",
       "</style>\n",
       "<table border=\"1\" class=\"dataframe\">\n",
       "  <thead>\n",
       "    <tr style=\"text-align: right;\">\n",
       "      <th></th>\n",
       "      <th>product_id</th>\n",
       "      <th>how_often_first</th>\n",
       "      <th>product_name</th>\n",
       "    </tr>\n",
       "  </thead>\n",
       "  <tbody>\n",
       "    <tr>\n",
       "      <th>0</th>\n",
       "      <td>24852</td>\n",
       "      <td>15562</td>\n",
       "      <td>banana</td>\n",
       "    </tr>\n",
       "    <tr>\n",
       "      <th>1</th>\n",
       "      <td>13176</td>\n",
       "      <td>11026</td>\n",
       "      <td>bag of organic bananas</td>\n",
       "    </tr>\n",
       "    <tr>\n",
       "      <th>2</th>\n",
       "      <td>27845</td>\n",
       "      <td>4363</td>\n",
       "      <td>organic whole milk</td>\n",
       "    </tr>\n",
       "    <tr>\n",
       "      <th>3</th>\n",
       "      <td>21137</td>\n",
       "      <td>3946</td>\n",
       "      <td>organic strawberries</td>\n",
       "    </tr>\n",
       "    <tr>\n",
       "      <th>4</th>\n",
       "      <td>47209</td>\n",
       "      <td>3390</td>\n",
       "      <td>organic hass avocado</td>\n",
       "    </tr>\n",
       "    <tr>\n",
       "      <th>5</th>\n",
       "      <td>21903</td>\n",
       "      <td>3336</td>\n",
       "      <td>organic baby spinach</td>\n",
       "    </tr>\n",
       "    <tr>\n",
       "      <th>6</th>\n",
       "      <td>47766</td>\n",
       "      <td>3044</td>\n",
       "      <td>organic avocado</td>\n",
       "    </tr>\n",
       "    <tr>\n",
       "      <th>7</th>\n",
       "      <td>19660</td>\n",
       "      <td>2336</td>\n",
       "      <td>spring water</td>\n",
       "    </tr>\n",
       "    <tr>\n",
       "      <th>8</th>\n",
       "      <td>16797</td>\n",
       "      <td>2308</td>\n",
       "      <td>strawberries</td>\n",
       "    </tr>\n",
       "    <tr>\n",
       "      <th>9</th>\n",
       "      <td>27966</td>\n",
       "      <td>2024</td>\n",
       "      <td>organic raspberries</td>\n",
       "    </tr>\n",
       "    <tr>\n",
       "      <th>10</th>\n",
       "      <td>44632</td>\n",
       "      <td>1914</td>\n",
       "      <td>sparkling water grapefruit</td>\n",
       "    </tr>\n",
       "    <tr>\n",
       "      <th>11</th>\n",
       "      <td>49235</td>\n",
       "      <td>1797</td>\n",
       "      <td>organic half &amp; half</td>\n",
       "    </tr>\n",
       "    <tr>\n",
       "      <th>12</th>\n",
       "      <td>47626</td>\n",
       "      <td>1737</td>\n",
       "      <td>large lemon</td>\n",
       "    </tr>\n",
       "    <tr>\n",
       "      <th>13</th>\n",
       "      <td>196</td>\n",
       "      <td>1733</td>\n",
       "      <td>soda</td>\n",
       "    </tr>\n",
       "    <tr>\n",
       "      <th>14</th>\n",
       "      <td>38689</td>\n",
       "      <td>1397</td>\n",
       "      <td>organic reduced fat milk</td>\n",
       "    </tr>\n",
       "    <tr>\n",
       "      <th>15</th>\n",
       "      <td>26209</td>\n",
       "      <td>1370</td>\n",
       "      <td>limes</td>\n",
       "    </tr>\n",
       "    <tr>\n",
       "      <th>16</th>\n",
       "      <td>12341</td>\n",
       "      <td>1340</td>\n",
       "      <td>hass avocados</td>\n",
       "    </tr>\n",
       "    <tr>\n",
       "      <th>17</th>\n",
       "      <td>5785</td>\n",
       "      <td>1310</td>\n",
       "      <td>organic reduced fat 2% milk</td>\n",
       "    </tr>\n",
       "    <tr>\n",
       "      <th>18</th>\n",
       "      <td>27086</td>\n",
       "      <td>1309</td>\n",
       "      <td>half &amp; half</td>\n",
       "    </tr>\n",
       "    <tr>\n",
       "      <th>19</th>\n",
       "      <td>43352</td>\n",
       "      <td>1246</td>\n",
       "      <td>raspberries</td>\n",
       "    </tr>\n",
       "  </tbody>\n",
       "</table>\n",
       "</div>"
      ],
      "text/plain": [
       "    product_id  how_often_first                 product_name\n",
       "0        24852            15562                       banana\n",
       "1        13176            11026       bag of organic bananas\n",
       "2        27845             4363           organic whole milk\n",
       "3        21137             3946         organic strawberries\n",
       "4        47209             3390         organic hass avocado\n",
       "5        21903             3336         organic baby spinach\n",
       "6        47766             3044              organic avocado\n",
       "7        19660             2336                 spring water\n",
       "8        16797             2308                 strawberries\n",
       "9        27966             2024          organic raspberries\n",
       "10       44632             1914   sparkling water grapefruit\n",
       "11       49235             1797          organic half & half\n",
       "12       47626             1737                  large lemon\n",
       "13         196             1733                         soda\n",
       "14       38689             1397     organic reduced fat milk\n",
       "15       26209             1370                        limes\n",
       "16       12341             1340                hass avocados\n",
       "17        5785             1310  organic reduced fat 2% milk\n",
       "18       27086             1309                  half & half\n",
       "19       43352             1246                  raspberries"
      ]
     },
     "execution_count": 295,
     "metadata": {},
     "output_type": "execute_result"
    }
   ],
   "source": [
    "top_20_products=table_20_products.merge(products[['product_id', 'product_name']], on='product_id', how='left')\n",
    "top_20_products"
   ]
  },
  {
   "cell_type": "markdown",
   "id": "3489e423-d5ca-4658-a72b-2adf69ff9014",
   "metadata": {},
   "source": [
    "__Conclusion:__\n",
    "* The top 20 items that people put in their carts first were found, using filtering, grouping and merging.\n",
    "* The result displays their names, IDs, and how often they were the first item added to the cart.\n",
    "* The result is sorted by the number of times each item was added as the first one in the cart, with the most frequently added item at the top.\n",
    "\n",
    "[Back to Contents](#back)"
   ]
  },
  {
   "cell_type": "markdown",
   "id": "31b8ed49-62e1-4553-83e4-c43fc20f2ec6",
   "metadata": {},
   "source": [
    "<h3>3.3.6. Extra: top 20 items: reordered vs first added</h3> <a id='extra'></a>"
   ]
  },
  {
   "cell_type": "markdown",
   "id": "dc9e0fd9-95af-45a2-91ab-f4f9f50d4058",
   "metadata": {},
   "source": [
    "Comparing the top 20 items that are reordered most frequently with the top 20 items that people put in their carts first."
   ]
  },
  {
   "cell_type": "code",
   "execution_count": 299,
   "id": "9468e421-8ba5-4c96-8ddf-aa89d9d2c42a",
   "metadata": {},
   "outputs": [
    {
     "data": {
      "text/html": [
       "<div>\n",
       "<style scoped>\n",
       "    .dataframe tbody tr th:only-of-type {\n",
       "        vertical-align: middle;\n",
       "    }\n",
       "\n",
       "    .dataframe tbody tr th {\n",
       "        vertical-align: top;\n",
       "    }\n",
       "\n",
       "    .dataframe thead th {\n",
       "        text-align: right;\n",
       "    }\n",
       "</style>\n",
       "<table border=\"1\" class=\"dataframe\">\n",
       "  <thead>\n",
       "    <tr style=\"text-align: right;\">\n",
       "      <th></th>\n",
       "      <th>product_id</th>\n",
       "      <th>product_name_top_reordered</th>\n",
       "      <th>how_often_first</th>\n",
       "      <th>product_name_first_in_cart</th>\n",
       "    </tr>\n",
       "  </thead>\n",
       "  <tbody>\n",
       "    <tr>\n",
       "      <th>0</th>\n",
       "      <td>24852</td>\n",
       "      <td>banana</td>\n",
       "      <td>15562.0</td>\n",
       "      <td>banana</td>\n",
       "    </tr>\n",
       "    <tr>\n",
       "      <th>1</th>\n",
       "      <td>13176</td>\n",
       "      <td>bag of organic bananas</td>\n",
       "      <td>11026.0</td>\n",
       "      <td>bag of organic bananas</td>\n",
       "    </tr>\n",
       "    <tr>\n",
       "      <th>2</th>\n",
       "      <td>21137</td>\n",
       "      <td>organic strawberries</td>\n",
       "      <td>3946.0</td>\n",
       "      <td>organic strawberries</td>\n",
       "    </tr>\n",
       "    <tr>\n",
       "      <th>3</th>\n",
       "      <td>21903</td>\n",
       "      <td>organic baby spinach</td>\n",
       "      <td>3336.0</td>\n",
       "      <td>organic baby spinach</td>\n",
       "    </tr>\n",
       "    <tr>\n",
       "      <th>4</th>\n",
       "      <td>47209</td>\n",
       "      <td>organic hass avocado</td>\n",
       "      <td>3390.0</td>\n",
       "      <td>organic hass avocado</td>\n",
       "    </tr>\n",
       "    <tr>\n",
       "      <th>5</th>\n",
       "      <td>47766</td>\n",
       "      <td>organic avocado</td>\n",
       "      <td>3044.0</td>\n",
       "      <td>organic avocado</td>\n",
       "    </tr>\n",
       "    <tr>\n",
       "      <th>6</th>\n",
       "      <td>27845</td>\n",
       "      <td>organic whole milk</td>\n",
       "      <td>4363.0</td>\n",
       "      <td>organic whole milk</td>\n",
       "    </tr>\n",
       "    <tr>\n",
       "      <th>7</th>\n",
       "      <td>47626</td>\n",
       "      <td>large lemon</td>\n",
       "      <td>1737.0</td>\n",
       "      <td>large lemon</td>\n",
       "    </tr>\n",
       "    <tr>\n",
       "      <th>8</th>\n",
       "      <td>27966</td>\n",
       "      <td>organic raspberries</td>\n",
       "      <td>2024.0</td>\n",
       "      <td>organic raspberries</td>\n",
       "    </tr>\n",
       "    <tr>\n",
       "      <th>9</th>\n",
       "      <td>16797</td>\n",
       "      <td>strawberries</td>\n",
       "      <td>2308.0</td>\n",
       "      <td>strawberries</td>\n",
       "    </tr>\n",
       "    <tr>\n",
       "      <th>10</th>\n",
       "      <td>26209</td>\n",
       "      <td>limes</td>\n",
       "      <td>1370.0</td>\n",
       "      <td>limes</td>\n",
       "    </tr>\n",
       "    <tr>\n",
       "      <th>11</th>\n",
       "      <td>22935</td>\n",
       "      <td>organic yellow onion</td>\n",
       "      <td>NaN</td>\n",
       "      <td>NaN</td>\n",
       "    </tr>\n",
       "    <tr>\n",
       "      <th>12</th>\n",
       "      <td>24964</td>\n",
       "      <td>organic garlic</td>\n",
       "      <td>NaN</td>\n",
       "      <td>NaN</td>\n",
       "    </tr>\n",
       "    <tr>\n",
       "      <th>13</th>\n",
       "      <td>45007</td>\n",
       "      <td>organic zucchini</td>\n",
       "      <td>NaN</td>\n",
       "      <td>NaN</td>\n",
       "    </tr>\n",
       "    <tr>\n",
       "      <th>14</th>\n",
       "      <td>49683</td>\n",
       "      <td>cucumber kirby</td>\n",
       "      <td>NaN</td>\n",
       "      <td>NaN</td>\n",
       "    </tr>\n",
       "    <tr>\n",
       "      <th>15</th>\n",
       "      <td>28204</td>\n",
       "      <td>organic fuji apple</td>\n",
       "      <td>NaN</td>\n",
       "      <td>NaN</td>\n",
       "    </tr>\n",
       "    <tr>\n",
       "      <th>16</th>\n",
       "      <td>8277</td>\n",
       "      <td>apple honeycrisp organic</td>\n",
       "      <td>NaN</td>\n",
       "      <td>NaN</td>\n",
       "    </tr>\n",
       "    <tr>\n",
       "      <th>17</th>\n",
       "      <td>39275</td>\n",
       "      <td>organic blueberries</td>\n",
       "      <td>NaN</td>\n",
       "      <td>NaN</td>\n",
       "    </tr>\n",
       "    <tr>\n",
       "      <th>18</th>\n",
       "      <td>5876</td>\n",
       "      <td>organic lemon</td>\n",
       "      <td>NaN</td>\n",
       "      <td>NaN</td>\n",
       "    </tr>\n",
       "    <tr>\n",
       "      <th>19</th>\n",
       "      <td>49235</td>\n",
       "      <td>organic half &amp; half</td>\n",
       "      <td>1797.0</td>\n",
       "      <td>organic half &amp; half</td>\n",
       "    </tr>\n",
       "  </tbody>\n",
       "</table>\n",
       "</div>"
      ],
      "text/plain": [
       "    product_id product_name_top_reordered  how_often_first  \\\n",
       "0        24852                     banana          15562.0   \n",
       "1        13176     bag of organic bananas          11026.0   \n",
       "2        21137       organic strawberries           3946.0   \n",
       "3        21903       organic baby spinach           3336.0   \n",
       "4        47209       organic hass avocado           3390.0   \n",
       "5        47766            organic avocado           3044.0   \n",
       "6        27845         organic whole milk           4363.0   \n",
       "7        47626                large lemon           1737.0   \n",
       "8        27966        organic raspberries           2024.0   \n",
       "9        16797               strawberries           2308.0   \n",
       "10       26209                      limes           1370.0   \n",
       "11       22935       organic yellow onion              NaN   \n",
       "12       24964             organic garlic              NaN   \n",
       "13       45007           organic zucchini              NaN   \n",
       "14       49683             cucumber kirby              NaN   \n",
       "15       28204         organic fuji apple              NaN   \n",
       "16        8277   apple honeycrisp organic              NaN   \n",
       "17       39275        organic blueberries              NaN   \n",
       "18        5876              organic lemon              NaN   \n",
       "19       49235        organic half & half           1797.0   \n",
       "\n",
       "   product_name_first_in_cart  \n",
       "0                      banana  \n",
       "1      bag of organic bananas  \n",
       "2        organic strawberries  \n",
       "3        organic baby spinach  \n",
       "4        organic hass avocado  \n",
       "5             organic avocado  \n",
       "6          organic whole milk  \n",
       "7                 large lemon  \n",
       "8         organic raspberries  \n",
       "9                strawberries  \n",
       "10                      limes  \n",
       "11                        NaN  \n",
       "12                        NaN  \n",
       "13                        NaN  \n",
       "14                        NaN  \n",
       "15                        NaN  \n",
       "16                        NaN  \n",
       "17                        NaN  \n",
       "18                        NaN  \n",
       "19        organic half & half  "
      ]
     },
     "execution_count": 299,
     "metadata": {},
     "output_type": "execute_result"
    }
   ],
   "source": [
    "reordered_vs_first=most_popular_items_sorted.merge(top_20_products, on=['product_id'], how='left', suffixes=['_top_reordered', '_first_in_cart'])\n",
    "reordered_vs_first"
   ]
  },
  {
   "cell_type": "code",
   "execution_count": 300,
   "id": "a3d6f11a-bbb3-4800-b724-6e24ea5ae436",
   "metadata": {},
   "outputs": [
    {
     "data": {
      "text/plain": [
       "12"
      ]
     },
     "execution_count": 300,
     "metadata": {},
     "output_type": "execute_result"
    }
   ],
   "source": [
    "reordered_vs_first['product_name_first_in_cart'].count()"
   ]
  },
  {
   "cell_type": "code",
   "execution_count": 301,
   "id": "9d974281-6eca-4b01-91e7-32912cba658e",
   "metadata": {},
   "outputs": [
    {
     "data": {
      "text/html": [
       "<div>\n",
       "<style scoped>\n",
       "    .dataframe tbody tr th:only-of-type {\n",
       "        vertical-align: middle;\n",
       "    }\n",
       "\n",
       "    .dataframe tbody tr th {\n",
       "        vertical-align: top;\n",
       "    }\n",
       "\n",
       "    .dataframe thead th {\n",
       "        text-align: right;\n",
       "    }\n",
       "</style>\n",
       "<table border=\"1\" class=\"dataframe\">\n",
       "  <thead>\n",
       "    <tr style=\"text-align: right;\">\n",
       "      <th></th>\n",
       "      <th>product_id</th>\n",
       "      <th>how_often_first</th>\n",
       "      <th>product_name_first_in_cart</th>\n",
       "      <th>product_name_top_reordered</th>\n",
       "    </tr>\n",
       "  </thead>\n",
       "  <tbody>\n",
       "    <tr>\n",
       "      <th>0</th>\n",
       "      <td>24852</td>\n",
       "      <td>15562</td>\n",
       "      <td>banana</td>\n",
       "      <td>banana</td>\n",
       "    </tr>\n",
       "    <tr>\n",
       "      <th>1</th>\n",
       "      <td>13176</td>\n",
       "      <td>11026</td>\n",
       "      <td>bag of organic bananas</td>\n",
       "      <td>bag of organic bananas</td>\n",
       "    </tr>\n",
       "    <tr>\n",
       "      <th>2</th>\n",
       "      <td>27845</td>\n",
       "      <td>4363</td>\n",
       "      <td>organic whole milk</td>\n",
       "      <td>organic whole milk</td>\n",
       "    </tr>\n",
       "    <tr>\n",
       "      <th>3</th>\n",
       "      <td>21137</td>\n",
       "      <td>3946</td>\n",
       "      <td>organic strawberries</td>\n",
       "      <td>organic strawberries</td>\n",
       "    </tr>\n",
       "    <tr>\n",
       "      <th>4</th>\n",
       "      <td>47209</td>\n",
       "      <td>3390</td>\n",
       "      <td>organic hass avocado</td>\n",
       "      <td>organic hass avocado</td>\n",
       "    </tr>\n",
       "    <tr>\n",
       "      <th>5</th>\n",
       "      <td>21903</td>\n",
       "      <td>3336</td>\n",
       "      <td>organic baby spinach</td>\n",
       "      <td>organic baby spinach</td>\n",
       "    </tr>\n",
       "    <tr>\n",
       "      <th>6</th>\n",
       "      <td>47766</td>\n",
       "      <td>3044</td>\n",
       "      <td>organic avocado</td>\n",
       "      <td>organic avocado</td>\n",
       "    </tr>\n",
       "    <tr>\n",
       "      <th>7</th>\n",
       "      <td>19660</td>\n",
       "      <td>2336</td>\n",
       "      <td>spring water</td>\n",
       "      <td>NaN</td>\n",
       "    </tr>\n",
       "    <tr>\n",
       "      <th>8</th>\n",
       "      <td>16797</td>\n",
       "      <td>2308</td>\n",
       "      <td>strawberries</td>\n",
       "      <td>strawberries</td>\n",
       "    </tr>\n",
       "    <tr>\n",
       "      <th>9</th>\n",
       "      <td>27966</td>\n",
       "      <td>2024</td>\n",
       "      <td>organic raspberries</td>\n",
       "      <td>organic raspberries</td>\n",
       "    </tr>\n",
       "    <tr>\n",
       "      <th>10</th>\n",
       "      <td>44632</td>\n",
       "      <td>1914</td>\n",
       "      <td>sparkling water grapefruit</td>\n",
       "      <td>NaN</td>\n",
       "    </tr>\n",
       "    <tr>\n",
       "      <th>11</th>\n",
       "      <td>49235</td>\n",
       "      <td>1797</td>\n",
       "      <td>organic half &amp; half</td>\n",
       "      <td>organic half &amp; half</td>\n",
       "    </tr>\n",
       "    <tr>\n",
       "      <th>12</th>\n",
       "      <td>47626</td>\n",
       "      <td>1737</td>\n",
       "      <td>large lemon</td>\n",
       "      <td>large lemon</td>\n",
       "    </tr>\n",
       "    <tr>\n",
       "      <th>13</th>\n",
       "      <td>196</td>\n",
       "      <td>1733</td>\n",
       "      <td>soda</td>\n",
       "      <td>NaN</td>\n",
       "    </tr>\n",
       "    <tr>\n",
       "      <th>14</th>\n",
       "      <td>38689</td>\n",
       "      <td>1397</td>\n",
       "      <td>organic reduced fat milk</td>\n",
       "      <td>NaN</td>\n",
       "    </tr>\n",
       "    <tr>\n",
       "      <th>15</th>\n",
       "      <td>26209</td>\n",
       "      <td>1370</td>\n",
       "      <td>limes</td>\n",
       "      <td>limes</td>\n",
       "    </tr>\n",
       "    <tr>\n",
       "      <th>16</th>\n",
       "      <td>12341</td>\n",
       "      <td>1340</td>\n",
       "      <td>hass avocados</td>\n",
       "      <td>NaN</td>\n",
       "    </tr>\n",
       "    <tr>\n",
       "      <th>17</th>\n",
       "      <td>5785</td>\n",
       "      <td>1310</td>\n",
       "      <td>organic reduced fat 2% milk</td>\n",
       "      <td>NaN</td>\n",
       "    </tr>\n",
       "    <tr>\n",
       "      <th>18</th>\n",
       "      <td>27086</td>\n",
       "      <td>1309</td>\n",
       "      <td>half &amp; half</td>\n",
       "      <td>NaN</td>\n",
       "    </tr>\n",
       "    <tr>\n",
       "      <th>19</th>\n",
       "      <td>43352</td>\n",
       "      <td>1246</td>\n",
       "      <td>raspberries</td>\n",
       "      <td>NaN</td>\n",
       "    </tr>\n",
       "  </tbody>\n",
       "</table>\n",
       "</div>"
      ],
      "text/plain": [
       "    product_id  how_often_first   product_name_first_in_cart  \\\n",
       "0        24852            15562                       banana   \n",
       "1        13176            11026       bag of organic bananas   \n",
       "2        27845             4363           organic whole milk   \n",
       "3        21137             3946         organic strawberries   \n",
       "4        47209             3390         organic hass avocado   \n",
       "5        21903             3336         organic baby spinach   \n",
       "6        47766             3044              organic avocado   \n",
       "7        19660             2336                 spring water   \n",
       "8        16797             2308                 strawberries   \n",
       "9        27966             2024          organic raspberries   \n",
       "10       44632             1914   sparkling water grapefruit   \n",
       "11       49235             1797          organic half & half   \n",
       "12       47626             1737                  large lemon   \n",
       "13         196             1733                         soda   \n",
       "14       38689             1397     organic reduced fat milk   \n",
       "15       26209             1370                        limes   \n",
       "16       12341             1340                hass avocados   \n",
       "17        5785             1310  organic reduced fat 2% milk   \n",
       "18       27086             1309                  half & half   \n",
       "19       43352             1246                  raspberries   \n",
       "\n",
       "   product_name_top_reordered  \n",
       "0                      banana  \n",
       "1      bag of organic bananas  \n",
       "2          organic whole milk  \n",
       "3        organic strawberries  \n",
       "4        organic hass avocado  \n",
       "5        organic baby spinach  \n",
       "6             organic avocado  \n",
       "7                         NaN  \n",
       "8                strawberries  \n",
       "9         organic raspberries  \n",
       "10                        NaN  \n",
       "11        organic half & half  \n",
       "12                large lemon  \n",
       "13                        NaN  \n",
       "14                        NaN  \n",
       "15                      limes  \n",
       "16                        NaN  \n",
       "17                        NaN  \n",
       "18                        NaN  \n",
       "19                        NaN  "
      ]
     },
     "execution_count": 301,
     "metadata": {},
     "output_type": "execute_result"
    }
   ],
   "source": [
    "first_vs_reordered = top_20_products.merge(most_popular_items_sorted, on=['product_id'], how='left', suffixes=['_first_in_cart', '_top_reordered'])\n",
    "first_vs_reordered"
   ]
  },
  {
   "cell_type": "markdown",
   "id": "c3ea7f00-8ad3-4ef6-8dd0-0c4294fa264c",
   "metadata": {},
   "source": [
    "<h2>Summary</h2> <a id='summary_6'></a>\n",
    "\n",
    "The shopping habits of Instacart customers:\n",
    "\n",
    "- People typically buy 8 items in one order.\n",
    "- Most orders consist of a small amount of items, and fewer orders contain lots of items.\n",
    "- For each product, the proportion of its orders as reorders is calculated. \\\n",
    "  This can be used for detecting the most popular products.\n",
    "- For each customer, the products reorder rate is calculated. \\\n",
    "  This is useful for customizing advertisements for customers, based on the products that they reorder most frequently.\n",
    "- 12 out of 20 most frequently reordered products are also the products that people put in their cart first.\n",
    "- People reorder some vegetables pretty frequently, but they are not their first choice when shopping.\n",
    "- The 2 most reordered products are also the products that are added to the cart first: banana and bag of organic bananas.\n",
    "- The first top 7 products that are reordered most frequently, and also added first to the cart.\n",
    "\n",
    "[Back to Contents](#back)"
   ]
  },
  {
   "cell_type": "markdown",
   "id": "cefeefe9-59b3-4379-9387-a4e1f5623ffd",
   "metadata": {},
   "source": [
    "<h1>Findings</h1> <a id='findings'></a>\n",
    "\n",
    "The analysis shows the following trends in the shopping habits of Instacart customers:\n",
    "\n",
    "1. For the amount of orders:\n",
    "- Most customers place 1 to 4 orders, with only a small amount of customers making more than 50 orders.\n",
    "- As the number of orders rises, the number of unique customers per order amount drops.\n",
    "- Most orders consist of a small amount of items, and fewer orders contain lots of items.\n",
    "- Customers typically buy 8 items in one order.\n",
    "- There is a difference in the number of orders during Wednesdays and Saturdays:\n",
    "    - on Saturdays there are more orders than on Wednesdays in general,\n",
    "    - on Saturdays there are more orders during the day, and on Wednesdays during the morning and evening hours.\n",
    "\n",
    "2. For the shopping time:\n",
    "- Most customers make purchases on Sundays and Mondays, and from 10 till 16 o'clock.\n",
    "- The order window for Wednesdays and Saturdays is the same: from 10 till 16 o'clock.\n",
    "- The least number of orders is placed on Wednesdays and Thursdays, and between 2 and 4 at night.\n",
    "- On average people shop around 13 o'clock on Wednesdays and Saturdays.\n",
    "- The majority of people waits for 30 days until placing their next order.\n",
    "- At the same time, the number of orders placed on the same day is the third highest among the total number of orders.\n",
    "- Half of the customers waits for 7 days before making a new purchase.\n",
    "\n",
    "3. For the product preferences:\n",
    "- 12 out of 20 most frequently reordered products are also the products that people put in their cart first.\n",
    "- People reorder some vegetables pretty frequently, but they are not their first choice when shopping.\n",
    "- The 2 most reordered products are also the products that are added to the cart first: banana and bag of organic bananas.\n",
    "- The first top 7 products that are reordered most frequently, and also added first to the cart.\n",
    "\n",
    "[Back to Contents](#back)"
   ]
  }
 ],
 "metadata": {
  "kernelspec": {
   "display_name": "Python 3 (ipykernel)",
   "language": "python",
   "name": "python3"
  },
  "language_info": {
   "codemirror_mode": {
    "name": "ipython",
    "version": 3
   },
   "file_extension": ".py",
   "mimetype": "text/x-python",
   "name": "python",
   "nbconvert_exporter": "python",
   "pygments_lexer": "ipython3",
   "version": "3.11.7"
  }
 },
 "nbformat": 4,
 "nbformat_minor": 5
}
